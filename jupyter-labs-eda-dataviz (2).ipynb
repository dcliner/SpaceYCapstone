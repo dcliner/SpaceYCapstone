{
 "cells":[
  {
   "cell_type":"markdown",
   "source":[
    "<p style=\"text-align:center\">\n",
    "    <a href=\"https:\/\/skills.network\/?utm_medium=Exinfluencer&utm_source=Exinfluencer&utm_content=000026UJ&utm_term=10006555&utm_id=NA-SkillsNetwork-Channel-SkillsNetworkCoursesIBMDS0321ENSkillsNetwork26802033-2022-01-01\" target=\"_blank\">\n",
    "    <img src=\"https:\/\/cf-courses-data.s3.us.cloud-object-storage.appdomain.cloud\/assets\/logos\/SN_web_lightmode.png\" width=\"200\" alt=\"Skills Network Logo\"  \/>\n",
    "    <\/a>\n",
    "<\/p>"
   ],
   "attachments":{
    
   },
   "metadata":{
    "datalore":{
     "node_id":"knVHu8D1CHZiKW9fb23UP4",
     "type":"MD",
     "hide_input_from_viewers":false,
     "hide_output_from_viewers":false,
     "report_properties":{
      
     }
    }
   }
  },
  {
   "cell_type":"markdown",
   "source":[
    "# **SpaceX  Falcon 9 First Stage Landing Prediction**"
   ],
   "attachments":{
    
   },
   "metadata":{
    "datalore":{
     "node_id":"NaL3yglFaN9EWEpbWu3xdQ",
     "type":"MD",
     "hide_input_from_viewers":false,
     "hide_output_from_viewers":false,
     "report_properties":{
      
     }
    }
   }
  },
  {
   "cell_type":"markdown",
   "source":[
    "## Assignment: Exploring and Preparing Data"
   ],
   "attachments":{
    
   },
   "metadata":{
    "datalore":{
     "node_id":"uWudMTQN9kTHEp2NPZxCBc",
     "type":"MD",
     "hide_input_from_viewers":false,
     "hide_output_from_viewers":false,
     "report_properties":{
      
     }
    }
   }
  },
  {
   "cell_type":"markdown",
   "source":[
    "Estimated time needed: **70** minutes"
   ],
   "attachments":{
    
   },
   "metadata":{
    "datalore":{
     "node_id":"LViBXu5g7awdWXgY7VICYD",
     "type":"MD",
     "hide_input_from_viewers":false,
     "hide_output_from_viewers":false,
     "report_properties":{
      
     }
    }
   }
  },
  {
   "cell_type":"markdown",
   "source":[
    "In this assignment, we will predict if the Falcon 9 first stage will land successfully. SpaceX advertises Falcon 9 rocket launches on its website with a cost of 62 million dollars; other providers cost upward of 165 million dollars each, much of the savings is due to the fact that SpaceX can reuse the first stage.\n",
    "\n",
    "In this lab, you will perform Exploratory Data Analysis and Feature Engineering."
   ],
   "attachments":{
    
   },
   "metadata":{
    "datalore":{
     "node_id":"jWvCqup60Kwus9kRXGKqfx",
     "type":"MD",
     "hide_input_from_viewers":false,
     "hide_output_from_viewers":false,
     "report_properties":{
      
     }
    }
   }
  },
  {
   "cell_type":"markdown",
   "source":[
    "Falcon 9 first stage will land successfully"
   ],
   "attachments":{
    
   },
   "metadata":{
    "datalore":{
     "node_id":"iMwHTC70YKwp3F9fzyyyRx",
     "type":"MD",
     "hide_input_from_viewers":false,
     "hide_output_from_viewers":false,
     "report_properties":{
      
     }
    }
   }
  },
  {
   "cell_type":"markdown",
   "source":[
    "![](https:\/\/cf-courses-data.s3.us.cloud-object-storage.appdomain.cloud\/IBMDeveloperSkillsNetwork-DS0701EN-SkillsNetwork\/api\/Images\/landing\\_1.gif)"
   ],
   "attachments":{
    
   },
   "metadata":{
    "datalore":{
     "node_id":"zddpFL1gHIpHkV0cVrBdAz",
     "type":"MD",
     "hide_input_from_viewers":false,
     "hide_output_from_viewers":false,
     "report_properties":{
      
     }
    }
   }
  },
  {
   "cell_type":"markdown",
   "source":[
    "Several examples of an unsuccessful landing are shown here:"
   ],
   "attachments":{
    
   },
   "metadata":{
    "datalore":{
     "node_id":"ZBE6kY7JI3DerTMyordTft",
     "type":"MD",
     "hide_input_from_viewers":false,
     "hide_output_from_viewers":false,
     "report_properties":{
      
     }
    }
   }
  },
  {
   "cell_type":"markdown",
   "source":[
    "![](https:\/\/cf-courses-data.s3.us.cloud-object-storage.appdomain.cloud\/IBMDeveloperSkillsNetwork-DS0701EN-SkillsNetwork\/api\/Images\/crash.gif)"
   ],
   "attachments":{
    
   },
   "metadata":{
    "datalore":{
     "node_id":"scTvn5I6pb8FYI0DVJzKJ4",
     "type":"MD",
     "hide_input_from_viewers":false,
     "hide_output_from_viewers":false,
     "report_properties":{
      
     }
    }
   }
  },
  {
   "cell_type":"markdown",
   "source":[
    "Most unsuccessful landings are planned. Space X performs a controlled landing in the oceans."
   ],
   "attachments":{
    
   },
   "metadata":{
    "datalore":{
     "node_id":"nDlFnRnyn8qyOxh8aQPKKw",
     "type":"MD",
     "hide_input_from_viewers":false,
     "hide_output_from_viewers":false,
     "report_properties":{
      
     }
    }
   }
  },
  {
   "cell_type":"markdown",
   "source":[
    "## Objectives\n",
    "\n",
    "Perform exploratory Data Analysis and Feature Engineering using `Pandas` and `Matplotlib`\n",
    "\n",
    "*   Exploratory Data Analysis\n",
    "*   Preparing Data  Feature Engineering"
   ],
   "attachments":{
    
   },
   "metadata":{
    "datalore":{
     "node_id":"g4AMww3JFfV2SzVwzwnov3",
     "type":"MD",
     "hide_input_from_viewers":false,
     "hide_output_from_viewers":false,
     "report_properties":{
      
     }
    }
   }
  },
  {
   "cell_type":"markdown",
   "source":[
    "***"
   ],
   "attachments":{
    
   },
   "metadata":{
    "datalore":{
     "node_id":"GxWjkEPk6EeVWx481B8Wzp",
     "type":"MD",
     "hide_input_from_viewers":false,
     "hide_output_from_viewers":false,
     "report_properties":{
      
     }
    }
   }
  },
  {
   "cell_type":"markdown",
   "source":[
    "### Import Libraries and Define Auxiliary Functions"
   ],
   "attachments":{
    
   },
   "metadata":{
    "datalore":{
     "node_id":"Xa42UdkEaOIwt62KxVxi8v",
     "type":"MD",
     "hide_input_from_viewers":false,
     "hide_output_from_viewers":false,
     "report_properties":{
      
     }
    }
   }
  },
  {
   "cell_type":"markdown",
   "source":[
    "We will import the following libraries the lab"
   ],
   "attachments":{
    
   },
   "metadata":{
    "datalore":{
     "node_id":"KKU5DJNIhs6YjaimLIvedV",
     "type":"MD",
     "hide_input_from_viewers":false,
     "hide_output_from_viewers":false,
     "report_properties":{
      
     }
    }
   }
  },
  {
   "cell_type":"code",
   "source":[
    "# andas is a software library written for the Python programming language for data manipulation and analysis.\n",
    "import pandas as pd\n",
    "#NumPy is a library for the Python programming language, adding support for large, multi-dimensional arrays and matrices, along with a large collection of high-level mathematical functions to operate on these arrays\n",
    "import numpy as np\n",
    "# Matplotlib is a plotting library for python and pyplot gives us a MatLab like plotting framework. We will use this in our plotter function to plot data.\n",
    "import matplotlib.pyplot as plt\n",
    "#Seaborn is a Python data visualization library based on matplotlib. It provides a high-level interface for drawing attractive and informative statistical graphics\n",
    "import seaborn as sns"
   ],
   "execution_count":10,
   "outputs":[
    
   ],
   "metadata":{
    "datalore":{
     "node_id":"QcJ6JBpWyedgWmDDw19ztm",
     "type":"CODE",
     "hide_input_from_viewers":false,
     "hide_output_from_viewers":false,
     "report_properties":{
      
     }
    }
   }
  },
  {
   "cell_type":"markdown",
   "source":[
    "## Exploratory Data Analysis"
   ],
   "attachments":{
    
   },
   "metadata":{
    "datalore":{
     "node_id":"4YOg9xxHOZbluEmpSSgoDG",
     "type":"MD",
     "hide_input_from_viewers":false,
     "hide_output_from_viewers":false,
     "report_properties":{
      
     }
    }
   }
  },
  {
   "cell_type":"markdown",
   "source":[
    "First, let's read the SpaceX dataset into a Pandas dataframe and print its summary"
   ],
   "attachments":{
    
   },
   "metadata":{
    "datalore":{
     "node_id":"KLnrW6OCPIOeRiN0lnG0gh",
     "type":"MD",
     "hide_input_from_viewers":false,
     "hide_output_from_viewers":false,
     "report_properties":{
      
     }
    }
   }
  },
  {
   "cell_type":"code",
   "source":[
    "df=pd.read_csv(\"https:\/\/cf-courses-data.s3.us.cloud-object-storage.appdomain.cloud\/IBM-DS0321EN-SkillsNetwork\/datasets\/dataset_part_2.csv\")\n",
    "\n",
    "# If you were unable to complete the previous lab correctly you can uncomment and load this csv\n",
    "\n",
    "# df = pd.read_csv('https:\/\/cf-courses-data.s3.us.cloud-object-storage.appdomain.cloud\/IBMDeveloperSkillsNetwork-DS0701EN-SkillsNetwork\/api\/dataset_part_2.csv')\n",
    "\n",
    "df.head(5)"
   ],
   "execution_count":2,
   "outputs":[
    {
     "data":{
      "text\/html":[
       "<div>\n",
       "<style scoped>\n",
       "    .dataframe tbody tr th:only-of-type {\n",
       "        vertical-align: middle;\n",
       "    }\n",
       "\n",
       "    .dataframe tbody tr th {\n",
       "        vertical-align: top;\n",
       "    }\n",
       "\n",
       "    .dataframe thead th {\n",
       "        text-align: right;\n",
       "    }\n",
       "<\/style>\n",
       "<table border=\"1\" class=\"dataframe\">\n",
       "  <thead>\n",
       "    <tr style=\"text-align: right;\">\n",
       "      <th><\/th>\n",
       "      <th>FlightNumber<\/th>\n",
       "      <th>Date<\/th>\n",
       "      <th>BoosterVersion<\/th>\n",
       "      <th>PayloadMass<\/th>\n",
       "      <th>Orbit<\/th>\n",
       "      <th>LaunchSite<\/th>\n",
       "      <th>Outcome<\/th>\n",
       "      <th>Flights<\/th>\n",
       "      <th>GridFins<\/th>\n",
       "      <th>Reused<\/th>\n",
       "      <th>Legs<\/th>\n",
       "      <th>LandingPad<\/th>\n",
       "      <th>Block<\/th>\n",
       "      <th>ReusedCount<\/th>\n",
       "      <th>Serial<\/th>\n",
       "      <th>Longitude<\/th>\n",
       "      <th>Latitude<\/th>\n",
       "      <th>Class<\/th>\n",
       "    <\/tr>\n",
       "  <\/thead>\n",
       "  <tbody>\n",
       "    <tr>\n",
       "      <th>0<\/th>\n",
       "      <td>1<\/td>\n",
       "      <td>2010-06-04<\/td>\n",
       "      <td>Falcon 9<\/td>\n",
       "      <td>6104.959412<\/td>\n",
       "      <td>LEO<\/td>\n",
       "      <td>CCAFS SLC 40<\/td>\n",
       "      <td>None None<\/td>\n",
       "      <td>1<\/td>\n",
       "      <td>False<\/td>\n",
       "      <td>False<\/td>\n",
       "      <td>False<\/td>\n",
       "      <td>NaN<\/td>\n",
       "      <td>1.0<\/td>\n",
       "      <td>0<\/td>\n",
       "      <td>B0003<\/td>\n",
       "      <td>-80.577366<\/td>\n",
       "      <td>28.561857<\/td>\n",
       "      <td>0<\/td>\n",
       "    <\/tr>\n",
       "    <tr>\n",
       "      <th>1<\/th>\n",
       "      <td>2<\/td>\n",
       "      <td>2012-05-22<\/td>\n",
       "      <td>Falcon 9<\/td>\n",
       "      <td>525.000000<\/td>\n",
       "      <td>LEO<\/td>\n",
       "      <td>CCAFS SLC 40<\/td>\n",
       "      <td>None None<\/td>\n",
       "      <td>1<\/td>\n",
       "      <td>False<\/td>\n",
       "      <td>False<\/td>\n",
       "      <td>False<\/td>\n",
       "      <td>NaN<\/td>\n",
       "      <td>1.0<\/td>\n",
       "      <td>0<\/td>\n",
       "      <td>B0005<\/td>\n",
       "      <td>-80.577366<\/td>\n",
       "      <td>28.561857<\/td>\n",
       "      <td>0<\/td>\n",
       "    <\/tr>\n",
       "    <tr>\n",
       "      <th>2<\/th>\n",
       "      <td>3<\/td>\n",
       "      <td>2013-03-01<\/td>\n",
       "      <td>Falcon 9<\/td>\n",
       "      <td>677.000000<\/td>\n",
       "      <td>ISS<\/td>\n",
       "      <td>CCAFS SLC 40<\/td>\n",
       "      <td>None None<\/td>\n",
       "      <td>1<\/td>\n",
       "      <td>False<\/td>\n",
       "      <td>False<\/td>\n",
       "      <td>False<\/td>\n",
       "      <td>NaN<\/td>\n",
       "      <td>1.0<\/td>\n",
       "      <td>0<\/td>\n",
       "      <td>B0007<\/td>\n",
       "      <td>-80.577366<\/td>\n",
       "      <td>28.561857<\/td>\n",
       "      <td>0<\/td>\n",
       "    <\/tr>\n",
       "    <tr>\n",
       "      <th>3<\/th>\n",
       "      <td>4<\/td>\n",
       "      <td>2013-09-29<\/td>\n",
       "      <td>Falcon 9<\/td>\n",
       "      <td>500.000000<\/td>\n",
       "      <td>PO<\/td>\n",
       "      <td>VAFB SLC 4E<\/td>\n",
       "      <td>False Ocean<\/td>\n",
       "      <td>1<\/td>\n",
       "      <td>False<\/td>\n",
       "      <td>False<\/td>\n",
       "      <td>False<\/td>\n",
       "      <td>NaN<\/td>\n",
       "      <td>1.0<\/td>\n",
       "      <td>0<\/td>\n",
       "      <td>B1003<\/td>\n",
       "      <td>-120.610829<\/td>\n",
       "      <td>34.632093<\/td>\n",
       "      <td>0<\/td>\n",
       "    <\/tr>\n",
       "    <tr>\n",
       "      <th>4<\/th>\n",
       "      <td>5<\/td>\n",
       "      <td>2013-12-03<\/td>\n",
       "      <td>Falcon 9<\/td>\n",
       "      <td>3170.000000<\/td>\n",
       "      <td>GTO<\/td>\n",
       "      <td>CCAFS SLC 40<\/td>\n",
       "      <td>None None<\/td>\n",
       "      <td>1<\/td>\n",
       "      <td>False<\/td>\n",
       "      <td>False<\/td>\n",
       "      <td>False<\/td>\n",
       "      <td>NaN<\/td>\n",
       "      <td>1.0<\/td>\n",
       "      <td>0<\/td>\n",
       "      <td>B1004<\/td>\n",
       "      <td>-80.577366<\/td>\n",
       "      <td>28.561857<\/td>\n",
       "      <td>0<\/td>\n",
       "    <\/tr>\n",
       "  <\/tbody>\n",
       "<\/table>\n",
       "<\/div>"
      ]
     },
     "metadata":{
      
     },
     "output_type":"display_data"
    }
   ],
   "metadata":{
    "datalore":{
     "node_id":"V214QDPoT1sqphyzYQTZwR",
     "type":"CODE",
     "hide_input_from_viewers":false,
     "hide_output_from_viewers":false,
     "report_properties":{
      
     }
    }
   }
  },
  {
   "cell_type":"markdown",
   "source":[
    "First, let's try to see how the `FlightNumber` (indicating the continuous launch attempts.) and `Payload` variables would affect the launch outcome.\n",
    "\n",
    "We can plot out the <code>FlightNumber<\/code> vs. <code>PayloadMass<\/code>and overlay the outcome of the launch. We see that as the flight number increases, the first stage is more likely to land successfully. The payload mass is also important; it seems the more massive the payload, the less likely the first stage will return."
   ],
   "attachments":{
    
   },
   "metadata":{
    "datalore":{
     "node_id":"ifrxvPWD4F9Bv7d6QBeFd0",
     "type":"MD",
     "hide_input_from_viewers":false,
     "hide_output_from_viewers":false,
     "report_properties":{
      
     }
    }
   }
  },
  {
   "cell_type":"code",
   "source":[
    "sns.catplot(y=\"PayloadMass\", x=\"FlightNumber\", hue=\"Class\", data=df, aspect = 5)\n",
    "plt.xlabel(\"Flight Number\",fontsize=20)\n",
    "plt.ylabel(\"Pay load Mass (kg)\",fontsize=20)\n",
    "plt.show()"
   ],
   "execution_count":3,
   "outputs":[
    {
     "data":{
      "image\/png":"[encoded data removed]"
     },
     "metadata":{
      "image\/png":{
       
      }
     },
     "output_type":"display_data"
    }
   ],
   "metadata":{
    "datalore":{
     "node_id":"2daF6GZkbEWbZkAiVmUnao",
     "type":"CODE",
     "hide_input_from_viewers":false,
     "hide_output_from_viewers":false,
     "report_properties":{
      
     }
    }
   }
  },
  {
   "cell_type":"markdown",
   "source":[
    "We see that different launch sites have different success rates.  <code>CCAFS LC-40<\/code>, has a success rate of 60 %, while  <code>KSC LC-39A<\/code> and <code>VAFB SLC 4E<\/code> has a success rate of 77%."
   ],
   "attachments":{
    
   },
   "metadata":{
    "datalore":{
     "node_id":"Y7QUz3NFuzxvL7HHEu54Qs",
     "type":"MD",
     "hide_input_from_viewers":false,
     "hide_output_from_viewers":false,
     "report_properties":{
      
     }
    }
   }
  },
  {
   "cell_type":"markdown",
   "source":[
    "Next, let's drill down to each site visualize its detailed launch records."
   ],
   "attachments":{
    
   },
   "metadata":{
    "datalore":{
     "node_id":"gL10zCS3rnRJA9ArzOuPn5",
     "type":"MD",
     "hide_input_from_viewers":false,
     "hide_output_from_viewers":false,
     "report_properties":{
      
     }
    }
   }
  },
  {
   "cell_type":"markdown",
   "source":[
    "### TASK 1: Visualize the relationship between Flight Number and Launch Site"
   ],
   "attachments":{
    
   },
   "metadata":{
    "datalore":{
     "node_id":"q7GiYZh44RcvkBgYlwDFug",
     "type":"MD",
     "hide_input_from_viewers":false,
     "hide_output_from_viewers":false,
     "report_properties":{
      
     }
    }
   }
  },
  {
   "cell_type":"markdown",
   "source":[
    "Use the function <code>catplot<\/code> to plot <code>FlightNumber<\/code> vs <code>LaunchSite<\/code>, set the  parameter <code>x<\/code>  parameter to <code>FlightNumber<\/code>,set the  <code>y<\/code> to <code>Launch Site<\/code> and set the parameter <code>hue<\/code> to <code>'class'<\/code>"
   ],
   "attachments":{
    
   },
   "metadata":{
    "datalore":{
     "node_id":"KScHrvhyj9h6EIkl4VMBEL",
     "type":"MD",
     "hide_input_from_viewers":false,
     "hide_output_from_viewers":false,
     "report_properties":{
      
     }
    }
   }
  },
  {
   "cell_type":"code",
   "source":[
    "# Plot a scatter point chart with x axis to be Flight Number and y axis to be the launch site, and hue to be the class value\n",
    "sns.catplot(y=\"LaunchSite\", x=\"FlightNumber\", hue=\"Class\", data=df, aspect = 5)\n",
    "plt.xlabel(\"Flight Number\",fontsize=20)\n",
    "plt.ylabel(\"LaunchSite\",fontsize=20)\n",
    "plt.show()"
   ],
   "execution_count":4,
   "outputs":[
    {
     "data":{
      "image\/png":"[encoded data removed]"
     },
     "metadata":{
      "image\/png":{
       
      }
     },
     "output_type":"display_data"
    }
   ],
   "metadata":{
    "datalore":{
     "node_id":"7jIxlsYQsxopY5NSTgiM1r",
     "type":"CODE",
     "hide_input_from_viewers":false,
     "hide_output_from_viewers":false,
     "report_properties":{
      
     }
    }
   }
  },
  {
   "cell_type":"markdown",
   "source":[
    "Now try to explain the patterns you found in the Flight Number vs. Launch Site scatter point plots."
   ],
   "attachments":{
    
   },
   "metadata":{
    "datalore":{
     "node_id":"84xwmfaS8EjnkQr7yeU9cM",
     "type":"MD",
     "hide_input_from_viewers":false,
     "hide_output_from_viewers":false,
     "report_properties":{
      
     }
    }
   }
  },
  {
   "cell_type":"markdown",
   "source":[
    "### TASK 2: Visualize the relationship between Payload and Launch Site"
   ],
   "attachments":{
    
   },
   "metadata":{
    "datalore":{
     "node_id":"nV7Hwjvlzm2aUucVIQoLNi",
     "type":"MD",
     "hide_input_from_viewers":false,
     "hide_output_from_viewers":false,
     "report_properties":{
      
     }
    }
   }
  },
  {
   "cell_type":"markdown",
   "source":[
    "We also want to observe if there is any relationship between launch sites and their payload mass."
   ],
   "attachments":{
    
   },
   "metadata":{
    "datalore":{
     "node_id":"8QOJN7nbjWGouMRGdhh2yg",
     "type":"MD",
     "hide_input_from_viewers":false,
     "hide_output_from_viewers":false,
     "report_properties":{
      
     }
    }
   }
  },
  {
   "cell_type":"code",
   "source":[
    "# Plot a scatter point chart with x axis to be Pay Load Mass (kg) and y axis to be the launch site, and hue to be the class value\n",
    "sns.catplot(y=\"LaunchSite\", x=\"PayloadMass\", hue=\"Class\", data = df, aspect = 5)\n",
    "plt.xlabel(\"PayloadMass\",fontsize =20)\n",
    "plt.ylabel(\"LaunchSite\",fontsize=20)\n",
    "plt.show()"
   ],
   "execution_count":5,
   "outputs":[
    {
     "data":{
      "image\/png":"[encoded data removed]"
     },
     "metadata":{
      "image\/png":{
       
      }
     },
     "output_type":"display_data"
    }
   ],
   "metadata":{
    "datalore":{
     "node_id":"zXsboVpyElNAQ4ouuCr3D5",
     "type":"CODE",
     "hide_input_from_viewers":false,
     "hide_output_from_viewers":false,
     "report_properties":{
      
     }
    }
   }
  },
  {
   "cell_type":"markdown",
   "source":[
    "Now if you observe Payload Vs. Launch Site scatter point chart you will find for the VAFB-SLC  launchsite there are no  rockets  launched for  heavypayload mass(greater than 10000)."
   ],
   "attachments":{
    
   },
   "metadata":{
    "datalore":{
     "node_id":"Q1PQNZdgjj0vbJNVwfc5J6",
     "type":"MD",
     "hide_input_from_viewers":false,
     "hide_output_from_viewers":false,
     "report_properties":{
      
     }
    }
   }
  },
  {
   "cell_type":"markdown",
   "source":[
    "### TASK  3: Visualize the relationship between success rate of each orbit type"
   ],
   "attachments":{
    
   },
   "metadata":{
    "datalore":{
     "node_id":"Eecx8gjGW7sumIrtcKu4tO",
     "type":"MD",
     "hide_input_from_viewers":false,
     "hide_output_from_viewers":false,
     "report_properties":{
      
     }
    }
   }
  },
  {
   "cell_type":"markdown",
   "source":[
    "Next, we want to visually check if there are any relationship between success rate and orbit type."
   ],
   "attachments":{
    
   },
   "metadata":{
    "datalore":{
     "node_id":"E4IA5HByebWmeqXWIZENaA",
     "type":"MD",
     "hide_input_from_viewers":false,
     "hide_output_from_viewers":false,
     "report_properties":{
      
     }
    }
   }
  },
  {
   "cell_type":"markdown",
   "source":[
    "Let's create a `bar chart` for the sucess rate of each orbit"
   ],
   "attachments":{
    
   },
   "metadata":{
    "datalore":{
     "node_id":"ETxBAcUQ6YZbN9XW2GWzHp",
     "type":"MD",
     "hide_input_from_viewers":false,
     "hide_output_from_viewers":false,
     "report_properties":{
      
     }
    }
   }
  },
  {
   "cell_type":"code",
   "source":[
    "Class = df['Class']\n",
    "Class\n",
    "Class_mean = Class.mean()\n",
    "Class_mean"
   ],
   "execution_count":6,
   "outputs":[
    {
     "data":{
      "text\/plain":[
       "0.6666666666666666"
      ]
     },
     "metadata":{
      
     },
     "output_type":"display_data"
    }
   ],
   "metadata":{
    "datalore":{
     "node_id":"eC43Bqlqw1hQ1PI86WF7dr",
     "type":"CODE",
     "hide_input_from_viewers":false,
     "hide_output_from_viewers":false,
     "report_properties":{
      
     }
    }
   }
  },
  {
   "cell_type":"code",
   "source":[
    "# HINT use groupby method on Orbit column and get the mean of Class column\n",
    "df_Oribi_groups = df.groupby('Orbit').mean()\n",
    "df_Oribi_groups.reset_index(inplace=True)\n",
    "sns.barplot(x=\"Orbit\",y=\"Class\",data=df_Oribi_groups,hue='Class')"
   ],
   "execution_count":7,
   "outputs":[
    {
     "data":{
      "text\/plain":[
       "<AxesSubplot:xlabel='Orbit', ylabel='Class'>"
      ]
     },
     "metadata":{
      
     },
     "output_type":"display_data"
    },
    {
     "data":{
      "image\/png":"[encoded data removed]"
     },
     "metadata":{
      "image\/png":{
       
      }
     },
     "output_type":"display_data"
    }
   ],
   "metadata":{
    "datalore":{
     "node_id":"G8NS6HU6mANCUavEo21rJx",
     "type":"CODE",
     "hide_input_from_viewers":false,
     "hide_output_from_viewers":false,
     "report_properties":{
      
     }
    }
   }
  },
  {
   "cell_type":"markdown",
   "source":[
    "Analyze the ploted bar chart try to find which orbits have high sucess rate."
   ],
   "attachments":{
    
   },
   "metadata":{
    "datalore":{
     "node_id":"OLMVTQRTke1HlQz3mEeUhP",
     "type":"MD",
     "hide_input_from_viewers":false,
     "hide_output_from_viewers":false,
     "report_properties":{
      
     }
    }
   }
  },
  {
   "cell_type":"markdown",
   "source":[
    "### TASK  4: Visualize the relationship between FlightNumber and Orbit type"
   ],
   "attachments":{
    
   },
   "metadata":{
    "datalore":{
     "node_id":"A4rS6E6STXp7uoiT49uQmh",
     "type":"MD",
     "hide_input_from_viewers":false,
     "hide_output_from_viewers":false,
     "report_properties":{
      
     }
    }
   }
  },
  {
   "cell_type":"markdown",
   "source":[
    "For each orbit, we want to see if there is any relationship between FlightNumber and Orbit type."
   ],
   "attachments":{
    
   },
   "metadata":{
    "datalore":{
     "node_id":"4ALVwt3nUCGVQaMz2yEkGl",
     "type":"MD",
     "hide_input_from_viewers":false,
     "hide_output_from_viewers":false,
     "report_properties":{
      
     }
    }
   }
  },
  {
   "cell_type":"code",
   "source":[
    "# Plot a scatter point chart with x axis to be FlightNumber and y axis to be the Orbit, and hue to be the class value\n",
    "sns.catplot(y=\"Orbit\", x=\"FlightNumber\", hue=\"Class\", data = df)\n",
    "plt.xlabel(\"FlightNumber\",fontsize =20)\n",
    "plt.ylabel(\"Orbit\",fontsize=20)\n",
    "plt.show()"
   ],
   "execution_count":8,
   "outputs":[
    {
     "data":{
      "image\/png":"[encoded data removed]"
     },
     "metadata":{
      "image\/png":{
       
      }
     },
     "output_type":"display_data"
    }
   ],
   "metadata":{
    "datalore":{
     "node_id":"9uUXkGSSDAPqCWRfeEqF6f",
     "type":"CODE",
     "hide_input_from_viewers":false,
     "hide_output_from_viewers":false,
     "report_properties":{
      
     }
    }
   }
  },
  {
   "cell_type":"markdown",
   "source":[
    "You should see that in the LEO orbit the Success appears related to the number of flights; on the other hand, there seems to be no relationship between flight number when in GTO orbit."
   ],
   "attachments":{
    
   },
   "metadata":{
    "datalore":{
     "node_id":"lCS3QeDIBrjVx1exgnWQdT",
     "type":"MD",
     "hide_input_from_viewers":false,
     "hide_output_from_viewers":false,
     "report_properties":{
      
     }
    }
   }
  },
  {
   "cell_type":"markdown",
   "source":[
    "### TASK  5: Visualize the relationship between Payload and Orbit type"
   ],
   "attachments":{
    
   },
   "metadata":{
    "datalore":{
     "node_id":"P293U14mUnq1EqnPuT3EAs",
     "type":"MD",
     "hide_input_from_viewers":false,
     "hide_output_from_viewers":false,
     "report_properties":{
      
     }
    }
   }
  },
  {
   "cell_type":"markdown",
   "source":[
    "Similarly, we can plot the Payload vs. Orbit scatter point charts to reveal the relationship between Payload and Orbit type"
   ],
   "attachments":{
    
   },
   "metadata":{
    "datalore":{
     "node_id":"lDXvFceFl561OhOiqUb2A6",
     "type":"MD",
     "hide_input_from_viewers":false,
     "hide_output_from_viewers":false,
     "report_properties":{
      
     }
    }
   }
  },
  {
   "cell_type":"code",
   "source":[
    "# Plot a scatter point chart with x axis to be Payload and y axis to be the Orbit, and hue to be the class value\n",
    "sns.catplot( x=\"PayloadMass\",y=\"Orbit\", data = df, hue=\"Class\")\n",
    "plt.xlabel(\"Payload\",fontsize =20)\n",
    "plt.ylabel(\"Orbit\",fontsize=20)\n",
    "plt.show()"
   ],
   "execution_count":11,
   "outputs":[
    {
     "data":{
      "image\/png":"[encoded data removed]"
     },
     "metadata":{
      "image\/png":{
       
      }
     },
     "output_type":"display_data"
    }
   ],
   "metadata":{
    "datalore":{
     "node_id":"VmzTeosGU56vt78ApPH9Ex",
     "type":"CODE",
     "hide_input_from_viewers":false,
     "hide_output_from_viewers":false,
     "report_properties":{
      
     }
    }
   }
  },
  {
   "cell_type":"markdown",
   "source":[
    "With heavy payloads the successful landing or positive landing rate are more for Polar,LEO and ISS.\n",
    "\n",
    "However for GTO we cannot distinguish this well as both positive landing rate and negative landing(unsuccessful mission) are both there here."
   ],
   "attachments":{
    
   },
   "metadata":{
    "datalore":{
     "node_id":"vphkUvBQXHHZSExGbXcz0x",
     "type":"MD",
     "hide_input_from_viewers":false,
     "hide_output_from_viewers":false,
     "report_properties":{
      
     }
    }
   }
  },
  {
   "cell_type":"markdown",
   "source":[
    "### TASK  6: Visualize the launch success yearly trend"
   ],
   "attachments":{
    
   },
   "metadata":{
    "datalore":{
     "node_id":"hzQZVWkg9WmAQ6iT5w3y6a",
     "type":"MD",
     "hide_input_from_viewers":false,
     "hide_output_from_viewers":false,
     "report_properties":{
      
     }
    }
   }
  },
  {
   "cell_type":"markdown",
   "source":[
    "You can plot a line chart with x axis to be <code>Year<\/code> and y axis to be average success rate, to get the average launch success trend."
   ],
   "attachments":{
    
   },
   "metadata":{
    "datalore":{
     "node_id":"RJzWziv48BF40K88AdoxiO",
     "type":"MD",
     "hide_input_from_viewers":false,
     "hide_output_from_viewers":false,
     "report_properties":{
      
     }
    }
   }
  },
  {
   "cell_type":"markdown",
   "source":[
    "The function will help you get the year from the date:"
   ],
   "attachments":{
    
   },
   "metadata":{
    "datalore":{
     "node_id":"QR0tIebw8xDY2qhbCK4Dsa",
     "type":"MD",
     "hide_input_from_viewers":false,
     "hide_output_from_viewers":false,
     "report_properties":{
      
     }
    }
   }
  },
  {
   "cell_type":"code",
   "source":[
    "date_c = df['Date']\n",
    "date_c"
   ],
   "execution_count":11,
   "outputs":[
    {
     "data":{
      "text\/html":[
       
      ]
     },
     "metadata":{
      
     },
     "output_type":"display_data"
    }
   ],
   "metadata":{
    "datalore":{
     "node_id":"TZPAkjpX3PJwvwM8mQa06W",
     "type":"CODE",
     "hide_input_from_viewers":false,
     "hide_output_from_viewers":false,
     "report_properties":{
      
     }
    }
   }
  },
  {
   "cell_type":"code",
   "source":[
    "# A function to Extract years from the date \n",
    "year=[]\n",
    "def Extract_year(date):\n",
    "    for i in df[\"Date\"]:\n",
    "        year.append(i.split(\"-\")[0])\n",
    "    return year\n",
    "Extract_year(1)\n",
    "df[\"Year\"] = year \n",
    "average_by_year = df.groupby(by='Year').mean()\n",
    "average_by_year.reset_index(inplace=True)\n",
    "\n",
    "    "
   ],
   "execution_count":16,
   "outputs":[
    
   ],
   "metadata":{
    "datalore":{
     "node_id":"QfRGXOOQLy0iLBH5ZHJRSI",
     "type":"CODE",
     "hide_input_from_viewers":false,
     "hide_output_from_viewers":false,
     "report_properties":{
      
     }
    }
   }
  },
  {
   "cell_type":"code",
   "source":[
    "year"
   ],
   "execution_count":17,
   "outputs":[
    {
     "data":{
      "text\/plain":[
       "['2010',\n",
       " '2012',\n",
       " '2013',\n",
       " '2013',\n",
       " '2013',\n",
       " '2014',\n",
       " '2014',\n",
       " '2014',\n",
       " '2014',\n",
       " '2014',\n",
       " '2014',\n",
       " '2015',\n",
       " '2015',\n",
       " '2015',\n",
       " '2015',\n",
       " '2015',\n",
       " '2015',\n",
       " '2016',\n",
       " '2016',\n",
       " '2016',\n",
       " '2016',\n",
       " '2016',\n",
       " '2016',\n",
       " '2016',\n",
       " '2016',\n",
       " '2017',\n",
       " '2017',\n",
       " '2017',\n",
       " '2017',\n",
       " '2017',\n",
       " '2017',\n",
       " '2017',\n",
       " '2017',\n",
       " '2017',\n",
       " '2017',\n",
       " '2017',\n",
       " '2017',\n",
       " '2017',\n",
       " '2017',\n",
       " '2017',\n",
       " '2017',\n",
       " '2017',\n",
       " '2017',\n",
       " '2018',\n",
       " '2018',\n",
       " '2018',\n",
       " '2018',\n",
       " '2018',\n",
       " '2018',\n",
       " '2018',\n",
       " '2018',\n",
       " '2018',\n",
       " '2018',\n",
       " '2018',\n",
       " '2018',\n",
       " '2018',\n",
       " '2018',\n",
       " '2018',\n",
       " '2018',\n",
       " '2018',\n",
       " '2018',\n",
       " '2019',\n",
       " '2019',\n",
       " '2019',\n",
       " '2019',\n",
       " '2019',\n",
       " '2019',\n",
       " '2019',\n",
       " '2019',\n",
       " '2019',\n",
       " '2019',\n",
       " '2020',\n",
       " '2020',\n",
       " '2020',\n",
       " '2020',\n",
       " '2020',\n",
       " '2020',\n",
       " '2020',\n",
       " '2020',\n",
       " '2020',\n",
       " '2020',\n",
       " '2020',\n",
       " '2020',\n",
       " '2020',\n",
       " '2020',\n",
       " '2020',\n",
       " '2020',\n",
       " '2020',\n",
       " '2020',\n",
       " '2020']"
      ]
     },
     "metadata":{
      
     },
     "output_type":"display_data"
    }
   ],
   "metadata":{
    "datalore":{
     "node_id":"jBvsUz5uM6GkObpWH30169",
     "type":"CODE",
     "hide_input_from_viewers":false,
     "hide_output_from_viewers":false,
     "report_properties":{
      
     }
    }
   }
  },
  {
   "cell_type":"code",
   "source":[
    "# Plot a line chart with x axis to be the extracted year and y axis to be the success rate\n",
    "\n",
    "plt.plot(average_by_year[\"Year\"],average_by_year[\"Class\"])\n",
    "plt.xlabel(\"Years\")  # add X-axis label\n",
    "plt.ylabel(\"Rate of Success\")  # add Y-axis label\n",
    "plt.title(\"Rate of Success\")  # add title\n",
    "plt.show()"
   ],
   "execution_count":18,
   "outputs":[
    {
     "data":{
      "image\/png":"[encoded data removed]"
     },
     "metadata":{
      "image\/png":{
       
      }
     },
     "output_type":"display_data"
    }
   ],
   "metadata":{
    "datalore":{
     "node_id":"AuKCUwAbd55TWe0rD0HDhj",
     "type":"CODE",
     "hide_input_from_viewers":false,
     "hide_output_from_viewers":false,
     "report_properties":{
      
     }
    }
   }
  },
  {
   "cell_type":"markdown",
   "source":[
    "you can observe that the sucess rate since 2013 kept increasing till 2020"
   ],
   "attachments":{
    
   },
   "metadata":{
    "datalore":{
     "node_id":"nf6KB9RCdcYk23bn0ZmGGz",
     "type":"MD",
     "hide_input_from_viewers":false,
     "hide_output_from_viewers":false,
     "report_properties":{
      
     }
    }
   }
  },
  {
   "cell_type":"markdown",
   "source":[
    "## Features Engineering"
   ],
   "attachments":{
    
   },
   "metadata":{
    "datalore":{
     "node_id":"4gwmrtNM43R75hQl0r4Vfb",
     "type":"MD",
     "hide_input_from_viewers":false,
     "hide_output_from_viewers":false,
     "report_properties":{
      
     }
    }
   }
  },
  {
   "cell_type":"markdown",
   "source":[
    "By now, you should obtain some preliminary insights about how each important variable would affect the success rate, we will select the features that will be used in success prediction in the future module."
   ],
   "attachments":{
    
   },
   "metadata":{
    "datalore":{
     "node_id":"W0dBOpmZACJ21z7aaz3BRt",
     "type":"MD",
     "hide_input_from_viewers":false,
     "hide_output_from_viewers":false,
     "report_properties":{
      
     }
    }
   }
  },
  {
   "cell_type":"code",
   "source":[
    "features = df[['FlightNumber', 'PayloadMass', 'Orbit', 'LaunchSite', 'Flights', 'GridFins', 'Reused', 'Legs', 'LandingPad', 'Block', 'ReusedCount', 'Serial']]\n",
    "features.head()"
   ],
   "execution_count":19,
   "outputs":[
    {
     "data":{
      "text\/html":[
       "<div>\n",
       "<style scoped>\n",
       "    .dataframe tbody tr th:only-of-type {\n",
       "        vertical-align: middle;\n",
       "    }\n",
       "\n",
       "    .dataframe tbody tr th {\n",
       "        vertical-align: top;\n",
       "    }\n",
       "\n",
       "    .dataframe thead th {\n",
       "        text-align: right;\n",
       "    }\n",
       "<\/style>\n",
       "<table border=\"1\" class=\"dataframe\">\n",
       "  <thead>\n",
       "    <tr style=\"text-align: right;\">\n",
       "      <th><\/th>\n",
       "      <th>FlightNumber<\/th>\n",
       "      <th>PayloadMass<\/th>\n",
       "      <th>Orbit<\/th>\n",
       "      <th>LaunchSite<\/th>\n",
       "      <th>Flights<\/th>\n",
       "      <th>GridFins<\/th>\n",
       "      <th>Reused<\/th>\n",
       "      <th>Legs<\/th>\n",
       "      <th>LandingPad<\/th>\n",
       "      <th>Block<\/th>\n",
       "      <th>ReusedCount<\/th>\n",
       "      <th>Serial<\/th>\n",
       "    <\/tr>\n",
       "  <\/thead>\n",
       "  <tbody>\n",
       "    <tr>\n",
       "      <th>0<\/th>\n",
       "      <td>1<\/td>\n",
       "      <td>6104.959412<\/td>\n",
       "      <td>LEO<\/td>\n",
       "      <td>CCAFS SLC 40<\/td>\n",
       "      <td>1<\/td>\n",
       "      <td>False<\/td>\n",
       "      <td>False<\/td>\n",
       "      <td>False<\/td>\n",
       "      <td>NaN<\/td>\n",
       "      <td>1.0<\/td>\n",
       "      <td>0<\/td>\n",
       "      <td>B0003<\/td>\n",
       "    <\/tr>\n",
       "    <tr>\n",
       "      <th>1<\/th>\n",
       "      <td>2<\/td>\n",
       "      <td>525.000000<\/td>\n",
       "      <td>LEO<\/td>\n",
       "      <td>CCAFS SLC 40<\/td>\n",
       "      <td>1<\/td>\n",
       "      <td>False<\/td>\n",
       "      <td>False<\/td>\n",
       "      <td>False<\/td>\n",
       "      <td>NaN<\/td>\n",
       "      <td>1.0<\/td>\n",
       "      <td>0<\/td>\n",
       "      <td>B0005<\/td>\n",
       "    <\/tr>\n",
       "    <tr>\n",
       "      <th>2<\/th>\n",
       "      <td>3<\/td>\n",
       "      <td>677.000000<\/td>\n",
       "      <td>ISS<\/td>\n",
       "      <td>CCAFS SLC 40<\/td>\n",
       "      <td>1<\/td>\n",
       "      <td>False<\/td>\n",
       "      <td>False<\/td>\n",
       "      <td>False<\/td>\n",
       "      <td>NaN<\/td>\n",
       "      <td>1.0<\/td>\n",
       "      <td>0<\/td>\n",
       "      <td>B0007<\/td>\n",
       "    <\/tr>\n",
       "    <tr>\n",
       "      <th>3<\/th>\n",
       "      <td>4<\/td>\n",
       "      <td>500.000000<\/td>\n",
       "      <td>PO<\/td>\n",
       "      <td>VAFB SLC 4E<\/td>\n",
       "      <td>1<\/td>\n",
       "      <td>False<\/td>\n",
       "      <td>False<\/td>\n",
       "      <td>False<\/td>\n",
       "      <td>NaN<\/td>\n",
       "      <td>1.0<\/td>\n",
       "      <td>0<\/td>\n",
       "      <td>B1003<\/td>\n",
       "    <\/tr>\n",
       "    <tr>\n",
       "      <th>4<\/th>\n",
       "      <td>5<\/td>\n",
       "      <td>3170.000000<\/td>\n",
       "      <td>GTO<\/td>\n",
       "      <td>CCAFS SLC 40<\/td>\n",
       "      <td>1<\/td>\n",
       "      <td>False<\/td>\n",
       "      <td>False<\/td>\n",
       "      <td>False<\/td>\n",
       "      <td>NaN<\/td>\n",
       "      <td>1.0<\/td>\n",
       "      <td>0<\/td>\n",
       "      <td>B1004<\/td>\n",
       "    <\/tr>\n",
       "  <\/tbody>\n",
       "<\/table>\n",
       "<\/div>"
      ]
     },
     "metadata":{
      
     },
     "output_type":"display_data"
    }
   ],
   "metadata":{
    "datalore":{
     "node_id":"vKdkpHZ4QoJQNjg9EAzjYt",
     "type":"CODE",
     "hide_input_from_viewers":false,
     "hide_output_from_viewers":false,
     "report_properties":{
      
     }
    }
   }
  },
  {
   "cell_type":"markdown",
   "source":[
    "### TASK  7: Create dummy variables to categorical columns"
   ],
   "attachments":{
    
   },
   "metadata":{
    "datalore":{
     "node_id":"hJ3mMKd3QjEyr6SmnoTVbQ",
     "type":"MD",
     "hide_input_from_viewers":false,
     "hide_output_from_viewers":false,
     "report_properties":{
      
     }
    }
   }
  },
  {
   "cell_type":"markdown",
   "source":[
    "Use the function <code>get_dummies<\/code> and <code>features<\/code> dataframe to apply OneHotEncoder to the column <code>Orbits<\/code>, <code>LaunchSite<\/code>, <code>LandingPad<\/code>, and <code>Serial<\/code>. Assign the value to the variable <code>features_one_hot<\/code>, display the results using the method head. Your result dataframe must include all features including the encoded ones."
   ],
   "attachments":{
    
   },
   "metadata":{
    "datalore":{
     "node_id":"d6rorMhjdUjlgfWM0Itodx",
     "type":"MD",
     "hide_input_from_viewers":false,
     "hide_output_from_viewers":false,
     "report_properties":{
      
     }
    }
   }
  },
  {
   "cell_type":"code",
   "source":[
    "# HINT: Use get_dummies() function on the categorical columns\n",
    "columns=['Orbit','LandingPad','Serial','LaunchSite']\n",
    "features_one_hot = pd.get_dummies(features, columns)\n",
    "features_one_hot.head()"
   ],
   "execution_count":20,
   "outputs":[
    {
     "data":{
      "text\/html":[
       "<div>\n",
       "<style scoped>\n",
       "    .dataframe tbody tr th:only-of-type {\n",
       "        vertical-align: middle;\n",
       "    }\n",
       "\n",
       "    .dataframe tbody tr th {\n",
       "        vertical-align: top;\n",
       "    }\n",
       "\n",
       "    .dataframe thead th {\n",
       "        text-align: right;\n",
       "    }\n",
       "<\/style>\n",
       "<table border=\"1\" class=\"dataframe\">\n",
       "  <thead>\n",
       "    <tr style=\"text-align: right;\">\n",
       "      <th><\/th>\n",
       "      <th>FlightNumber<\/th>\n",
       "      <th>PayloadMass<\/th>\n",
       "      <th>Flights<\/th>\n",
       "      <th>GridFins<\/th>\n",
       "      <th>Reused<\/th>\n",
       "      <th>Legs<\/th>\n",
       "      <th>Block<\/th>\n",
       "      <th>ReusedCount<\/th>\n",
       "      <th>Orbit_ES-L1<\/th>\n",
       "      <th>Orbit_GEO<\/th>\n",
       "      <th>...<\/th>\n",
       "      <th>LaunchSite_B1048<\/th>\n",
       "      <th>LaunchSite_B1049<\/th>\n",
       "      <th>LaunchSite_B1050<\/th>\n",
       "      <th>LaunchSite_B1051<\/th>\n",
       "      <th>LaunchSite_B1054<\/th>\n",
       "      <th>LaunchSite_B1056<\/th>\n",
       "      <th>LaunchSite_B1058<\/th>\n",
       "      <th>LaunchSite_B1059<\/th>\n",
       "      <th>LaunchSite_B1060<\/th>\n",
       "      <th>LaunchSite_B1062<\/th>\n",
       "    <\/tr>\n",
       "  <\/thead>\n",
       "  <tbody>\n",
       "    <tr>\n",
       "      <th>0<\/th>\n",
       "      <td>1<\/td>\n",
       "      <td>6104.959412<\/td>\n",
       "      <td>1<\/td>\n",
       "      <td>False<\/td>\n",
       "      <td>False<\/td>\n",
       "      <td>False<\/td>\n",
       "      <td>1.0<\/td>\n",
       "      <td>0<\/td>\n",
       "      <td>0<\/td>\n",
       "      <td>0<\/td>\n",
       "      <td>...<\/td>\n",
       "      <td>0<\/td>\n",
       "      <td>0<\/td>\n",
       "      <td>0<\/td>\n",
       "      <td>0<\/td>\n",
       "      <td>0<\/td>\n",
       "      <td>0<\/td>\n",
       "      <td>0<\/td>\n",
       "      <td>0<\/td>\n",
       "      <td>0<\/td>\n",
       "      <td>0<\/td>\n",
       "    <\/tr>\n",
       "    <tr>\n",
       "      <th>1<\/th>\n",
       "      <td>2<\/td>\n",
       "      <td>525.000000<\/td>\n",
       "      <td>1<\/td>\n",
       "      <td>False<\/td>\n",
       "      <td>False<\/td>\n",
       "      <td>False<\/td>\n",
       "      <td>1.0<\/td>\n",
       "      <td>0<\/td>\n",
       "      <td>0<\/td>\n",
       "      <td>0<\/td>\n",
       "      <td>...<\/td>\n",
       "      <td>0<\/td>\n",
       "      <td>0<\/td>\n",
       "      <td>0<\/td>\n",
       "      <td>0<\/td>\n",
       "      <td>0<\/td>\n",
       "      <td>0<\/td>\n",
       "      <td>0<\/td>\n",
       "      <td>0<\/td>\n",
       "      <td>0<\/td>\n",
       "      <td>0<\/td>\n",
       "    <\/tr>\n",
       "    <tr>\n",
       "      <th>2<\/th>\n",
       "      <td>3<\/td>\n",
       "      <td>677.000000<\/td>\n",
       "      <td>1<\/td>\n",
       "      <td>False<\/td>\n",
       "      <td>False<\/td>\n",
       "      <td>False<\/td>\n",
       "      <td>1.0<\/td>\n",
       "      <td>0<\/td>\n",
       "      <td>0<\/td>\n",
       "      <td>0<\/td>\n",
       "      <td>...<\/td>\n",
       "      <td>0<\/td>\n",
       "      <td>0<\/td>\n",
       "      <td>0<\/td>\n",
       "      <td>0<\/td>\n",
       "      <td>0<\/td>\n",
       "      <td>0<\/td>\n",
       "      <td>0<\/td>\n",
       "      <td>0<\/td>\n",
       "      <td>0<\/td>\n",
       "      <td>0<\/td>\n",
       "    <\/tr>\n",
       "    <tr>\n",
       "      <th>3<\/th>\n",
       "      <td>4<\/td>\n",
       "      <td>500.000000<\/td>\n",
       "      <td>1<\/td>\n",
       "      <td>False<\/td>\n",
       "      <td>False<\/td>\n",
       "      <td>False<\/td>\n",
       "      <td>1.0<\/td>\n",
       "      <td>0<\/td>\n",
       "      <td>0<\/td>\n",
       "      <td>0<\/td>\n",
       "      <td>...<\/td>\n",
       "      <td>0<\/td>\n",
       "      <td>0<\/td>\n",
       "      <td>0<\/td>\n",
       "      <td>0<\/td>\n",
       "      <td>0<\/td>\n",
       "      <td>0<\/td>\n",
       "      <td>0<\/td>\n",
       "      <td>0<\/td>\n",
       "      <td>0<\/td>\n",
       "      <td>0<\/td>\n",
       "    <\/tr>\n",
       "    <tr>\n",
       "      <th>4<\/th>\n",
       "      <td>5<\/td>\n",
       "      <td>3170.000000<\/td>\n",
       "      <td>1<\/td>\n",
       "      <td>False<\/td>\n",
       "      <td>False<\/td>\n",
       "      <td>False<\/td>\n",
       "      <td>1.0<\/td>\n",
       "      <td>0<\/td>\n",
       "      <td>0<\/td>\n",
       "      <td>0<\/td>\n",
       "      <td>...<\/td>\n",
       "      <td>0<\/td>\n",
       "      <td>0<\/td>\n",
       "      <td>0<\/td>\n",
       "      <td>0<\/td>\n",
       "      <td>0<\/td>\n",
       "      <td>0<\/td>\n",
       "      <td>0<\/td>\n",
       "      <td>0<\/td>\n",
       "      <td>0<\/td>\n",
       "      <td>0<\/td>\n",
       "    <\/tr>\n",
       "  <\/tbody>\n",
       "<\/table>\n",
       "<p>5 rows × 80 columns<\/p>\n",
       "<\/div>"
      ]
     },
     "metadata":{
      
     },
     "output_type":"display_data"
    }
   ],
   "metadata":{
    "datalore":{
     "node_id":"zWXN3KsDBa9bSHrASIknvN",
     "type":"CODE",
     "hide_input_from_viewers":false,
     "hide_output_from_viewers":false,
     "report_properties":{
      
     }
    }
   }
  },
  {
   "cell_type":"markdown",
   "source":[
    "### TASK  8: Cast all numeric columns to `float64`"
   ],
   "attachments":{
    
   },
   "metadata":{
    "datalore":{
     "node_id":"BTl6g9bdSTKi1a4pqBmcw7",
     "type":"MD",
     "hide_input_from_viewers":false,
     "hide_output_from_viewers":false,
     "report_properties":{
      
     }
    }
   }
  },
  {
   "cell_type":"markdown",
   "source":[
    "Now that our <code>features_one_hot<\/code> dataframe only contains numbers cast the entire dataframe to variable type <code>float64<\/code>"
   ],
   "attachments":{
    
   },
   "metadata":{
    "datalore":{
     "node_id":"WpAMAA3dNRefNLER5MA6E6",
     "type":"MD",
     "hide_input_from_viewers":false,
     "hide_output_from_viewers":false,
     "report_properties":{
      
     }
    }
   }
  },
  {
   "cell_type":"code",
   "source":[
    "# HINT: use astype function\n",
    "features_one_hot = features_one_hot.astype(float)"
   ],
   "execution_count":21,
   "outputs":[
    
   ],
   "metadata":{
    "datalore":{
     "node_id":"dyXodrU0BCXFJVrE6V6QFR",
     "type":"CODE",
     "hide_input_from_viewers":false,
     "hide_output_from_viewers":false,
     "report_properties":{
      
     }
    }
   }
  },
  {
   "cell_type":"code",
   "source":[
    "features_one_hot.to_csv('dataset_part_3.csv', index=False)"
   ],
   "execution_count":22,
   "outputs":[
    
   ],
   "metadata":{
    "datalore":{
     "node_id":"zJnzm24cX4nQlBpfBeoRnW",
     "type":"CODE",
     "hide_input_from_viewers":false,
     "hide_output_from_viewers":false,
     "report_properties":{
      
     }
    }
   }
  },
  {
   "cell_type":"markdown",
   "source":[
    "We can now export it to a <b>CSV<\/b> for the next section,but to make the answers consistent, in the next lab we will provide data in a pre-selected date range."
   ],
   "attachments":{
    
   },
   "metadata":{
    "datalore":{
     "node_id":"61gFsArNrmnyqqHRCctB6U",
     "type":"MD",
     "hide_input_from_viewers":false,
     "hide_output_from_viewers":false,
     "report_properties":{
      
     }
    }
   }
  },
  {
   "cell_type":"markdown",
   "source":[
    "<code>features_one_hot.to_csv('dataset_part\\_3.csv', index=False)<\/code>"
   ],
   "attachments":{
    
   },
   "metadata":{
    "datalore":{
     "node_id":"L0KRQrWr9KK0DVmFJYh6Rz",
     "type":"MD",
     "hide_input_from_viewers":false,
     "hide_output_from_viewers":false,
     "report_properties":{
      
     }
    }
   }
  },
  {
   "cell_type":"markdown",
   "source":[
    "## Authors"
   ],
   "attachments":{
    
   },
   "metadata":{
    "datalore":{
     "node_id":"ToxAgXfJUrTb7Ep37ogL20",
     "type":"MD",
     "hide_input_from_viewers":false,
     "hide_output_from_viewers":false,
     "report_properties":{
      
     }
    }
   }
  },
  {
   "cell_type":"markdown",
   "source":[
    "<a href=\"https:\/\/www.linkedin.com\/in\/joseph-s-50398b136\/?utm_medium=Exinfluencer&utm_source=Exinfluencer&utm_content=000026UJ&utm_term=10006555&utm_id=NA-SkillsNetwork-Channel-SkillsNetworkCoursesIBMDS0321ENSkillsNetwork26802033-2022-01-01\">Joseph Santarcangelo<\/a> has a PhD in Electrical Engineering, his research focused on using machine learning, signal processing, and computer vision to determine how videos impact human cognition. Joseph has been working for IBM since he completed his PhD."
   ],
   "attachments":{
    
   },
   "metadata":{
    "datalore":{
     "node_id":"xGhTBTMef3NMk0BgVnPO7x",
     "type":"MD",
     "hide_input_from_viewers":false,
     "hide_output_from_viewers":false,
     "report_properties":{
      
     }
    }
   }
  },
  {
   "cell_type":"markdown",
   "source":[
    "<a href=\"https:\/\/www.linkedin.com\/in\/nayefaboutayoun\/?utm_medium=Exinfluencer&utm_source=Exinfluencer&utm_content=000026UJ&utm_term=10006555&utm_id=NA-SkillsNetwork-Channel-SkillsNetworkCoursesIBMDS0321ENSkillsNetwork26802033-2022-01-01\">Nayef Abou Tayoun<\/a> is a Data Scientist at IBM and pursuing a Master of Management in Artificial intelligence degree at Queen's University."
   ],
   "attachments":{
    
   },
   "metadata":{
    "datalore":{
     "node_id":"BhWNAgWewoYDHBBfiXKv9p",
     "type":"MD",
     "hide_input_from_viewers":false,
     "hide_output_from_viewers":false,
     "report_properties":{
      
     }
    }
   }
  },
  {
   "cell_type":"markdown",
   "source":[
    "## Change Log"
   ],
   "attachments":{
    
   },
   "metadata":{
    "datalore":{
     "node_id":"N1NxQ42vAYcaxBs8WlP4an",
     "type":"MD",
     "hide_input_from_viewers":false,
     "hide_output_from_viewers":false,
     "report_properties":{
      
     }
    }
   }
  },
  {
   "cell_type":"markdown",
   "source":[
    "| Date (YYYY-MM-DD) | Version | Changed By    | Change Description      |\n",
    "| ----------------- | ------- | ------------- | ----------------------- |\n",
    "| 2021-10-12        | 1.1     | Lakshmi Holla | Modified markdown       |\n",
    "| 2020-09-20        | 1.0     | Joseph        | Modified Multiple Areas |\n",
    "| 2020-11-10        | 1.1     | Nayef         | updating the input data |"
   ],
   "attachments":{
    
   },
   "metadata":{
    "datalore":{
     "node_id":"g8kSTM137Vcdxr2LtdUMOK",
     "type":"MD",
     "hide_input_from_viewers":false,
     "hide_output_from_viewers":false,
     "report_properties":{
      
     }
    }
   }
  },
  {
   "cell_type":"markdown",
   "source":[
    "Copyright © 2020 IBM Corporation. All rights reserved."
   ],
   "attachments":{
    
   },
   "metadata":{
    "datalore":{
     "node_id":"9WZx1A8fhDwnyGtJ71tRK5",
     "type":"MD",
     "hide_input_from_viewers":false,
     "hide_output_from_viewers":false,
     "report_properties":{
      
     }
    }
   }
  }
 ],
 "metadata":{
  "kernelspec":{
   "display_name":"Python",
   "language":"python",
   "name":"python"
  },
  "datalore":{
   "version":1,
   "computation_mode":"JUPYTER",
   "package_manager":"pip",
   "base_environment":"default",
   "packages":[
    
   ]
  }
 },
 "nbformat":4,
 "nbformat_minor":4
}