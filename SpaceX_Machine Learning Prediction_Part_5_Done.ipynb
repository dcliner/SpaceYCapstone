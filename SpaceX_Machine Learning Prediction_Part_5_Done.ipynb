{
 "cells":[
  {
   "cell_type":"markdown",
   "source":[
    "<p style=\"text-align:center\">\n",
    "    <a href=\"https:\/\/skills.network\/?utm_medium=Exinfluencer&utm_source=Exinfluencer&utm_content=000026UJ&utm_term=10006555&utm_id=NA-SkillsNetwork-Channel-SkillsNetworkCoursesIBMDS0321ENSkillsNetwork26802033-2022-01-01\" target=\"_blank\">\n",
    "    <img src=\"https:\/\/cf-courses-data.s3.us.cloud-object-storage.appdomain.cloud\/assets\/logos\/SN_web_lightmode.png\" width=\"200\" alt=\"Skills Network Logo\"  \/>\n",
    "    <\/a>\n",
    "<\/p>"
   ],
   "attachments":{
    
   },
   "metadata":{
    "datalore":{
     "node_id":"CqVemwMSilsjgrlPtQUGUj",
     "type":"MD",
     "hide_input_from_viewers":false,
     "hide_output_from_viewers":false,
     "report_properties":{
      
     }
    }
   }
  },
  {
   "cell_type":"markdown",
   "source":[
    "# **Space X  Falcon 9 First Stage Landing Prediction**"
   ],
   "attachments":{
    
   },
   "metadata":{
    "datalore":{
     "node_id":"N7MU3mjRSWA20VTwL8MYP6",
     "type":"MD",
     "hide_input_from_viewers":false,
     "hide_output_from_viewers":false,
     "report_properties":{
      
     }
    }
   }
  },
  {
   "cell_type":"markdown",
   "source":[
    "## Assignment:  Machine Learning Prediction"
   ],
   "attachments":{
    
   },
   "metadata":{
    "datalore":{
     "node_id":"li32WldJZrI5JXTL2SzHKt",
     "type":"MD",
     "hide_input_from_viewers":false,
     "hide_output_from_viewers":false,
     "report_properties":{
      
     }
    }
   }
  },
  {
   "cell_type":"markdown",
   "source":[
    "Estimated time needed: **60** minutes"
   ],
   "attachments":{
    
   },
   "metadata":{
    "datalore":{
     "node_id":"bvg2gnYvHzHAAmtjj76UHh",
     "type":"MD",
     "hide_input_from_viewers":false,
     "hide_output_from_viewers":false,
     "report_properties":{
      
     }
    }
   }
  },
  {
   "cell_type":"markdown",
   "source":[
    "Space X advertises Falcon 9 rocket launches on its website with a cost of 62 million dollars; other providers cost upward of 165 million dollars each, much of the savings is because Space X can reuse the first stage. Therefore if we can determine if the first stage will land, we can determine the cost of a launch. This information can be used if an alternate company wants to bid against space X for a rocket launch.   In this lab, you will create a machine learning pipeline  to predict if the first stage will land given the data from the preceding labs."
   ],
   "attachments":{
    
   },
   "metadata":{
    "datalore":{
     "node_id":"4N0QTbuuyjDXp4ktbNMnCn",
     "type":"MD",
     "hide_input_from_viewers":false,
     "hide_output_from_viewers":false,
     "report_properties":{
      
     }
    }
   }
  },
  {
   "cell_type":"markdown",
   "source":[
    "![](https:\/\/cf-courses-data.s3.us.cloud-object-storage.appdomain.cloud\/IBMDeveloperSkillsNetwork-DS0701EN-SkillsNetwork\/api\/Images\/landing\\_1.gif)"
   ],
   "attachments":{
    
   },
   "metadata":{
    "datalore":{
     "node_id":"KClocwVbkwyvlR0xaNn25b",
     "type":"MD",
     "hide_input_from_viewers":false,
     "hide_output_from_viewers":false,
     "report_properties":{
      
     }
    }
   }
  },
  {
   "cell_type":"markdown",
   "source":[
    "Several examples of an unsuccessful landing are shown here:"
   ],
   "attachments":{
    
   },
   "metadata":{
    "datalore":{
     "node_id":"WSBKjcy2scvInggxR8iOqP",
     "type":"MD",
     "hide_input_from_viewers":false,
     "hide_output_from_viewers":false,
     "report_properties":{
      
     }
    }
   }
  },
  {
   "cell_type":"markdown",
   "source":[
    "![](https:\/\/cf-courses-data.s3.us.cloud-object-storage.appdomain.cloud\/IBMDeveloperSkillsNetwork-DS0701EN-SkillsNetwork\/api\/Images\/crash.gif)"
   ],
   "attachments":{
    
   },
   "metadata":{
    "datalore":{
     "node_id":"iPUpjYPufIaET5qO64v09F",
     "type":"MD",
     "hide_input_from_viewers":false,
     "hide_output_from_viewers":false,
     "report_properties":{
      
     }
    }
   }
  },
  {
   "cell_type":"markdown",
   "source":[
    "Most unsuccessful landings are planed. Space X; performs a controlled landing in the oceans."
   ],
   "attachments":{
    
   },
   "metadata":{
    "datalore":{
     "node_id":"6Aqt9OKEQaRlFIGgWJt8cb",
     "type":"MD",
     "hide_input_from_viewers":false,
     "hide_output_from_viewers":false,
     "report_properties":{
      
     }
    }
   }
  },
  {
   "cell_type":"markdown",
   "source":[
    "## Objectives"
   ],
   "attachments":{
    
   },
   "metadata":{
    "datalore":{
     "node_id":"qALfLFRVPczIizkrbm7Ry2",
     "type":"MD",
     "hide_input_from_viewers":false,
     "hide_output_from_viewers":false,
     "report_properties":{
      
     }
    }
   }
  },
  {
   "cell_type":"markdown",
   "source":[
    "Perform exploratory  Data Analysis and determine Training Labels\n",
    "\n",
    "*   create a column for the class\n",
    "*   Standardize the data\n",
    "*   Split into training data and test data\n",
    "\n",
    "\\-Find best Hyperparameter for SVM, Classification Trees and Logistic Regression\n",
    "\n",
    "*   Find the method performs best using test data"
   ],
   "attachments":{
    
   },
   "metadata":{
    "datalore":{
     "node_id":"L0TIhBY7fHVnRioNW0fQAI",
     "type":"MD",
     "hide_input_from_viewers":false,
     "hide_output_from_viewers":false,
     "report_properties":{
      
     }
    }
   }
  },
  {
   "cell_type":"markdown",
   "source":[
    
   ],
   "attachments":{
    
   },
   "metadata":{
    "datalore":{
     "node_id":"gyKcNR0gLRkabrCdjV9qgH",
     "type":"MD",
     "hide_input_from_viewers":false,
     "hide_output_from_viewers":false,
     "report_properties":{
      
     }
    }
   }
  },
  {
   "cell_type":"markdown",
   "source":[
    "***"
   ],
   "attachments":{
    
   },
   "metadata":{
    "datalore":{
     "node_id":"EY5wV49m9qzrWkppx7aB4Q",
     "type":"MD",
     "hide_input_from_viewers":false,
     "hide_output_from_viewers":false,
     "report_properties":{
      
     }
    }
   }
  },
  {
   "cell_type":"markdown",
   "source":[
    "## Import Libraries and Define Auxiliary Functions"
   ],
   "attachments":{
    
   },
   "metadata":{
    "datalore":{
     "node_id":"bLtWN6b82DYOJv5v0nd5PY",
     "type":"MD",
     "hide_input_from_viewers":false,
     "hide_output_from_viewers":false,
     "report_properties":{
      
     }
    }
   }
  },
  {
   "cell_type":"markdown",
   "source":[
    "We will import the following libraries for the lab"
   ],
   "attachments":{
    
   },
   "metadata":{
    "datalore":{
     "node_id":"H5ShDrKCi4ES3nWyFbIOhx",
     "type":"MD",
     "hide_input_from_viewers":false,
     "hide_output_from_viewers":false,
     "report_properties":{
      
     }
    }
   }
  },
  {
   "cell_type":"code",
   "source":[
    "# Pandas is a software library written for the Python programming language for data manipulation and analysis.\n",
    "import pandas as pd\n",
    "# NumPy is a library for the Python programming language, adding support for large, multi-dimensional arrays and matrices, along with a large collection of high-level mathematical functions to operate on these arrays\n",
    "import numpy as np\n",
    "# Matplotlib is a plotting library for python and pyplot gives us a MatLab like plotting framework. We will use this in our plotter function to plot data.\n",
    "import matplotlib.pyplot as plt\n",
    "#Seaborn is a Python data visualization library based on matplotlib. It provides a high-level interface for drawing attractive and informative statistical graphics\n",
    "import seaborn as sns\n",
    "# Preprocessing allows us to standarsize our data\n",
    "from sklearn import preprocessing\n",
    "# Allows us to split our data into training and testing data\n",
    "from sklearn.model_selection import train_test_split\n",
    "# Allows us to test parameters of classification algorithms and find the best one\n",
    "from sklearn.model_selection import GridSearchCV\n",
    "# Logistic Regression classification algorithm\n",
    "from sklearn.linear_model import LogisticRegression\n",
    "# Support Vector Machine classification algorithm\n",
    "from sklearn.svm import SVC\n",
    "# Decision Tree classification algorithm\n",
    "from sklearn.tree import DecisionTreeClassifier\n",
    "# K Nearest Neighbors classification algorithm\n",
    "from sklearn.neighbors import KNeighborsClassifier"
   ],
   "execution_count":1,
   "outputs":[
    
   ],
   "metadata":{
    "datalore":{
     "node_id":"ZpJ3skFpWb6FAX766FtJc4",
     "type":"CODE",
     "hide_input_from_viewers":false,
     "hide_output_from_viewers":false,
     "report_properties":{
      
     }
    }
   }
  },
  {
   "cell_type":"markdown",
   "source":[
    "This function is to plot the confusion matrix."
   ],
   "attachments":{
    
   },
   "metadata":{
    "datalore":{
     "node_id":"oH6Pm55dq2SyGpvMYIPkju",
     "type":"MD",
     "hide_input_from_viewers":false,
     "hide_output_from_viewers":false,
     "report_properties":{
      
     }
    }
   }
  },
  {
   "cell_type":"code",
   "source":[
    "def plot_confusion_matrix(y,y_predict):\n",
    "    \"this function plots the confusion matrix\"\n",
    "    from sklearn.metrics import confusion_matrix\n",
    "\n",
    "    cm = confusion_matrix(y, y_predict)\n",
    "    ax= plt.subplot()\n",
    "    sns.heatmap(cm, annot=True, ax = ax); #annot=True to annotate cells\n",
    "    ax.set_xlabel('Predicted labels')\n",
    "    ax.set_ylabel('True labels')\n",
    "    ax.set_title('Confusion Matrix'); \n",
    "    ax.xaxis.set_ticklabels(['did not land', 'land']); ax.yaxis.set_ticklabels(['did not land', 'landed'])"
   ],
   "execution_count":2,
   "outputs":[
    
   ],
   "metadata":{
    "datalore":{
     "node_id":"SWXFmOdOhFkSFa4lHg1J3z",
     "type":"CODE",
     "hide_input_from_viewers":false,
     "hide_output_from_viewers":false,
     "report_properties":{
      
     }
    }
   }
  },
  {
   "cell_type":"markdown",
   "source":[
    "## Load the dataframe"
   ],
   "attachments":{
    
   },
   "metadata":{
    "datalore":{
     "node_id":"jHnHKnNyQF2whtPSzcI4Fn",
     "type":"MD",
     "hide_input_from_viewers":false,
     "hide_output_from_viewers":false,
     "report_properties":{
      
     }
    }
   }
  },
  {
   "cell_type":"markdown",
   "source":[
    "Load the data"
   ],
   "attachments":{
    
   },
   "metadata":{
    "datalore":{
     "node_id":"wmNDfhW9mrisbZ6qunxGqx",
     "type":"MD",
     "hide_input_from_viewers":false,
     "hide_output_from_viewers":false,
     "report_properties":{
      
     }
    }
   }
  },
  {
   "cell_type":"code",
   "source":[
    "data = pd.read_csv(\"https:\/\/cf-courses-data.s3.us.cloud-object-storage.appdomain.cloud\/IBM-DS0321EN-SkillsNetwork\/datasets\/dataset_part_2.csv\")\n",
    "\n",
    "# If you were unable to complete the previous lab correctly you can uncomment and load this csv\n",
    "\n",
    "# data = pd.read_csv('https:\/\/cf-courses-data.s3.us.cloud-object-storage.appdomain.cloud\/IBMDeveloperSkillsNetwork-DS0701EN-SkillsNetwork\/api\/dataset_part_2.csv')\n",
    "\n",
    "data.head()"
   ],
   "execution_count":3,
   "outputs":[
    {
     "data":{
      "text\/html":[
       "<div>\n",
       "<style scoped>\n",
       "    .dataframe tbody tr th:only-of-type {\n",
       "        vertical-align: middle;\n",
       "    }\n",
       "\n",
       "    .dataframe tbody tr th {\n",
       "        vertical-align: top;\n",
       "    }\n",
       "\n",
       "    .dataframe thead th {\n",
       "        text-align: right;\n",
       "    }\n",
       "<\/style>\n",
       "<table border=\"1\" class=\"dataframe\">\n",
       "  <thead>\n",
       "    <tr style=\"text-align: right;\">\n",
       "      <th><\/th>\n",
       "      <th>FlightNumber<\/th>\n",
       "      <th>Date<\/th>\n",
       "      <th>BoosterVersion<\/th>\n",
       "      <th>PayloadMass<\/th>\n",
       "      <th>Orbit<\/th>\n",
       "      <th>LaunchSite<\/th>\n",
       "      <th>Outcome<\/th>\n",
       "      <th>Flights<\/th>\n",
       "      <th>GridFins<\/th>\n",
       "      <th>Reused<\/th>\n",
       "      <th>Legs<\/th>\n",
       "      <th>LandingPad<\/th>\n",
       "      <th>Block<\/th>\n",
       "      <th>ReusedCount<\/th>\n",
       "      <th>Serial<\/th>\n",
       "      <th>Longitude<\/th>\n",
       "      <th>Latitude<\/th>\n",
       "      <th>Class<\/th>\n",
       "    <\/tr>\n",
       "  <\/thead>\n",
       "  <tbody>\n",
       "    <tr>\n",
       "      <th>0<\/th>\n",
       "      <td>1<\/td>\n",
       "      <td>2010-06-04<\/td>\n",
       "      <td>Falcon 9<\/td>\n",
       "      <td>6104.959412<\/td>\n",
       "      <td>LEO<\/td>\n",
       "      <td>CCAFS SLC 40<\/td>\n",
       "      <td>None None<\/td>\n",
       "      <td>1<\/td>\n",
       "      <td>False<\/td>\n",
       "      <td>False<\/td>\n",
       "      <td>False<\/td>\n",
       "      <td>NaN<\/td>\n",
       "      <td>1.0<\/td>\n",
       "      <td>0<\/td>\n",
       "      <td>B0003<\/td>\n",
       "      <td>-80.577366<\/td>\n",
       "      <td>28.561857<\/td>\n",
       "      <td>0<\/td>\n",
       "    <\/tr>\n",
       "    <tr>\n",
       "      <th>1<\/th>\n",
       "      <td>2<\/td>\n",
       "      <td>2012-05-22<\/td>\n",
       "      <td>Falcon 9<\/td>\n",
       "      <td>525.000000<\/td>\n",
       "      <td>LEO<\/td>\n",
       "      <td>CCAFS SLC 40<\/td>\n",
       "      <td>None None<\/td>\n",
       "      <td>1<\/td>\n",
       "      <td>False<\/td>\n",
       "      <td>False<\/td>\n",
       "      <td>False<\/td>\n",
       "      <td>NaN<\/td>\n",
       "      <td>1.0<\/td>\n",
       "      <td>0<\/td>\n",
       "      <td>B0005<\/td>\n",
       "      <td>-80.577366<\/td>\n",
       "      <td>28.561857<\/td>\n",
       "      <td>0<\/td>\n",
       "    <\/tr>\n",
       "    <tr>\n",
       "      <th>2<\/th>\n",
       "      <td>3<\/td>\n",
       "      <td>2013-03-01<\/td>\n",
       "      <td>Falcon 9<\/td>\n",
       "      <td>677.000000<\/td>\n",
       "      <td>ISS<\/td>\n",
       "      <td>CCAFS SLC 40<\/td>\n",
       "      <td>None None<\/td>\n",
       "      <td>1<\/td>\n",
       "      <td>False<\/td>\n",
       "      <td>False<\/td>\n",
       "      <td>False<\/td>\n",
       "      <td>NaN<\/td>\n",
       "      <td>1.0<\/td>\n",
       "      <td>0<\/td>\n",
       "      <td>B0007<\/td>\n",
       "      <td>-80.577366<\/td>\n",
       "      <td>28.561857<\/td>\n",
       "      <td>0<\/td>\n",
       "    <\/tr>\n",
       "    <tr>\n",
       "      <th>3<\/th>\n",
       "      <td>4<\/td>\n",
       "      <td>2013-09-29<\/td>\n",
       "      <td>Falcon 9<\/td>\n",
       "      <td>500.000000<\/td>\n",
       "      <td>PO<\/td>\n",
       "      <td>VAFB SLC 4E<\/td>\n",
       "      <td>False Ocean<\/td>\n",
       "      <td>1<\/td>\n",
       "      <td>False<\/td>\n",
       "      <td>False<\/td>\n",
       "      <td>False<\/td>\n",
       "      <td>NaN<\/td>\n",
       "      <td>1.0<\/td>\n",
       "      <td>0<\/td>\n",
       "      <td>B1003<\/td>\n",
       "      <td>-120.610829<\/td>\n",
       "      <td>34.632093<\/td>\n",
       "      <td>0<\/td>\n",
       "    <\/tr>\n",
       "    <tr>\n",
       "      <th>4<\/th>\n",
       "      <td>5<\/td>\n",
       "      <td>2013-12-03<\/td>\n",
       "      <td>Falcon 9<\/td>\n",
       "      <td>3170.000000<\/td>\n",
       "      <td>GTO<\/td>\n",
       "      <td>CCAFS SLC 40<\/td>\n",
       "      <td>None None<\/td>\n",
       "      <td>1<\/td>\n",
       "      <td>False<\/td>\n",
       "      <td>False<\/td>\n",
       "      <td>False<\/td>\n",
       "      <td>NaN<\/td>\n",
       "      <td>1.0<\/td>\n",
       "      <td>0<\/td>\n",
       "      <td>B1004<\/td>\n",
       "      <td>-80.577366<\/td>\n",
       "      <td>28.561857<\/td>\n",
       "      <td>0<\/td>\n",
       "    <\/tr>\n",
       "  <\/tbody>\n",
       "<\/table>\n",
       "<\/div>"
      ]
     },
     "metadata":{
      
     },
     "output_type":"display_data"
    }
   ],
   "metadata":{
    "datalore":{
     "node_id":"WKXuenJ6uExmptzjevhMxB",
     "type":"CODE",
     "hide_input_from_viewers":false,
     "hide_output_from_viewers":false,
     "report_properties":{
      
     }
    }
   }
  },
  {
   "cell_type":"code",
   "source":[
    "data[\"Class\"]"
   ],
   "execution_count":4,
   "outputs":[
    {
     "data":{
      "text\/html":[
       
      ]
     },
     "metadata":{
      
     },
     "output_type":"display_data"
    }
   ],
   "metadata":{
    "datalore":{
     "node_id":"6paMeOFrfwdSZ2EmQAr3dr",
     "type":"CODE",
     "hide_input_from_viewers":false,
     "hide_output_from_viewers":false,
     "report_properties":{
      
     }
    }
   }
  },
  {
   "cell_type":"code",
   "source":[
    "# X = pd.read_csv('https:\/\/cf-courses-data.s3.us.cloud-object-storage.appdomain.cloud\/IBM-DS0321EN-SkillsNetwork\/datasets\/dataset_part_3.csv')\n",
    "\n",
    "# If you were unable to complete the previous lab correctly you can uncomment and load this csv\n",
    "\n",
    "X = pd.read_csv('https:\/\/cf-courses-data.s3.us.cloud-object-storage.appdomain.cloud\/IBMDeveloperSkillsNetwork-DS0701EN-SkillsNetwork\/api\/dataset_part_3.csv')\n",
    "\n",
    "X.head(100)"
   ],
   "execution_count":5,
   "outputs":[
    {
     "data":{
      "text\/html":[
       "<div>\n",
       "<style scoped>\n",
       "    .dataframe tbody tr th:only-of-type {\n",
       "        vertical-align: middle;\n",
       "    }\n",
       "\n",
       "    .dataframe tbody tr th {\n",
       "        vertical-align: top;\n",
       "    }\n",
       "\n",
       "    .dataframe thead th {\n",
       "        text-align: right;\n",
       "    }\n",
       "<\/style>\n",
       "<table border=\"1\" class=\"dataframe\">\n",
       "  <thead>\n",
       "    <tr style=\"text-align: right;\">\n",
       "      <th><\/th>\n",
       "      <th>FlightNumber<\/th>\n",
       "      <th>PayloadMass<\/th>\n",
       "      <th>Flights<\/th>\n",
       "      <th>Block<\/th>\n",
       "      <th>ReusedCount<\/th>\n",
       "      <th>Orbit_ES-L1<\/th>\n",
       "      <th>Orbit_GEO<\/th>\n",
       "      <th>Orbit_GTO<\/th>\n",
       "      <th>Orbit_HEO<\/th>\n",
       "      <th>Orbit_ISS<\/th>\n",
       "      <th>...<\/th>\n",
       "      <th>Serial_B1058<\/th>\n",
       "      <th>Serial_B1059<\/th>\n",
       "      <th>Serial_B1060<\/th>\n",
       "      <th>Serial_B1062<\/th>\n",
       "      <th>GridFins_False<\/th>\n",
       "      <th>GridFins_True<\/th>\n",
       "      <th>Reused_False<\/th>\n",
       "      <th>Reused_True<\/th>\n",
       "      <th>Legs_False<\/th>\n",
       "      <th>Legs_True<\/th>\n",
       "    <\/tr>\n",
       "  <\/thead>\n",
       "  <tbody>\n",
       "    <tr>\n",
       "      <th>0<\/th>\n",
       "      <td>1.0<\/td>\n",
       "      <td>6104.959412<\/td>\n",
       "      <td>1.0<\/td>\n",
       "      <td>1.0<\/td>\n",
       "      <td>0.0<\/td>\n",
       "      <td>0.0<\/td>\n",
       "      <td>0.0<\/td>\n",
       "      <td>0.0<\/td>\n",
       "      <td>0.0<\/td>\n",
       "      <td>0.0<\/td>\n",
       "      <td>...<\/td>\n",
       "      <td>0.0<\/td>\n",
       "      <td>0.0<\/td>\n",
       "      <td>0.0<\/td>\n",
       "      <td>0.0<\/td>\n",
       "      <td>1.0<\/td>\n",
       "      <td>0.0<\/td>\n",
       "      <td>1.0<\/td>\n",
       "      <td>0.0<\/td>\n",
       "      <td>1.0<\/td>\n",
       "      <td>0.0<\/td>\n",
       "    <\/tr>\n",
       "    <tr>\n",
       "      <th>1<\/th>\n",
       "      <td>2.0<\/td>\n",
       "      <td>525.000000<\/td>\n",
       "      <td>1.0<\/td>\n",
       "      <td>1.0<\/td>\n",
       "      <td>0.0<\/td>\n",
       "      <td>0.0<\/td>\n",
       "      <td>0.0<\/td>\n",
       "      <td>0.0<\/td>\n",
       "      <td>0.0<\/td>\n",
       "      <td>0.0<\/td>\n",
       "      <td>...<\/td>\n",
       "      <td>0.0<\/td>\n",
       "      <td>0.0<\/td>\n",
       "      <td>0.0<\/td>\n",
       "      <td>0.0<\/td>\n",
       "      <td>1.0<\/td>\n",
       "      <td>0.0<\/td>\n",
       "      <td>1.0<\/td>\n",
       "      <td>0.0<\/td>\n",
       "      <td>1.0<\/td>\n",
       "      <td>0.0<\/td>\n",
       "    <\/tr>\n",
       "    <tr>\n",
       "      <th>2<\/th>\n",
       "      <td>3.0<\/td>\n",
       "      <td>677.000000<\/td>\n",
       "      <td>1.0<\/td>\n",
       "      <td>1.0<\/td>\n",
       "      <td>0.0<\/td>\n",
       "      <td>0.0<\/td>\n",
       "      <td>0.0<\/td>\n",
       "      <td>0.0<\/td>\n",
       "      <td>0.0<\/td>\n",
       "      <td>1.0<\/td>\n",
       "      <td>...<\/td>\n",
       "      <td>0.0<\/td>\n",
       "      <td>0.0<\/td>\n",
       "      <td>0.0<\/td>\n",
       "      <td>0.0<\/td>\n",
       "      <td>1.0<\/td>\n",
       "      <td>0.0<\/td>\n",
       "      <td>1.0<\/td>\n",
       "      <td>0.0<\/td>\n",
       "      <td>1.0<\/td>\n",
       "      <td>0.0<\/td>\n",
       "    <\/tr>\n",
       "    <tr>\n",
       "      <th>3<\/th>\n",
       "      <td>4.0<\/td>\n",
       "      <td>500.000000<\/td>\n",
       "      <td>1.0<\/td>\n",
       "      <td>1.0<\/td>\n",
       "      <td>0.0<\/td>\n",
       "      <td>0.0<\/td>\n",
       "      <td>0.0<\/td>\n",
       "      <td>0.0<\/td>\n",
       "      <td>0.0<\/td>\n",
       "      <td>0.0<\/td>\n",
       "      <td>...<\/td>\n",
       "      <td>0.0<\/td>\n",
       "      <td>0.0<\/td>\n",
       "      <td>0.0<\/td>\n",
       "      <td>0.0<\/td>\n",
       "      <td>1.0<\/td>\n",
       "      <td>0.0<\/td>\n",
       "      <td>1.0<\/td>\n",
       "      <td>0.0<\/td>\n",
       "      <td>1.0<\/td>\n",
       "      <td>0.0<\/td>\n",
       "    <\/tr>\n",
       "    <tr>\n",
       "      <th>4<\/th>\n",
       "      <td>5.0<\/td>\n",
       "      <td>3170.000000<\/td>\n",
       "      <td>1.0<\/td>\n",
       "      <td>1.0<\/td>\n",
       "      <td>0.0<\/td>\n",
       "      <td>0.0<\/td>\n",
       "      <td>0.0<\/td>\n",
       "      <td>1.0<\/td>\n",
       "      <td>0.0<\/td>\n",
       "      <td>0.0<\/td>\n",
       "      <td>...<\/td>\n",
       "      <td>0.0<\/td>\n",
       "      <td>0.0<\/td>\n",
       "      <td>0.0<\/td>\n",
       "      <td>0.0<\/td>\n",
       "      <td>1.0<\/td>\n",
       "      <td>0.0<\/td>\n",
       "      <td>1.0<\/td>\n",
       "      <td>0.0<\/td>\n",
       "      <td>1.0<\/td>\n",
       "      <td>0.0<\/td>\n",
       "    <\/tr>\n",
       "    <tr>\n",
       "      <th>...<\/th>\n",
       "      <td>...<\/td>\n",
       "      <td>...<\/td>\n",
       "      <td>...<\/td>\n",
       "      <td>...<\/td>\n",
       "      <td>...<\/td>\n",
       "      <td>...<\/td>\n",
       "      <td>...<\/td>\n",
       "      <td>...<\/td>\n",
       "      <td>...<\/td>\n",
       "      <td>...<\/td>\n",
       "      <td>...<\/td>\n",
       "      <td>...<\/td>\n",
       "      <td>...<\/td>\n",
       "      <td>...<\/td>\n",
       "      <td>...<\/td>\n",
       "      <td>...<\/td>\n",
       "      <td>...<\/td>\n",
       "      <td>...<\/td>\n",
       "      <td>...<\/td>\n",
       "      <td>...<\/td>\n",
       "      <td>...<\/td>\n",
       "    <\/tr>\n",
       "    <tr>\n",
       "      <th>85<\/th>\n",
       "      <td>86.0<\/td>\n",
       "      <td>15400.000000<\/td>\n",
       "      <td>2.0<\/td>\n",
       "      <td>5.0<\/td>\n",
       "      <td>2.0<\/td>\n",
       "      <td>0.0<\/td>\n",
       "      <td>0.0<\/td>\n",
       "      <td>0.0<\/td>\n",
       "      <td>0.0<\/td>\n",
       "      <td>0.0<\/td>\n",
       "      <td>...<\/td>\n",
       "      <td>0.0<\/td>\n",
       "      <td>0.0<\/td>\n",
       "      <td>1.0<\/td>\n",
       "      <td>0.0<\/td>\n",
       "      <td>0.0<\/td>\n",
       "      <td>1.0<\/td>\n",
       "      <td>0.0<\/td>\n",
       "      <td>1.0<\/td>\n",
       "      <td>0.0<\/td>\n",
       "      <td>1.0<\/td>\n",
       "    <\/tr>\n",
       "    <tr>\n",
       "      <th>86<\/th>\n",
       "      <td>87.0<\/td>\n",
       "      <td>15400.000000<\/td>\n",
       "      <td>3.0<\/td>\n",
       "      <td>5.0<\/td>\n",
       "      <td>2.0<\/td>\n",
       "      <td>0.0<\/td>\n",
       "      <td>0.0<\/td>\n",
       "      <td>0.0<\/td>\n",
       "      <td>0.0<\/td>\n",
       "      <td>0.0<\/td>\n",
       "      <td>...<\/td>\n",
       "      <td>1.0<\/td>\n",
       "      <td>0.0<\/td>\n",
       "      <td>0.0<\/td>\n",
       "      <td>0.0<\/td>\n",
       "      <td>0.0<\/td>\n",
       "      <td>1.0<\/td>\n",
       "      <td>0.0<\/td>\n",
       "      <td>1.0<\/td>\n",
       "      <td>0.0<\/td>\n",
       "      <td>1.0<\/td>\n",
       "    <\/tr>\n",
       "    <tr>\n",
       "      <th>87<\/th>\n",
       "      <td>88.0<\/td>\n",
       "      <td>15400.000000<\/td>\n",
       "      <td>6.0<\/td>\n",
       "      <td>5.0<\/td>\n",
       "      <td>5.0<\/td>\n",
       "      <td>0.0<\/td>\n",
       "      <td>0.0<\/td>\n",
       "      <td>0.0<\/td>\n",
       "      <td>0.0<\/td>\n",
       "      <td>0.0<\/td>\n",
       "      <td>...<\/td>\n",
       "      <td>0.0<\/td>\n",
       "      <td>0.0<\/td>\n",
       "      <td>0.0<\/td>\n",
       "      <td>0.0<\/td>\n",
       "      <td>0.0<\/td>\n",
       "      <td>1.0<\/td>\n",
       "      <td>0.0<\/td>\n",
       "      <td>1.0<\/td>\n",
       "      <td>0.0<\/td>\n",
       "      <td>1.0<\/td>\n",
       "    <\/tr>\n",
       "    <tr>\n",
       "      <th>88<\/th>\n",
       "      <td>89.0<\/td>\n",
       "      <td>15400.000000<\/td>\n",
       "      <td>3.0<\/td>\n",
       "      <td>5.0<\/td>\n",
       "      <td>2.0<\/td>\n",
       "      <td>0.0<\/td>\n",
       "      <td>0.0<\/td>\n",
       "      <td>0.0<\/td>\n",
       "      <td>0.0<\/td>\n",
       "      <td>0.0<\/td>\n",
       "      <td>...<\/td>\n",
       "      <td>0.0<\/td>\n",
       "      <td>0.0<\/td>\n",
       "      <td>1.0<\/td>\n",
       "      <td>0.0<\/td>\n",
       "      <td>0.0<\/td>\n",
       "      <td>1.0<\/td>\n",
       "      <td>0.0<\/td>\n",
       "      <td>1.0<\/td>\n",
       "      <td>0.0<\/td>\n",
       "      <td>1.0<\/td>\n",
       "    <\/tr>\n",
       "    <tr>\n",
       "      <th>89<\/th>\n",
       "      <td>90.0<\/td>\n",
       "      <td>3681.000000<\/td>\n",
       "      <td>1.0<\/td>\n",
       "      <td>5.0<\/td>\n",
       "      <td>0.0<\/td>\n",
       "      <td>0.0<\/td>\n",
       "      <td>0.0<\/td>\n",
       "      <td>0.0<\/td>\n",
       "      <td>0.0<\/td>\n",
       "      <td>0.0<\/td>\n",
       "      <td>...<\/td>\n",
       "      <td>0.0<\/td>\n",
       "      <td>0.0<\/td>\n",
       "      <td>0.0<\/td>\n",
       "      <td>1.0<\/td>\n",
       "      <td>0.0<\/td>\n",
       "      <td>1.0<\/td>\n",
       "      <td>1.0<\/td>\n",
       "      <td>0.0<\/td>\n",
       "      <td>0.0<\/td>\n",
       "      <td>1.0<\/td>\n",
       "    <\/tr>\n",
       "  <\/tbody>\n",
       "<\/table>\n",
       "<p>90 rows × 83 columns<\/p>\n",
       "<\/div>"
      ]
     },
     "metadata":{
      
     },
     "output_type":"display_data"
    }
   ],
   "metadata":{
    "datalore":{
     "node_id":"8zT9ThyKBOp8s6KjzYqLtY",
     "type":"CODE",
     "hide_input_from_viewers":false,
     "hide_output_from_viewers":false,
     "report_properties":{
      
     }
    }
   }
  },
  {
   "cell_type":"markdown",
   "source":[
    "## TASK  1"
   ],
   "attachments":{
    
   },
   "metadata":{
    "datalore":{
     "node_id":"to3hpSw728arRWTzB94Egp",
     "type":"MD",
     "hide_input_from_viewers":false,
     "hide_output_from_viewers":false,
     "report_properties":{
      
     }
    }
   }
  },
  {
   "cell_type":"markdown",
   "source":[
    "Create a NumPy array from the column <code>Class<\/code> in <code>data<\/code>, by applying the method <code>to_numpy()<\/code>  then\n",
    "assign it  to the variable <code>Y<\/code>,make sure the output is a  Pandas series (only one bracket df\\['name of  column'])."
   ],
   "attachments":{
    
   },
   "metadata":{
    "datalore":{
     "node_id":"k9G9iUYUM8zWOSkUvtGbOg",
     "type":"MD",
     "hide_input_from_viewers":false,
     "hide_output_from_viewers":false,
     "report_properties":{
      
     }
    }
   }
  },
  {
   "cell_type":"code",
   "source":[
    "Y = data[\"Class\"].to_numpy()\n",
    "Y"
   ],
   "execution_count":6,
   "outputs":[
    {
     "data":{
      "text\/html":[
       
      ]
     },
     "metadata":{
      
     },
     "output_type":"display_data"
    }
   ],
   "metadata":{
    "datalore":{
     "node_id":"KVaQH3LkMZ6sr65UwReXwd",
     "type":"CODE",
     "hide_input_from_viewers":false,
     "hide_output_from_viewers":false,
     "report_properties":{
      
     }
    }
   }
  },
  {
   "cell_type":"markdown",
   "source":[
    "## TASK  2"
   ],
   "attachments":{
    
   },
   "metadata":{
    "datalore":{
     "node_id":"HI3V2wlGleUCE14qk40NHa",
     "type":"MD",
     "hide_input_from_viewers":false,
     "hide_output_from_viewers":false,
     "report_properties":{
      
     }
    }
   }
  },
  {
   "cell_type":"markdown",
   "source":[
    "Standardize the data in <code>X<\/code> then reassign it to the variable  <code>X<\/code> using the transform provided below."
   ],
   "attachments":{
    
   },
   "metadata":{
    "datalore":{
     "node_id":"RPllESZg1jQvvaorKHvThY",
     "type":"MD",
     "hide_input_from_viewers":false,
     "hide_output_from_viewers":false,
     "report_properties":{
      
     }
    }
   }
  },
  {
   "cell_type":"code",
   "source":[
    "# students get this \n",
    "transform = preprocessing.StandardScaler()"
   ],
   "execution_count":7,
   "outputs":[
    
   ],
   "metadata":{
    "datalore":{
     "node_id":"GFfdv4MDiN3BX2BOj0xE3P",
     "type":"CODE",
     "hide_input_from_viewers":false,
     "hide_output_from_viewers":false,
     "report_properties":{
      
     }
    }
   }
  },
  {
   "cell_type":"code",
   "source":[
    "scaler = preprocessing.StandardScaler().fit(X)\n",
    "X = scaler.transform(X)\n",
    "type(X)"
   ],
   "execution_count":8,
   "outputs":[
    {
     "data":{
      "text\/plain":[
       "numpy.ndarray"
      ]
     },
     "metadata":{
      
     },
     "output_type":"display_data"
    }
   ],
   "metadata":{
    "datalore":{
     "node_id":"8i2VJ9dSBY8k0Ol1iMqFWv",
     "type":"CODE",
     "hide_input_from_viewers":false,
     "hide_output_from_viewers":false,
     "report_properties":{
      
     }
    }
   }
  },
  {
   "cell_type":"markdown",
   "source":[
    "We split the data into training and testing data using the  function  <code>train_test_split<\/code>.   The training data is divided into validation data, a second set used for training  data; then the models are trained and hyperparameters are selected using the function <code>GridSearchCV<\/code>."
   ],
   "attachments":{
    
   },
   "metadata":{
    "datalore":{
     "node_id":"pKr2XCj0vNpFQ5VhYkDA0C",
     "type":"MD",
     "hide_input_from_viewers":false,
     "hide_output_from_viewers":false,
     "report_properties":{
      
     }
    }
   }
  },
  {
   "cell_type":"markdown",
   "source":[
    "## TASK  3"
   ],
   "attachments":{
    
   },
   "metadata":{
    "datalore":{
     "node_id":"vvIjPaoDu6merYHGkfFGne",
     "type":"MD",
     "hide_input_from_viewers":false,
     "hide_output_from_viewers":false,
     "report_properties":{
      
     }
    }
   }
  },
  {
   "cell_type":"markdown",
   "source":[
    "Use the function train_test_split to split the data X and Y into training and test data. Set the parameter test_size to  0.2 and random_state to 2. The training data and test data should be assigned to the following labels."
   ],
   "attachments":{
    
   },
   "metadata":{
    "datalore":{
     "node_id":"RhyjoQLVAGRLAO3n61T6AD",
     "type":"MD",
     "hide_input_from_viewers":false,
     "hide_output_from_viewers":false,
     "report_properties":{
      
     }
    }
   }
  },
  {
   "cell_type":"markdown",
   "source":[
    "<code>X_train, X_test, Y_train, Y_test<\/code>"
   ],
   "attachments":{
    
   },
   "metadata":{
    "datalore":{
     "node_id":"eqWMQuIDfYy18nnnNRS386",
     "type":"MD",
     "hide_input_from_viewers":false,
     "hide_output_from_viewers":false,
     "report_properties":{
      
     }
    }
   }
  },
  {
   "cell_type":"code",
   "source":[
    "\n",
    "X_train, X_test, Y_train, Y_test = train_test_split(X,Y, test_size=0.2, random_state=2) \n",
    "print('Train set: ', X_train.shape, Y_train.shape)\n",
    "print('Test set: ', X_test.shape, Y_test.shape)"
   ],
   "execution_count":9,
   "outputs":[
    {
     "name":"stdout",
     "text":[
      "Train set:  (72, 83) (72,)\n",
      "Test set:  (18, 83) (18,)\n"
     ],
     "output_type":"stream"
    }
   ],
   "metadata":{
    "datalore":{
     "node_id":"iREQce7GChShDyudYpK9r5",
     "type":"CODE",
     "hide_input_from_viewers":false,
     "hide_output_from_viewers":false,
     "report_properties":{
      
     }
    }
   }
  },
  {
   "cell_type":"markdown",
   "source":[
    "we can see we only have 18 test samples."
   ],
   "attachments":{
    
   },
   "metadata":{
    "datalore":{
     "node_id":"sx7Lq5h8236TuNPWKq9B5t",
     "type":"MD",
     "hide_input_from_viewers":false,
     "hide_output_from_viewers":false,
     "report_properties":{
      
     }
    }
   }
  },
  {
   "cell_type":"code",
   "source":[
    "Y_test.shape"
   ],
   "execution_count":10,
   "outputs":[
    {
     "data":{
      "text\/plain":[
       "(18,)"
      ]
     },
     "metadata":{
      
     },
     "output_type":"display_data"
    }
   ],
   "metadata":{
    "datalore":{
     "node_id":"wJCaDsA8O6IpBzjvh7tg8Q",
     "type":"CODE",
     "hide_input_from_viewers":false,
     "hide_output_from_viewers":false,
     "report_properties":{
      
     }
    }
   }
  },
  {
   "cell_type":"markdown",
   "source":[
    "## TASK  4"
   ],
   "attachments":{
    
   },
   "metadata":{
    "datalore":{
     "node_id":"6RBXWkVdN8d6KpMtdqENFs",
     "type":"MD",
     "hide_input_from_viewers":false,
     "hide_output_from_viewers":false,
     "report_properties":{
      
     }
    }
   }
  },
  {
   "cell_type":"markdown",
   "source":[
    "Create a logistic regression object  then create a  GridSearchCV object  <code>logreg_cv<\/code> with cv = 10.  Fit the object to find the best parameters from the dictionary <code>parameters<\/code>."
   ],
   "attachments":{
    
   },
   "metadata":{
    "datalore":{
     "node_id":"kF0RIlCMGbJ5ktgewUFnow",
     "type":"MD",
     "hide_input_from_viewers":false,
     "hide_output_from_viewers":false,
     "report_properties":{
      
     }
    }
   }
  },
  {
   "cell_type":"code",
   "source":[
    "parameters ={'C':[0.01,0.1,1],\n",
    "             'penalty':['l2'],\n",
    "             'solver':['lbfgs']}"
   ],
   "execution_count":11,
   "outputs":[
    
   ],
   "metadata":{
    "datalore":{
     "node_id":"gF6HQJ5jEDl2iDiQ3yoqxj",
     "type":"CODE",
     "hide_input_from_viewers":false,
     "hide_output_from_viewers":false,
     "report_properties":{
      
     }
    }
   }
  },
  {
   "cell_type":"code",
   "source":[
    "parameters = {\"C\":[0.01,0.1,1],'penalty':['l2'], 'solver':['lbfgs']}# l1 lasso l2 ridge\n",
    "lr=LogisticRegression()"
   ],
   "execution_count":12,
   "outputs":[
    
   ],
   "metadata":{
    "datalore":{
     "node_id":"5dgJeEreyA5oapn84Kz1hZ",
     "type":"CODE",
     "hide_input_from_viewers":false,
     "hide_output_from_viewers":false,
     "report_properties":{
      
     }
    }
   }
  },
  {
   "cell_type":"code",
   "source":[
    "logreg_cv = GridSearchCV(lr,\n",
    "                      param_grid=parameters,\n",
    "                      cv=10)\n",
    "logreg_cv.fit(X_train, Y_train)\n",
    "logreg_cv.best_params_"
   ],
   "execution_count":13,
   "outputs":[
    {
     "data":{
      "text\/plain":[
       "{'C': 0.01, 'penalty': 'l2', 'solver': 'lbfgs'}"
      ]
     },
     "metadata":{
      
     },
     "output_type":"display_data"
    }
   ],
   "metadata":{
    "datalore":{
     "node_id":"4sxkaGyUJQyjU4eMrGadk3",
     "type":"CODE",
     "hide_input_from_viewers":false,
     "hide_output_from_viewers":false,
     "report_properties":{
      
     }
    }
   }
  },
  {
   "cell_type":"markdown",
   "source":[
    "We output the <code>GridSearchCV<\/code> object for logistic regression. We display the best parameters using the data attribute <code>best_params\\_<\/code> and the accuracy on the validation data using the data attribute <code>best_score\\_<\/code>."
   ],
   "attachments":{
    
   },
   "metadata":{
    "datalore":{
     "node_id":"OMiHQnGvvzU6VtuB5Pafil",
     "type":"MD",
     "hide_input_from_viewers":false,
     "hide_output_from_viewers":false,
     "report_properties":{
      
     }
    }
   }
  },
  {
   "cell_type":"code",
   "source":[
    "print(\"tuned hpyerparameters :(best parameters) \",logreg_cv.best_params_)\n",
    "print(\"accuracy :\",logreg_cv.best_score_)"
   ],
   "execution_count":14,
   "outputs":[
    {
     "name":"stdout",
     "text":[
      "tuned hpyerparameters :(best parameters)  {'C': 0.01, 'penalty': 'l2', 'solver': 'lbfgs'}\n",
      "accuracy : 0.8464285714285713\n"
     ],
     "output_type":"stream"
    }
   ],
   "metadata":{
    "datalore":{
     "node_id":"63yRiCXSs0i0oPabHwMDNC",
     "type":"CODE",
     "hide_input_from_viewers":false,
     "hide_output_from_viewers":false,
     "report_properties":{
      
     }
    }
   }
  },
  {
   "cell_type":"markdown",
   "source":[
    "## TASK  5"
   ],
   "attachments":{
    
   },
   "metadata":{
    "datalore":{
     "node_id":"zyrVODgfGfaDSE04c4ItNe",
     "type":"MD",
     "hide_input_from_viewers":false,
     "hide_output_from_viewers":false,
     "report_properties":{
      
     }
    }
   }
  },
  {
   "cell_type":"markdown",
   "source":[
    "Calculate the accuracy on the test data using the method <code>score<\/code>:"
   ],
   "attachments":{
    
   },
   "metadata":{
    "datalore":{
     "node_id":"WhRMQt6lSdRzyf1TWNfDDn",
     "type":"MD",
     "hide_input_from_viewers":false,
     "hide_output_from_viewers":false,
     "report_properties":{
      
     }
    }
   }
  },
  {
   "cell_type":"code",
   "source":[
    "logreg_cv.score(X_test,Y_test)"
   ],
   "execution_count":15,
   "outputs":[
    {
     "data":{
      "text\/plain":[
       "0.8333333333333334"
      ]
     },
     "metadata":{
      
     },
     "output_type":"display_data"
    }
   ],
   "metadata":{
    "datalore":{
     "node_id":"mJG55tKaoMPX2vp7TmjMz7",
     "type":"CODE",
     "hide_input_from_viewers":false,
     "hide_output_from_viewers":false,
     "report_properties":{
      
     }
    }
   }
  },
  {
   "cell_type":"markdown",
   "source":[
    "Lets look at the confusion matrix:"
   ],
   "attachments":{
    
   },
   "metadata":{
    "datalore":{
     "node_id":"RyVYX2ZgRk8ePTOTPSYG7q",
     "type":"MD",
     "hide_input_from_viewers":false,
     "hide_output_from_viewers":false,
     "report_properties":{
      
     }
    }
   }
  },
  {
   "cell_type":"code",
   "source":[
    "yhat=logreg_cv.predict(X_test)\n",
    "plot_confusion_matrix(Y_test,yhat)"
   ],
   "execution_count":16,
   "outputs":[
    {
     "data":{
      "image\/png":"[encoded data removed]"
     },
     "metadata":{
      "image\/png":{
       
      }
     },
     "output_type":"display_data"
    }
   ],
   "metadata":{
    "datalore":{
     "node_id":"C421P2JUBht8gsB9xWHJfz",
     "type":"CODE",
     "hide_input_from_viewers":false,
     "hide_output_from_viewers":false,
     "report_properties":{
      
     }
    }
   }
  },
  {
   "cell_type":"markdown",
   "source":[
    "Examining the confusion matrix, we see that logistic regression can distinguish between the different classes.  We see that the major problem is false positives."
   ],
   "attachments":{
    
   },
   "metadata":{
    "datalore":{
     "node_id":"J32ykwIX8Em9FV5uUmTbOv",
     "type":"MD",
     "hide_input_from_viewers":false,
     "hide_output_from_viewers":false,
     "report_properties":{
      
     }
    }
   }
  },
  {
   "cell_type":"markdown",
   "source":[
    "## TASK  6"
   ],
   "attachments":{
    
   },
   "metadata":{
    "datalore":{
     "node_id":"9IjUVgguFBrCOcjROfnA5A",
     "type":"MD",
     "hide_input_from_viewers":false,
     "hide_output_from_viewers":false,
     "report_properties":{
      
     }
    }
   }
  },
  {
   "cell_type":"markdown",
   "source":[
    "Create a support vector machine object then  create a  <code>GridSearchCV<\/code> object  <code>svm_cv<\/code> with cv - 10.  Fit the object to find the best parameters from the dictionary <code>parameters<\/code>."
   ],
   "attachments":{
    
   },
   "metadata":{
    "datalore":{
     "node_id":"3oqALAEhxhxL2kEbK7Grli",
     "type":"MD",
     "hide_input_from_viewers":false,
     "hide_output_from_viewers":false,
     "report_properties":{
      
     }
    }
   }
  },
  {
   "cell_type":"code",
   "source":[
    "parameters_svm = {'kernel':('linear', 'rbf','poly','rbf','sigmoid'),\n",
    "              'C': np.logspace(-3, 3, 5),\n",
    "              'gamma':np.logspace(-3, 3, 5)}\n",
    "svm = SVC()"
   ],
   "execution_count":17,
   "outputs":[
    
   ],
   "metadata":{
    "datalore":{
     "node_id":"Ve0FxJO9u0Q3slsbqpXGFb",
     "type":"CODE",
     "hide_input_from_viewers":false,
     "hide_output_from_viewers":false,
     "report_properties":{
      
     }
    }
   }
  },
  {
   "cell_type":"code",
   "source":[
    "gscv = GridSearchCV(svm,parameters_svm, scoring = 'accuracy',cv = 10)\n",
    "\n",
    "svm_cv = gscv.fit(X_train, Y_train)"
   ],
   "execution_count":18,
   "outputs":[
    
   ],
   "metadata":{
    "datalore":{
     "node_id":"Kx0bbqstpibIWOMXEWiiFG",
     "type":"CODE",
     "hide_input_from_viewers":false,
     "hide_output_from_viewers":false,
     "report_properties":{
      
     }
    }
   }
  },
  {
   "cell_type":"code",
   "source":[
    "print(\"tuned hpyerparameters :(best parameters) \",svm_cv.best_params_)\n",
    "print(\"accuracy :\",svm_cv.best_score_)"
   ],
   "execution_count":19,
   "outputs":[
    {
     "name":"stdout",
     "text":[
      "tuned hpyerparameters :(best parameters)  {'C': 1.0, 'gamma': 0.03162277660168379, 'kernel': 'sigmoid'}\n",
      "accuracy : 0.8482142857142856\n"
     ],
     "output_type":"stream"
    }
   ],
   "metadata":{
    "datalore":{
     "node_id":"XUUChamwhGH2lgOUfkQdnb",
     "type":"CODE",
     "hide_input_from_viewers":false,
     "hide_output_from_viewers":false,
     "report_properties":{
      
     }
    }
   }
  },
  {
   "cell_type":"markdown",
   "source":[
    "## TASK  7"
   ],
   "attachments":{
    
   },
   "metadata":{
    "datalore":{
     "node_id":"sGZwDzndHQzeCuFohK45BR",
     "type":"MD",
     "hide_input_from_viewers":false,
     "hide_output_from_viewers":false,
     "report_properties":{
      
     }
    }
   }
  },
  {
   "cell_type":"markdown",
   "source":[
    "Calculate the accuracy on the test data using the method <code>score<\/code>:"
   ],
   "attachments":{
    
   },
   "metadata":{
    "datalore":{
     "node_id":"Hyxb5lozJYBNgQLvEtsJcz",
     "type":"MD",
     "hide_input_from_viewers":false,
     "hide_output_from_viewers":false,
     "report_properties":{
      
     }
    }
   }
  },
  {
   "cell_type":"code",
   "source":[
    "svm_cv.score(X_test, Y_test)"
   ],
   "execution_count":20,
   "outputs":[
    {
     "data":{
      "text\/plain":[
       "0.8333333333333334"
      ]
     },
     "metadata":{
      
     },
     "output_type":"display_data"
    }
   ],
   "metadata":{
    "datalore":{
     "node_id":"pHavNsuUeTKHSgrR8waFkk",
     "type":"CODE",
     "hide_input_from_viewers":false,
     "hide_output_from_viewers":false,
     "report_properties":{
      
     }
    }
   }
  },
  {
   "cell_type":"markdown",
   "source":[
    "We can plot the confusion matrix"
   ],
   "attachments":{
    
   },
   "metadata":{
    "datalore":{
     "node_id":"RTbNohaKWsDN0cn6OTTrgw",
     "type":"MD",
     "hide_input_from_viewers":false,
     "hide_output_from_viewers":false,
     "report_properties":{
      
     }
    }
   }
  },
  {
   "cell_type":"code",
   "source":[
    "yhat=svm_cv.predict(X_test)\n",
    "plot_confusion_matrix(Y_test,yhat)"
   ],
   "execution_count":21,
   "outputs":[
    {
     "data":{
      "image\/png":"[encoded data removed]"
     },
     "metadata":{
      "image\/png":{
       
      }
     },
     "output_type":"display_data"
    }
   ],
   "metadata":{
    "datalore":{
     "node_id":"HPYGYpShQe3ZCrGqhaTmgk",
     "type":"CODE",
     "hide_input_from_viewers":false,
     "hide_output_from_viewers":false,
     "report_properties":{
      
     }
    }
   }
  },
  {
   "cell_type":"markdown",
   "source":[
    "## TASK  8"
   ],
   "attachments":{
    
   },
   "metadata":{
    "datalore":{
     "node_id":"yFhzPJR2VIffALk1emxMCR",
     "type":"MD",
     "hide_input_from_viewers":false,
     "hide_output_from_viewers":false,
     "report_properties":{
      
     }
    }
   }
  },
  {
   "cell_type":"markdown",
   "source":[
    "Create a decision tree classifier object then  create a  <code>GridSearchCV<\/code> object  <code>tree_cv<\/code> with cv = 10.  Fit the object to find the best parameters from the dictionary <code>parameters<\/code>."
   ],
   "attachments":{
    
   },
   "metadata":{
    "datalore":{
     "node_id":"5KrO9wrkc9SxdcV3aoshVg",
     "type":"MD",
     "hide_input_from_viewers":false,
     "hide_output_from_viewers":false,
     "report_properties":{
      
     }
    }
   }
  },
  {
   "cell_type":"code",
   "source":[
    "parameters_tree = {'criterion': ['gini', 'entropy'],\n",
    "     'splitter': ['best', 'random'],\n",
    "     'max_depth': [2*n for n in range(1,10)],\n",
    "     'max_features': ['auto', 'sqrt'],\n",
    "     'min_samples_leaf': [1, 2, 4],\n",
    "     'min_samples_split': [2, 5, 10]}\n",
    "\n",
    "tree = DecisionTreeClassifier()"
   ],
   "execution_count":22,
   "outputs":[
    
   ],
   "metadata":{
    "datalore":{
     "node_id":"xEgq20iXCTev2wSncNziDp",
     "type":"CODE",
     "hide_input_from_viewers":false,
     "hide_output_from_viewers":false,
     "report_properties":{
      
     }
    }
   }
  },
  {
   "cell_type":"code",
   "source":[
    "tree_cv = GridSearchCV(tree, parameters_tree ) \n",
    "tree_cv.fit(X_train, Y_train)"
   ],
   "execution_count":23,
   "outputs":[
    {
     "data":{
      "text\/plain":[
       "GridSearchCV(estimator=DecisionTreeClassifier(),\n",
       "             param_grid={'criterion': ['gini', 'entropy'],\n",
       "                         'max_depth': [2, 4, 6, 8, 10, 12, 14, 16, 18],\n",
       "                         'max_features': ['auto', 'sqrt'],\n",
       "                         'min_samples_leaf': [1, 2, 4],\n",
       "                         'min_samples_split': [2, 5, 10],\n",
       "                         'splitter': ['best', 'random']})"
      ]
     },
     "metadata":{
      
     },
     "output_type":"display_data"
    }
   ],
   "metadata":{
    "datalore":{
     "node_id":"dqwQX4l59dY7RXtgPf2xMT",
     "type":"CODE",
     "hide_input_from_viewers":false,
     "hide_output_from_viewers":false,
     "report_properties":{
      
     }
    }
   }
  },
  {
   "cell_type":"code",
   "source":[
    "print(\"tuned hpyerparameters :(best parameters) \",tree_cv.best_params_)\n",
    "print(\"accuracy :\",tree_cv.best_score_)"
   ],
   "execution_count":24,
   "outputs":[
    {
     "name":"stdout",
     "text":[
      "tuned hpyerparameters :(best parameters)  {'criterion': 'gini', 'max_depth': 4, 'max_features': 'sqrt', 'min_samples_leaf': 4, 'min_samples_split': 2, 'splitter': 'random'}\n",
      "accuracy : 0.8885714285714286\n"
     ],
     "output_type":"stream"
    }
   ],
   "metadata":{
    "datalore":{
     "node_id":"XoqpclXzNHQMT8symfoOOB",
     "type":"CODE",
     "hide_input_from_viewers":false,
     "hide_output_from_viewers":false,
     "report_properties":{
      
     }
    }
   }
  },
  {
   "cell_type":"markdown",
   "source":[
    "## TASK  9"
   ],
   "attachments":{
    
   },
   "metadata":{
    "datalore":{
     "node_id":"X040hf3Cj5r3WHHFC4T6ro",
     "type":"MD",
     "hide_input_from_viewers":false,
     "hide_output_from_viewers":false,
     "report_properties":{
      
     }
    }
   }
  },
  {
   "cell_type":"markdown",
   "source":[
    "Calculate the accuracy of tree_cv on the test data using the method <code>score<\/code>:"
   ],
   "attachments":{
    
   },
   "metadata":{
    "datalore":{
     "node_id":"cKWl16jliNH3SwvsqjZKYD",
     "type":"MD",
     "hide_input_from_viewers":false,
     "hide_output_from_viewers":false,
     "report_properties":{
      
     }
    }
   }
  },
  {
   "cell_type":"code",
   "source":[
    "tree_cv.score(X_test,Y_test)"
   ],
   "execution_count":25,
   "outputs":[
    {
     "data":{
      "text\/plain":[
       "0.8333333333333334"
      ]
     },
     "metadata":{
      
     },
     "output_type":"display_data"
    }
   ],
   "metadata":{
    "datalore":{
     "node_id":"5Z0C2HXfBAEhHeW9sXelkm",
     "type":"CODE",
     "hide_input_from_viewers":false,
     "hide_output_from_viewers":false,
     "report_properties":{
      
     }
    }
   }
  },
  {
   "cell_type":"code",
   "source":[
    "yhat = tree_cv.predict(X_test)\n",
    "plot_confusion_matrix(Y_test,yhat)"
   ],
   "execution_count":26,
   "outputs":[
    {
     "data":{
      "image\/png":"[encoded data removed]"
     },
     "metadata":{
      "image\/png":{
       
      }
     },
     "output_type":"display_data"
    }
   ],
   "metadata":{
    "datalore":{
     "node_id":"axhXQTU4Uo82hPLGxm2UIA",
     "type":"CODE",
     "hide_input_from_viewers":true,
     "hide_output_from_viewers":true
    }
   }
  },
  {
   "cell_type":"markdown",
   "source":[
    "We can plot the confusion matrix"
   ],
   "attachments":{
    
   },
   "metadata":{
    "datalore":{
     "node_id":"Qytc2ZCjT3ACmvwqVGVeGU",
     "type":"MD",
     "hide_input_from_viewers":false,
     "hide_output_from_viewers":false,
     "report_properties":{
      
     }
    }
   }
  },
  {
   "cell_type":"code",
   "source":[
    "yhat = svm_cv.predict(X_test)\n",
    "plot_confusion_matrix(Y_test,yhat)"
   ],
   "execution_count":28,
   "outputs":[
    {
     "data":{
      "image\/png":"[encoded data removed]"
     },
     "metadata":{
      "image\/png":{
       
      }
     },
     "output_type":"display_data"
    }
   ],
   "metadata":{
    "datalore":{
     "node_id":"UBEl5IeqlDO9hy5fiAaLOU",
     "type":"CODE",
     "hide_input_from_viewers":false,
     "hide_output_from_viewers":false,
     "report_properties":{
      
     }
    }
   }
  },
  {
   "cell_type":"markdown",
   "source":[
    "## TASK  10"
   ],
   "attachments":{
    
   },
   "metadata":{
    "datalore":{
     "node_id":"FIlgFi8ZbHjs5I1sEUaN7K",
     "type":"MD",
     "hide_input_from_viewers":false,
     "hide_output_from_viewers":false,
     "report_properties":{
      
     }
    }
   }
  },
  {
   "cell_type":"markdown",
   "source":[
    "Create a k nearest neighbors object then  create a  <code>GridSearchCV<\/code> object  <code>knn_cv<\/code> with cv = 10.  Fit the object to find the best parameters from the dictionary <code>parameters<\/code>."
   ],
   "attachments":{
    
   },
   "metadata":{
    "datalore":{
     "node_id":"Lwqu63SxdAiaJSwJ8hSw06",
     "type":"MD",
     "hide_input_from_viewers":false,
     "hide_output_from_viewers":false,
     "report_properties":{
      
     }
    }
   }
  },
  {
   "cell_type":"code",
   "source":[
    "parameters_KKN = {'n_neighbors': [1, 2, 3, 4, 5, 6, 7, 8, 9, 10],\n",
    "              'algorithm': ['auto', 'ball_tree', 'kd_tree', 'brute'],\n",
    "              'p': [1,2]}\n",
    "\n",
    "KNN = KNeighborsClassifier()"
   ],
   "execution_count":28,
   "outputs":[
    
   ],
   "metadata":{
    "datalore":{
     "node_id":"8zSLLjxtJq8BTLg16LE7vB",
     "type":"CODE",
     "hide_input_from_viewers":false,
     "hide_output_from_viewers":false,
     "report_properties":{
      
     }
    }
   }
  },
  {
   "cell_type":"code",
   "source":[
    "\n",
    "knn_cv = GridSearchCV(KNN, parameters_KKN, cv=10 )\n",
    "knn_cv.fit(X_train, Y_train)"
   ],
   "execution_count":29,
   "outputs":[
    {
     "data":{
      "text\/plain":[
       "GridSearchCV(cv=10, estimator=KNeighborsClassifier(),\n",
       "             param_grid={'algorithm': ['auto', 'ball_tree', 'kd_tree', 'brute'],\n",
       "                         'n_neighbors': [1, 2, 3, 4, 5, 6, 7, 8, 9, 10],\n",
       "                         'p': [1, 2]})"
      ]
     },
     "metadata":{
      
     },
     "output_type":"display_data"
    }
   ],
   "metadata":{
    "datalore":{
     "node_id":"6ycG6CgsLNqpzIGWLXc1uJ",
     "type":"CODE",
     "hide_input_from_viewers":false,
     "hide_output_from_viewers":false,
     "report_properties":{
      
     }
    }
   }
  },
  {
   "cell_type":"code",
   "source":[
    "print(\"tuned hpyerparameters :(best parameters) \",knn_cv.best_params_)\n",
    "print(\"accuracy :\",knn_cv.best_score_)"
   ],
   "execution_count":30,
   "outputs":[
    {
     "name":"stdout",
     "text":[
      "tuned hpyerparameters :(best parameters)  {'algorithm': 'auto', 'n_neighbors': 10, 'p': 1}\n",
      "accuracy : 0.8482142857142858\n"
     ],
     "output_type":"stream"
    }
   ],
   "metadata":{
    "datalore":{
     "node_id":"naDNSZTmnuJg1ANa0jcagf",
     "type":"CODE",
     "hide_input_from_viewers":false,
     "hide_output_from_viewers":false,
     "report_properties":{
      
     }
    }
   }
  },
  {
   "cell_type":"code",
   "source":[
    "knn_cv.score(X_test,Y_test)"
   ],
   "execution_count":31,
   "outputs":[
    {
     "data":{
      "text\/plain":[
       "0.8333333333333334"
      ]
     },
     "metadata":{
      
     },
     "output_type":"display_data"
    }
   ],
   "metadata":{
    "datalore":{
     "node_id":"F4Hs6VBIqAwZvqiXn9bvp2",
     "type":"CODE",
     "hide_input_from_viewers":false,
     "hide_output_from_viewers":false,
     "report_properties":{
      
     }
    }
   }
  },
  {
   "cell_type":"markdown",
   "source":[
    "## TASK  11"
   ],
   "attachments":{
    
   },
   "metadata":{
    "datalore":{
     "node_id":"VIo7gi5LApx7aTqRahRnB8",
     "type":"MD",
     "hide_input_from_viewers":false,
     "hide_output_from_viewers":false,
     "report_properties":{
      
     }
    }
   }
  },
  {
   "cell_type":"markdown",
   "source":[
    "Calculate the accuracy of tree_cv on the test data using the method <code>score<\/code>:"
   ],
   "attachments":{
    
   },
   "metadata":{
    "datalore":{
     "node_id":"qq4EVYyAxgc3VRnsVtoZkv",
     "type":"MD",
     "hide_input_from_viewers":false,
     "hide_output_from_viewers":false,
     "report_properties":{
      
     }
    }
   }
  },
  {
   "cell_type":"code",
   "source":[
    "tree_cv.score(X_test, Y_test)"
   ],
   "execution_count":32,
   "outputs":[
    {
     "data":{
      "text\/plain":[
       "0.8333333333333334"
      ]
     },
     "metadata":{
      
     },
     "output_type":"display_data"
    }
   ],
   "metadata":{
    "datalore":{
     "node_id":"gOHWMjKRFj36241Lgfak9w",
     "type":"CODE",
     "hide_input_from_viewers":false,
     "hide_output_from_viewers":false,
     "report_properties":{
      
     }
    }
   }
  },
  {
   "cell_type":"markdown",
   "source":[
    "We can plot the confusion matrix"
   ],
   "attachments":{
    
   },
   "metadata":{
    "datalore":{
     "node_id":"BDIV75A78PnMXKUIzcf98m",
     "type":"MD",
     "hide_input_from_viewers":false,
     "hide_output_from_viewers":false,
     "report_properties":{
      
     }
    }
   }
  },
  {
   "cell_type":"code",
   "source":[
    "yhat = knn_cv.predict(X_test)\n",
    "plot_confusion_matrix(Y_test,yhat)"
   ],
   "execution_count":33,
   "outputs":[
    {
     "data":{
      "image\/png":"[encoded data removed]"
     },
     "metadata":{
      "image\/png":{
       
      }
     },
     "output_type":"display_data"
    }
   ],
   "metadata":{
    "datalore":{
     "node_id":"eb4ZTku838Geb4pHoi9qWD",
     "type":"CODE",
     "hide_input_from_viewers":false,
     "hide_output_from_viewers":false,
     "report_properties":{
      
     }
    }
   }
  },
  {
   "cell_type":"markdown",
   "source":[
    "## TASK  12"
   ],
   "attachments":{
    
   },
   "metadata":{
    "datalore":{
     "node_id":"m5MroA4YOOMVjIuOalF5uz",
     "type":"MD",
     "hide_input_from_viewers":false,
     "hide_output_from_viewers":false,
     "report_properties":{
      
     }
    }
   }
  },
  {
   "cell_type":"markdown",
   "source":[
    "Find the method performs best:"
   ],
   "attachments":{
    
   },
   "metadata":{
    "datalore":{
     "node_id":"QD8Y5VV4j1BQ8JexGtFeXh",
     "type":"MD",
     "hide_input_from_viewers":false,
     "hide_output_from_viewers":false,
     "report_properties":{
      
     }
    }
   }
  },
  {
   "cell_type":"code",
   "source":[
    "print(\"This is the score for the Logistic regression: \", logreg_cv.score(X_test,Y_test))\n",
    "print(\"This is the score for the Support Vector Machine: \", svm_cv.score(X_test, Y_test))\n",
    "print(\"This is the score for the Knearest Neighbours: \", knn_cv.score(X_test,Y_test))\n",
    "print(\"This is the score for the Decision tree: \", tree_cv.score(X_test, Y_test))"
   ],
   "execution_count":34,
   "outputs":[
    {
     "name":"stdout",
     "text":[
      "This is the score for the Logistic regression:  0.8333333333333334\n",
      "This is the score for the Support Vector Machine:  0.8333333333333334\n",
      "This is the score for the Knearest Neighbours:  0.8333333333333334\n",
      "This is the score for the Decision tree:  0.8333333333333334\n"
     ],
     "output_type":"stream"
    }
   ],
   "metadata":{
    "datalore":{
     "node_id":"lqbxL0Jd6GCTk8GvLlyAbS",
     "type":"CODE",
     "hide_input_from_viewers":false,
     "hide_output_from_viewers":false,
     "report_properties":{
      
     }
    }
   }
  },
  {
   "cell_type":"code",
   "source":[
    "x_axis = ['LogReg', 'SVM ', 'KNN ', 'Tree']\n",
    "y_axis = [logreg_cv.score(X_test,Y_test), svm_cv.score(X_test, Y_test), knn_cv.score(X_test,Y_test), tree_cv.score(X_test, Y_test)]\n",
    "\n",
    "plt.bar(x_axis, y_axis)\n",
    "plt.title('Classification Accuracy')\n",
    "plt.xlabel('Model')\n",
    "plt.ylabel('Accuracy')\n",
    "plt.show()"
   ],
   "execution_count":37,
   "outputs":[
    {
     "data":{
      "image\/png":"[encoded data removed]"
     },
     "metadata":{
      "image\/png":{
       
      }
     },
     "output_type":"display_data"
    }
   ],
   "metadata":{
    "datalore":{
     "node_id":"5j4KrQ9jYcYXgvFs6UbGrD",
     "type":"CODE",
     "hide_input_from_viewers":true,
     "hide_output_from_viewers":true
    }
   }
  },
  {
   "cell_type":"markdown",
   "source":[
    "## Authors"
   ],
   "attachments":{
    
   },
   "metadata":{
    "datalore":{
     "node_id":"lTuBmt5SMX1N1GRgbPwtgo",
     "type":"MD",
     "hide_input_from_viewers":false,
     "hide_output_from_viewers":false,
     "report_properties":{
      
     }
    }
   }
  },
  {
   "cell_type":"markdown",
   "source":[
    "<a href=\"https:\/\/www.linkedin.com\/in\/joseph-s-50398b136\/?utm_medium=Exinfluencer&utm_source=Exinfluencer&utm_content=000026UJ&utm_term=10006555&utm_id=NA-SkillsNetwork-Channel-SkillsNetworkCoursesIBMDS0321ENSkillsNetwork26802033-2022-01-01\">Joseph Santarcangelo<\/a> has a PhD in Electrical Engineering, his research focused on using machine learning, signal processing, and computer vision to determine how videos impact human cognition. Joseph has been working for IBM since he completed his PhD."
   ],
   "attachments":{
    
   },
   "metadata":{
    "datalore":{
     "node_id":"kxnMp99Cp58WObxXllbR0L",
     "type":"MD",
     "hide_input_from_viewers":false,
     "hide_output_from_viewers":false,
     "report_properties":{
      
     }
    }
   }
  },
  {
   "cell_type":"markdown",
   "source":[
    "## Change Log"
   ],
   "attachments":{
    
   },
   "metadata":{
    "datalore":{
     "node_id":"op9lODMvYSkBc3VJWDjNdl",
     "type":"MD",
     "hide_input_from_viewers":false,
     "hide_output_from_viewers":false,
     "report_properties":{
      
     }
    }
   }
  },
  {
   "cell_type":"markdown",
   "source":[
    "| Date (YYYY-MM-DD) | Version | Changed By    | Change Description      |\n",
    "| ----------------- | ------- | ------------- | ----------------------- |\n",
    "| 2021-08-31        | 1.1     | Lakshmi Holla | Modified markdown       |\n",
    "| 2020-09-20        | 1.0     | Joseph        | Modified Multiple Areas |"
   ],
   "attachments":{
    
   },
   "metadata":{
    "datalore":{
     "node_id":"wYqlekjlKmdMSuR5fUO1GY",
     "type":"MD",
     "hide_input_from_viewers":false,
     "hide_output_from_viewers":false,
     "report_properties":{
      
     }
    }
   }
  },
  {
   "cell_type":"markdown",
   "source":[
    "Copyright © 2020 IBM Corporation. All rights reserved."
   ],
   "attachments":{
    
   },
   "metadata":{
    "datalore":{
     "node_id":"qfwJmbCtehvmMp8tw9DEpQ",
     "type":"MD",
     "hide_input_from_viewers":false,
     "hide_output_from_viewers":false,
     "report_properties":{
      
     }
    }
   }
  }
 ],
 "metadata":{
  "kernelspec":{
   "display_name":"Python",
   "language":"python",
   "name":"python"
  },
  "datalore":{
   "version":1,
   "computation_mode":"JUPYTER",
   "package_manager":"pip",
   "base_environment":"default",
   "packages":[
    
   ]
  }
 },
 "nbformat":4,
 "nbformat_minor":4
}