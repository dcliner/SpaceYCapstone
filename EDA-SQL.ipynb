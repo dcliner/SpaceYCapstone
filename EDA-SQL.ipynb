{
 "cells":[
  {
   "cell_type":"markdown",
   "source":[
    "<p style=\"text-align:center\">\n",
    "    <a href=\"https:\/\/skills.network\/?utm_medium=Exinfluencer&utm_source=Exinfluencer&utm_content=000026UJ&utm_term=10006555&utm_id=NA-SkillsNetwork-Channel-SkillsNetworkCoursesIBMDS0321ENSkillsNetwork26802033-2022-01-01\" target=\"_blank\">\n",
    "    <img src=\"https:\/\/cf-courses-data.s3.us.cloud-object-storage.appdomain.cloud\/assets\/logos\/SN_web_lightmode.png\" width=\"200\" alt=\"Skills Network Logo\"  \/>\n",
    "    <\/a>\n",
    "<\/p>\n",
    "\n",
    "<h1 align=center><font size = 5>Assignment: SQL Notebook for Peer Assignment<\/font><\/h1>\n",
    "\n",
    "Estimated time needed: **60** minutes.\n",
    "\n",
    "## Introduction\n",
    "\n",
    "Using this Python notebook you will:\n",
    "\n",
    "1.  Understand the Spacex DataSet\n",
    "2.  Load the dataset  into the corresponding table in a Db2 database\n",
    "3.  Execute SQL queries to answer assignment questions"
   ],
   "attachments":{
    
   },
   "metadata":{
    "datalore":{
     "node_id":"5Ra5xjXcd253EdgNJzPqzl",
     "type":"MD",
     "hide_input_from_viewers":false,
     "hide_output_from_viewers":false,
     "report_properties":{
      
     }
    }
   }
  },
  {
   "cell_type":"markdown",
   "source":[
    "## Overview of the DataSet\n",
    "\n",
    "SpaceX has gained worldwide attention for a series of historic milestones.\n",
    "\n",
    "It is the only private company ever to return a spacecraft from low-earth orbit, which it first accomplished in December 2010.\n",
    "SpaceX advertises Falcon 9 rocket launches on its website with a cost of 62 million dollars wheras other providers cost upward of 165 million dollars each, much of the savings is because Space X can reuse the first stage.\n",
    "\n",
    "Therefore if we can determine if the first stage will land, we can determine the cost of a launch.\n",
    "\n",
    "This information can be used if an alternate company wants to bid against SpaceX for a rocket launch.\n",
    "\n",
    "This dataset includes a record for each payload carried during a SpaceX mission into outer space."
   ],
   "attachments":{
    
   },
   "metadata":{
    "datalore":{
     "node_id":"vU7kxEvhBbEdLyMq4HIWiN",
     "type":"MD",
     "hide_input_from_viewers":false,
     "hide_output_from_viewers":false,
     "report_properties":{
      
     }
    }
   }
  },
  {
   "cell_type":"markdown",
   "source":[
    "### Download the datasets\n",
    "\n",
    "This assignment requires you to load the spacex dataset.\n",
    "\n",
    "In many cases the dataset to be analyzed is available as a .CSV (comma separated values) file, perhaps on the internet. Click on the link below to download and save the dataset (.CSV file):\n",
    "\n",
    "<a href=\"https:\/\/cf-courses-data.s3.us.cloud-object-storage.appdomain.cloud\/IBM-DS0321EN-SkillsNetwork\/labs\/module_2\/data\/Spacex.csv?utm_medium=Exinfluencer&utm_source=Exinfluencer&utm_content=000026UJ&utm_term=10006555&utm_id=NA-SkillsNetwork-Channel-SkillsNetworkCoursesIBMDS0321ENSkillsNetwork26802033-2022-01-01\" target=\"_blank\">Spacex DataSet<\/a>"
   ],
   "attachments":{
    
   },
   "metadata":{
    "datalore":{
     "node_id":"MTrmFDVXnvXwixEy1gkTYc",
     "type":"MD",
     "hide_input_from_viewers":false,
     "hide_output_from_viewers":false,
     "report_properties":{
      
     }
    }
   }
  },
  {
   "cell_type":"markdown",
   "source":[
    "**Navigate to the Go to UI screen**\n",
    "\n",
    "*   Refer to this insruction in this <a href=\"https:\/\/cf-courses-data.s3.us.cloud-object-storage.appdomain.cloud\/IBMDeveloperSkillsNetwork-DB0201EN-SkillsNetwork\/labs\/Labs_Coursera_V5\/labs\/Lab%20-%20Sign%20up%20for%20IBM%20Cloud%20-%20Create%20Db2%20service%20instance%20-%20Get%20started%20with%20the%20Db2%20console\/instructional-labs.md.html?utm_medium=Exinfluencer&utm_source=Exinfluencer&utm_content=000026UJ&utm_term=10006555&utm_id=NA-SkillsNetwork-Channel-SkillsNetworkCoursesIBMDS0321ENSkillsNetwork26802033-2022-01-01\">link<\/a> for viewing  the   Go to UI screen.\n",
    "\n",
    "*   Later click on **Data link(below SQL)**  in the Go to UI screen  and click on **Load Data** tab.\n",
    "\n",
    "*   Later browse for the downloaded spacex file.\n",
    "\n",
    "<img src=\"https:\/\/cf-courses-data.s3.us.cloud-object-storage.appdomain.cloud\/IBM-DS0321EN-SkillsNetwork\/labs\/module_2\/images\/browsefile.png\" width=\"800\"\/>\n",
    "\n",
    "*   Once done select the schema andload the file.\n",
    "\n",
    " <img src=\"https:\/\/cf-courses-data.s3.us.cloud-object-storage.appdomain.cloud\/IBM-DS0321EN-SkillsNetwork\/labs\/module_2\/images\/spacexload3.png\" width=\"800\"\/>"
   ],
   "attachments":{
    
   },
   "metadata":{
    "datalore":{
     "node_id":"4F3s3St2tnZ6lNaNSz0ebK",
     "type":"MD",
     "hide_input_from_viewers":false,
     "hide_output_from_viewers":false,
     "report_properties":{
      
     }
    }
   }
  },
  {
   "cell_type":"code",
   "source":[
    "\n",
    "\n",
    "!pip install sqlalchemy==1.3.9\n",
    "!pip install ibm_db_sa\n",
    "!pip install ipython-sql"
   ],
   "execution_count":2,
   "outputs":[
    {
     "name":"stdout",
     "text":[
      "Collecting sqlalchemy==1.3.9\r\n",
      "  Downloading SQLAlchemy-1.3.9.tar.gz (6.0 MB)\r\n",
      "\u001b[?25l\r\r     |                                | 10 kB 17.9 MB\/s eta 0:00:01\r     |                                | 20 kB 22.5 MB\/s eta 0:00:01\r     |▏                               | 30 kB 24.7 MB\/s eta 0:00:01\r     |▏                               | 40 kB 27.4 MB\/s eta 0:00:01\r     |▎                               | 51 kB 31.1 MB\/s eta 0:00:01\r     |▎                               | 61 kB 24.1 MB\/s eta 0:00:01\r     |▍                               | 71 kB 26.1 MB\/s eta 0:00:01\r     |▍                               | 81 kB 28.3 MB\/s eta 0:00:01\r     |▌                               | 92 kB 29.4 MB\/s eta 0:00:01\r     |▌                               | 102 kB 31.3 MB\/s eta 0:00:01\r     |▋                               | 112 kB 31.3 MB\/s eta 0:00:01\r     |▋                               | 122 kB 31.3 MB\/s eta 0:00:01\r     |▊                               | 133 kB 31.3 MB\/s eta 0:00:01\r     |▊                               | 143 kB 31.3 MB\/s eta 0:00:01\r     |▉                               | 153 kB 31.3 MB\/s eta 0:00:01\r     |▉                               | 163 kB 31.3 MB\/s eta 0:00:01\r     |█                               | 174 kB 31.3 MB\/s eta 0:00:01\r     |█                               | 184 kB 31.3 MB\/s eta 0:00:01\r     |█                               | 194 kB 31.3 MB\/s eta 0:00:01\r     |█                               | 204 kB 31.3 MB\/s eta 0:00:01\r     |█▏                              | 215 kB 31.3 MB\/s eta 0:00:01\r     |█▏                              | 225 kB 31.3 MB\/s eta 0:00:01\r     |█▎                              | 235 kB 31.3 MB\/s eta 0:00:01\r     |█▎                              | 245 kB 31.3 MB\/s eta 0:00:01\r     |█▍                              | 256 kB 31.3 MB\/s eta 0:00:01\r     |█▍                              | 266 kB 31.3 MB\/s eta 0:00:01\r     |█▌                              | 276 kB 31.3 MB\/s eta 0:00:01\r     |█▌                              | 286 kB 31.3 MB\/s eta 0:00:01\r     |█▋                              | 296 kB 31.3 MB\/s eta 0:00:01\r     |█▋                              | 307 kB 31.3 MB\/s eta 0:00:01\r     |█▊                              | 317 kB 31.3 MB\/s eta 0:00:01\r     |█▊                              | 327 kB 31.3 MB\/s eta 0:00:01\r     |█▉                              | 337 kB 31.3 MB\/s eta 0:00:01\r     |█▉                              | 348 kB 31.3 MB\/s eta 0:00:01\r     |██                              | 358 kB 31.3 MB\/s eta 0:00:01\r     |██                              | 368 kB 31.3 MB\/s eta 0:00:01\r     |██                              | 378 kB 31.3 MB\/s eta 0:00:01\r     |██                              | 389 kB 31.3 MB\/s eta 0:00:01\r     |██▏                             | 399 kB 31.3 MB\/s eta 0:00:01\r     |██▏                             | 409 kB 31.3 MB\/s eta 0:00:01\r     |██▎                             | 419 kB 31.3 MB\/s eta 0:00:01\r     |██▎                             | 430 kB 31.3 MB\/s eta 0:00:01\r     |██▍                             | 440 kB 31.3 MB\/s eta 0:00:01\r     |██▍                             | 450 kB 31.3 MB\/s eta 0:00:01\r     |██▌                             | 460 kB 31.3 MB\/s eta 0:00:01\r     |██▌                             | 471 kB 31.3 MB\/s eta 0:00:01\r     |██▋                             | 481 kB 31.3 MB\/s eta 0:00:01\r     |██▋                             | 491 kB 31.3 MB\/s eta 0:00:01\r     |██▊                             | 501 kB 31.3 MB\/s eta 0:00:01\r     |██▊                             | 512 kB 31.3 MB\/s eta 0:00:01\r     |██▉                             | 522 kB 31.3 MB\/s eta 0:00:01\r     |██▉                             | 532 kB 31.3 MB\/s eta 0:00:01\r     |███                             | 542 kB 31.3 MB\/s eta 0:00:01\r     |███                             | 552 kB 31.3 MB\/s eta 0:00:01\r     |███                             | 563 kB 31.3 MB\/s eta 0:00:01\r     |███                             | 573 kB 31.3 MB\/s eta 0:00:01\r     |███▏                            | 583 kB 31.3 MB\/s eta 0:00:01\r     |███▏                            | 593 kB 31.3 MB\/s eta 0:00:01\r     |███▎                            | 604 kB 31.3 MB\/s eta 0:00:01\r     |███▎                            | 614 kB 31.3 MB\/s eta 0:00:01\r     |███▍                            | 624 kB 31.3 MB\/s eta 0:00:01\r     |███▍                            | 634 kB 31.3 MB\/s eta 0:00:01\r     |███▌                            | 645 kB 31.3 MB\/s eta 0:00:01\r     |███▌                            | 655 kB 31.3 MB\/s eta 0:00:01\r     |███▋                            | 665 kB 31.3 MB\/s eta 0:00:01\r     |███▋                            | 675 kB 31.3 MB\/s eta 0:00:01\r     |███▊                            | 686 kB 31.3 MB\/s eta 0:00:01\r     |███▊                            | 696 kB 31.3 MB\/s eta 0:00:01\r     |███▉                            | 706 kB 31.3 MB\/s eta 0:00:01\r     |███▉                            | 716 kB 31.3 MB\/s eta 0:00:01\r     |████                            | 727 kB 31.3 MB\/s eta 0:00:01\r     |████                            | 737 kB 31.3 MB\/s eta 0:00:01\r     |████                            | 747 kB 31.3 MB\/s eta 0:00:01\r     |████                            | 757 kB 31.3 MB\/s eta 0:00:01\r     |████▏                           | 768 kB 31.3 MB\/s eta 0:00:01\r     |████▏                           | 778 kB 31.3 MB\/s eta 0:00:01\r     |████▎                           | 788 kB 31.3 MB\/s eta 0:00:01\r     |████▎                           | 798 kB 31.3 MB\/s eta 0:00:01\r     |████▍                           | 808 kB 31.3 MB\/s eta 0:00:01\r     |████▍                           | 819 kB 31.3 MB\/s eta 0:00:01\r     |████▌                           | 829 kB 31.3 MB\/s eta 0:00:01\r     |████▌                           | 839 kB 31.3 MB\/s eta 0:00:01\r     |████▋                           | 849 kB 31.3 MB\/s eta 0:00:01\r     |████▋                           | 860 kB 31.3 MB\/s eta 0:00:01\r     |████▊                           | 870 kB 31.3 MB\/s eta 0:00:01\r     |████▊                           | 880 kB 31.3 MB\/s eta 0:00:01\r     |████▉                           | 890 kB 31.3 MB\/s eta 0:00:01\r     |████▉                           | 901 kB 31.3 MB\/s eta 0:00:01\r     |████▉                           | 911 kB 31.3 MB\/s eta 0:00:01\r     |█████                           | 921 kB 31.3 MB\/s eta 0:00:01\r     |█████                           | 931 kB 31.3 MB\/s eta 0:00:01\r     |█████                           | 942 kB 31.3 MB\/s eta 0:00:01\r     |█████                           | 952 kB 31.3 MB\/s eta 0:00:01\r     |█████▏                          | 962 kB 31.3 MB\/s eta 0:00:01\r     |█████▏                          | 972 kB 31.3 MB\/s eta 0:00:01\r     |█████▎                          | 983 kB 31.3 MB\/s eta 0:00:01\r     |█████▎                          | 993 kB 31.3 MB\/s eta 0:00:01\r     |█████▍                          | 1.0 MB 31.3 MB\/s eta 0:00:01\r     |█████▍                          | 1.0 MB 31.3 MB\/s eta 0:00:01\r     |█████▌                          | 1.0 MB 31.3 MB\/s eta 0:00:01\r     |█████▌                          | 1.0 MB 31.3 MB\/s eta 0:00:01\r     |█████▋                          | 1.0 MB 31.3 MB\/s eta 0:00:01\r     |█████▋                          | 1.1 MB 31.3 MB\/s eta 0:00:01\r     |█████▊                          | 1.1 MB 31.3 MB\/s eta 0:00:01\r     |█████▊                          | 1.1 MB 31.3 MB\/s eta 0:00:01\r     |█████▉                          | 1.1 MB 31.3 MB\/s eta 0:00:01\r     |█████▉                          | 1.1 MB 31.3 MB\/s eta 0:00:01\r     |██████                          | 1.1 MB 31.3 MB\/s eta 0:00:01\r     |██████                          | 1.1 MB 31.3 MB\/s eta 0:00:01\r     |██████                          | 1.1 MB 31.3 MB\/s eta 0:00:01\r     |██████                          | 1.1 MB 31.3 MB\/s eta 0:00:01\r     |██████▏                         | 1.1 MB 31.3 MB\/s eta 0:00:01\r     |██████▏                         | 1.2 MB 31.3 MB\/s eta 0:00:01\r     |██████▎                         | 1.2 MB 31.3 MB\/s eta 0:00:01\r     |██████▎                         | 1.2 MB 31.3 MB\/s eta 0:00:01\r     |██████▍                         | 1.2 MB 31.3 MB\/s eta 0:00:01\r     |██████▍                         | 1.2 MB 31.3 MB\/s eta 0:00:01\r     |██████▌                         | 1.2 MB 31.3 MB\/s eta 0:00:01\r     |██████▌                         | 1.2 MB 31.3 MB\/s eta 0:00:01\r     |██████▋                         | 1.2 MB 31.3 MB\/s eta 0:00:01\r     |██████▋                         | 1.2 MB 31.3 MB\/s eta 0:00:01\r     |██████▊                         | 1.2 MB 31.3 MB\/s eta 0:00:01\r     |██████▊                         | 1.3 MB 31.3 MB\/s eta 0:00:01\r     |██████▉                         | 1.3 MB 31.3 MB\/s eta 0:00:01\r     |██████▉                         | 1.3 MB 31.3 MB\/s eta 0:00:01\r     |███████                         | 1.3 MB 31.3 MB\/s eta 0:00:01\r     |███████                         | 1.3 MB 31.3 MB\/s eta 0:00:01\r     |███████                         | 1.3 MB 31.3 MB\/s eta 0:00:01\r     |███████                         | 1.3 MB 31.3 MB\/s eta 0:00:01\r     |███████▏                        | 1.3 MB 31.3 MB\/s eta 0:00:01\r     |███████▏                        | 1.3 MB 31.3 MB\/s eta 0:00:01\r     |███████▎                        | 1.4 MB 31.3 MB\/s eta 0:00:01\r     |███████▎                        | 1.4 MB 31.3 MB\/s eta 0:00:01\r     |███████▍                        | 1.4 MB 31.3 MB\/s eta 0:00:01\r     |███████▍                        | 1.4 MB 31.3 MB\/s eta 0:00:01\r     |███████▌                        | 1.4 MB 31.3 MB\/s eta 0:00:01\r     |███████▌                        | 1.4 MB 31.3 MB\/s eta 0:00:01\r     |███████▋                        | 1.4 MB 31.3 MB\/s eta 0:00:01\r     |███████▋                        | 1.4 MB 31.3 MB\/s eta 0:00:01\r     |███████▊                        | 1.4 MB 31.3 MB\/s eta 0:00:01\r     |███████▊                        | 1.4 MB 31.3 MB\/s eta 0:00:01\r     |███████▉                        | 1.5 MB 31.3 MB\/s eta 0:00:01\r     |███████▉                        | 1.5 MB 31.3 MB\/s eta 0:00:01\r     |████████                        | 1.5 MB 31.3 MB\/s eta 0:00:01\r     |████████                        | 1.5 MB 31.3 MB\/s eta 0:00:01\r     |████████                        | 1.5 MB 31.3 MB\/s eta 0:00:01\r     |████████                        | 1.5 MB 31.3 MB\/s eta 0:00:01\r     |████████▏                       | 1.5 MB 31.3 MB\/s eta 0:00:01\r     |████████▏                       | 1.5 MB 31.3 MB\/s eta 0:00:01\r     |████████▎                       | 1.5 MB 31.3 MB\/s eta 0:00:01\r     |████████▎                       | 1.5 MB 31.3 MB\/s eta 0:00:01\r     |████████▍                       | 1.6 MB 31.3 MB\/s eta 0:00:01\r     |████████▍                       | 1.6 MB 31.3 MB\/s eta 0:00:01\r     |████████▌                       | 1.6 MB 31.3 MB\/s eta 0:00:01\r     |████████▌                       | 1.6 MB 31.3 MB\/s eta 0:00:01\r     |████████▋                       | 1.6 MB 31.3 MB\/s eta 0:00:01\r     |████████▋                       | 1.6 MB 31.3 MB\/s eta 0:00:01\r     |████████▊                       | 1.6 MB 31.3 MB\/s eta 0:00:01\r     |████████▊                       | 1.6 MB 31.3 MB\/s eta 0:00:01\r     |████████▉                       | 1.6 MB 31.3 MB\/s eta 0:00:01\r     |████████▉                       | 1.6 MB 31.3 MB\/s eta 0:00:01\r     |█████████                       | 1.7 MB 31.3 MB\/s eta 0:00:01\r     |█████████                       | 1.7 MB 31.3 MB\/s eta 0:00:01\r     |█████████                       | 1.7 MB 31.3 MB\/s eta 0:00:01\r     |█████████                       | 1.7 MB 31.3 MB\/s eta 0:00:01\r     |█████████▏                      | 1.7 MB 31.3 MB\/s eta 0:00:01\r     |█████████▏                      | 1.7 MB 31.3 MB\/s eta 0:00:01\r     |█████████▎                      | 1.7 MB 31.3 MB\/s eta 0:00:01\r     |█████████▎                      | 1.7 MB 31.3 MB\/s eta 0:00:01\r     |█████████▍                      | 1.7 MB 31.3 MB\/s eta 0:00:01\r     |█████████▍                      | 1.8 MB 31.3 MB\/s eta 0:00:01\r     |█████████▌                      | 1.8 MB 31.3 MB\/s eta 0:00:01\r     |█████████▌                      | 1.8 MB 31.3 MB\/s eta 0:00:01\r     |█████████▋                      | 1.8 MB 31.3 MB\/s eta 0:00:01\r     |█████████▋                      | 1.8 MB 31.3 MB\/s eta 0:00:01\r     |█████████▋                      | 1.8 MB 31.3 MB\/s eta 0:00:01\r     |█████████▊                      | 1.8 MB 31.3 MB\/s eta 0:00:01\r     |█████████▊                      | 1.8 MB 31.3 MB\/s eta 0:00:01\r     |█████████▉                      | 1.8 MB 31.3 MB\/s eta 0:00:01\r     |█████████▉                      | 1.8 MB 31.3 MB\/s eta 0:00:01\r     |██████████                      | 1.9 MB 31.3 MB\/s eta 0:00:01\r     |██████████                      | 1.9 MB 31.3 MB\/s eta 0:00:01\r     |██████████                      | 1.9 MB 31.3 MB\/s eta 0:00:01\r     |██████████                      | 1.9 MB 31.3 MB\/s eta 0:00:01\r     |██████████▏                     | 1.9 MB 31.3 MB\/s eta 0:00:01\r     |██████████▏                     | 1.9 MB 31.3 MB\/s eta 0:00:01\r     |██████████▎                     | 1.9 MB 31.3 MB\/s eta 0:00:01\r     |██████████▎                     | 1.9 MB 31.3 MB\/s eta 0:00:01\r     |██████████▍                     | 1.9 MB 31.3 MB\/s eta 0:00:01\r     |██████████▍                     | 1.9 MB 31.3 MB\/s eta 0:00:01\r     |██████████▌                     | 2.0 MB 31.3 MB\/s eta 0:00:01\r     |██████████▌                     | 2.0 MB 31.3 MB\/s eta 0:00:01\r     |██████████▋                     | 2.0 MB 31.3 MB\/s eta 0:00:01\r     |██████████▋                     | 2.0 MB 31.3 MB\/s eta 0:00:01\r     |██████████▊                     | 2.0 MB 31.3 MB\/s eta 0:00:01\r     |██████████▊                     | 2.0 MB 31.3 MB\/s eta 0:00:01\r     |██████████▉                     | 2.0 MB 31.3 MB\/s eta 0:00:01\r     |██████████▉                     | 2.0 MB 31.3 MB\/s eta 0:00:01\r     |███████████                     | 2.0 MB 31.3 MB\/s eta 0:00:01\r     |███████████                     | 2.0 MB 31.3 MB\/s eta 0:00:01\r     |███████████                     | 2.1 MB 31.3 MB\/s eta 0:00:01\r     |███████████                     | 2.1 MB 31.3 MB\/s eta 0:00:01\r     |███████████▏                    | 2.1 MB 31.3 MB\/s eta 0:00:01\r     |███████████▏                    | 2.1 MB 31.3 MB\/s eta 0:00:01\r     |███████████▎                    | 2.1 MB 31.3 MB\/s eta 0:00:01\r     |███████████▎                    | 2.1 MB 31.3 MB\/s eta 0:00:01\r     |███████████▍                    | 2.1 MB 31.3 MB\/s eta 0:00:01\r     |███████████▍                    | 2.1 MB 31.3 MB\/s eta 0:00:01\r     |███████████▌                    | 2.1 MB 31.3 MB\/s eta 0:00:01\r     |███████████▌                    | 2.2 MB 31.3 MB\/s eta 0:00:01\r     |███████████▋                    | 2.2 MB 31.3 MB\/s eta 0:00:01\r     |███████████▋                    | 2.2 MB 31.3 MB\/s eta 0:00:01\r     |███████████▊                    | 2.2 MB 31.3 MB\/s eta 0:00:01\r     |███████████▊                    | 2.2 MB 31.3 MB\/s eta 0:00:01\r     |███████████▉                    | 2.2 MB 31.3 MB\/s eta 0:00:01\r     |███████████▉                    | 2.2 MB 31.3 MB\/s eta 0:00:01\r     |████████████                    | 2.2 MB 31.3 MB\/s eta 0:00:01\r     |████████████                    | 2.2 MB 31.3 MB\/s eta 0:00:01\r     |████████████                    | 2.2 MB 31.3 MB\/s eta 0:00:01\r     |████████████                    | 2.3 MB 31.3 MB\/s eta 0:00:01\r     |████████████▏                   | 2.3 MB 31.3 MB\/s eta 0:00:01\r     |████████████▏                   | 2.3 MB 31.3 MB\/s eta 0:00:01\r     |████████████▎                   | 2.3 MB 31.3 MB\/s eta 0:00:01\r     |████████████▎                   | 2.3 MB 31.3 MB\/s eta 0:00:01\r     |████████████▍                   | 2.3 MB 31.3 MB\/s eta 0:00:01\r     |████████████▍                   | 2.3 MB 31.3 MB\/s eta 0:00:01\r     |████████████▌                   | 2.3 MB 31.3 MB\/s eta 0:00:01\r     |████████████▌                   | 2.3 MB 31.3 MB\/s eta 0:00:01\r     |████████████▋                   | 2.3 MB 31.3 MB\/s eta 0:00:01\r     |████████████▋                   | 2.4 MB 31.3 MB\/s eta 0:00:01\r     |████████████▊                   | 2.4 MB 31.3 MB\/s eta 0:00:01\r     |████████████▊                   | 2.4 MB 31.3 MB\/s eta 0:00:01\r     |████████████▉                   | 2.4 MB 31.3 MB\/s eta 0:00:01\r     |████████████▉                   | 2.4 MB 31.3 MB\/s eta 0:00:01\r     |█████████████                   | 2.4 MB 31.3 MB\/s eta 0:00:01\r     |█████████████                   | 2.4 MB 31.3 MB\/s eta 0:00:01\r     |█████████████                   | 2.4 MB 31.3 MB\/s eta 0:00:01\r     |█████████████                   | 2.4 MB 31.3 MB\/s eta 0:00:01\r     |█████████████▏                  | 2.4 MB 31.3 MB\/s eta 0:00:01\r     |█████████████▏                  | 2.5 MB 31.3 MB\/s eta 0:00:01\r     |█████████████▎                  | 2.5 MB 31.3 MB\/s eta 0:00:01\r     |█████████████▎                  | 2.5 MB 31.3 MB\/s eta 0:00:01\r     |█████████████▍                  | 2.5 MB 31.3 MB\/s eta 0:00:01\r     |█████████████▍                  | 2.5 MB 31.3 MB\/s eta 0:00:01\r     |█████████████▌                  | 2.5 MB 31.3 MB\/s eta 0:00:01\r     |█████████████▌                  | 2.5 MB 31.3 MB\/s eta 0:00:01\r     |█████████████▋                  | 2.5 MB 31.3 MB\/s eta 0:00:01\r     |█████████████▋                  | 2.5 MB 31.3 MB\/s eta 0:00:01\r     |█████████████▊                  | 2.5 MB 31.3 MB\/s eta 0:00:01\r     |█████████████▊                  | 2.6 MB 31.3 MB\/s eta 0:00:01\r     |█████████████▉                  | 2.6 MB 31.3 MB\/s eta 0:00:01\r     |█████████████▉                  | 2.6 MB 31.3 MB\/s eta 0:00:01\r     |██████████████                  | 2.6 MB 31.3 MB\/s eta 0:00:01\r     |██████████████                  | 2.6 MB 31.3 MB\/s eta 0:00:01\r     |██████████████                  | 2.6 MB 31.3 MB\/s eta 0:00:01\r     |██████████████                  | 2.6 MB 31.3 MB\/s eta 0:00:01\r     |██████████████▏                 | 2.6 MB 31.3 MB\/s eta 0:00:01\r     |██████████████▏                 | 2.6 MB 31.3 MB\/s eta 0:00:01\r     |██████████████▎                 | 2.7 MB 31.3 MB\/s eta 0:00:01\r     |██████████████▎                 | 2.7 MB 31.3 MB\/s eta 0:00:01\r     |██████████████▍                 | 2.7 MB 31.3 MB\/s eta 0:00:01\r     |██████████████▍                 | 2.7 MB 31.3 MB\/s eta 0:00:01\r     |██████████████▍                 | 2.7 MB 31.3 MB\/s eta 0:00:01\r     |██████████████▌                 | 2.7 MB 31.3 MB\/s eta 0:00:01\r     |██████████████▌                 | 2.7 MB 31.3 MB\/s eta 0:00:01\r     |██████████████▋                 | 2.7 MB 31.3 MB\/s eta 0:00:01\r     |██████████████▋                 | 2.7 MB 31.3 MB\/s eta 0:00:01\r     |██████████████▊                 | 2.7 MB 31.3 MB\/s eta 0:00:01\r     |██████████████▊                 | 2.8 MB 31.3 MB\/s eta 0:00:01\r     |██████████████▉                 | 2.8 MB 31.3 MB\/s eta 0:00:01\r     |██████████████▉                 | 2.8 MB 31.3 MB\/s eta 0:00:01\r     |███████████████                 | 2.8 MB 31.3 MB\/s eta 0:00:01\r     |███████████████                 | 2.8 MB 31.3 MB\/s eta 0:00:01\r     |███████████████                 | 2.8 MB 31.3 MB\/s eta 0:00:01\r     |███████████████                 | 2.8 MB 31.3 MB\/s eta 0:00:01\r     |███████████████▏                | 2.8 MB 31.3 MB\/s eta 0:00:01\r     |███████████████▏                | 2.8 MB 31.3 MB\/s eta 0:00:01\r     |███████████████▎                | 2.8 MB 31.3 MB\/s eta 0:00:01\r     |███████████████▎                | 2.9 MB 31.3 MB\/s eta 0:00:01\r     |███████████████▍                | 2.9 MB 31.3 MB\/s eta 0:00:01\r     |███████████████▍                | 2.9 MB 31.3 MB\/s eta 0:00:01\r     |███████████████▌                | 2.9 MB 31.3 MB\/s eta 0:00:01\r     |███████████████▌                | 2.9 MB 31.3 MB\/s eta 0:00:01\r     |███████████████▋                | 2.9 MB 31.3 MB\/s eta 0:00:01\r     |███████████████▋                | 2.9 MB 31.3 MB\/s eta 0:00:01\r     |███████████████▊                | 2.9 MB 31.3 MB\/s eta 0:00:01\r     |███████████████▊                | 2.9 MB 31.3 MB\/s eta 0:00:01\r     |███████████████▉                | 2.9 MB 31.3 MB\/s eta 0:00:01\r     |███████████████▉                | 3.0 MB 31.3 MB\/s eta 0:00:01\r     |████████████████                | 3.0 MB 31.3 MB\/s eta 0:00:01\r     |████████████████                | 3.0 MB 31.3 MB\/s eta 0:00:01\r     |████████████████                | 3.0 MB 31.3 MB\/s eta 0:00:01\r     |████████████████                | 3.0 MB 31.3 MB\/s eta 0:00:01\r     |████████████████▏               | 3.0 MB 31.3 MB\/s eta 0:00:01\r     |████████████████▏               | 3.0 MB 31.3 MB\/s eta 0:00:01\r     |████████████████▎               | 3.0 MB 31.3 MB\/s eta 0:00:01\r     |████████████████▎               | 3.0 MB 31.3 MB\/s eta 0:00:01\r     |████████████████▍               | 3.1 MB 31.3 MB\/s eta 0:00:01\r     |████████████████▍               | 3.1 MB 31.3 MB\/s eta 0:00:01\r     |████████████████▌               | 3.1 MB 31.3 MB\/s eta 0:00:01\r     |████████████████▌               | 3.1 MB 31.3 MB\/s eta 0:00:01\r     |████████████████▋               | 3.1 MB 31.3 MB\/s eta 0:00:01\r     |████████████████▋               | 3.1 MB 31.3 MB\/s eta 0:00:01\r     |████████████████▊               | 3.1 MB 31.3 MB\/s eta 0:00:01\r     |████████████████▊               | 3.1 MB 31.3 MB\/s eta 0:00:01\r     |████████████████▉               | 3.1 MB 31.3 MB\/s eta 0:00:01\r     |████████████████▉               | 3.1 MB 31.3 MB\/s eta 0:00:01\r     |█████████████████               | 3.2 MB 31.3 MB\/s eta 0:00:01\r     |█████████████████               | 3.2 MB 31.3 MB\/s eta 0:00:01\r     |█████████████████               | 3.2 MB 31.3 MB\/s eta 0:00:01\r     |█████████████████               | 3.2 MB 31.3 MB\/s eta 0:00:01\r     |█████████████████▏              | 3.2 MB 31.3 MB\/s eta 0:00:01\r     |█████████████████▏              | 3.2 MB 31.3 MB\/s eta 0:00:01\r     |█████████████████▎              | 3.2 MB 31.3 MB\/s eta 0:00:01\r     |█████████████████▎              | 3.2 MB 31.3 MB\/s eta 0:00:01\r     |█████████████████▍              | 3.2 MB 31.3 MB\/s eta 0:00:01\r     |█████████████████▍              | 3.2 MB 31.3 MB\/s eta 0:00:01\r     |█████████████████▌              | 3.3 MB 31.3 MB\/s eta 0:00:01\r     |█████████████████▌              | 3.3 MB 31.3 MB\/s eta 0:00:01\r     |█████████████████▋              | 3.3 MB 31.3 MB\/s eta 0:00:01\r     |█████████████████▋              | 3.3 MB 31.3 MB\/s eta 0:00:01\r     |█████████████████▊              | 3.3 MB 31.3 MB\/s eta 0:00:01\r     |█████████████████▊              | 3.3 MB 31.3 MB\/s eta 0:00:01\r     |█████████████████▉              | 3.3 MB 31.3 MB\/s eta 0:00:01\r     |█████████████████▉              | 3.3 MB 31.3 MB\/s eta 0:00:01\r     |██████████████████              | 3.3 MB 31.3 MB\/s eta 0:00:01\r     |██████████████████              | 3.3 MB 31.3 MB\/s eta 0:00:01\r     |██████████████████              | 3.4 MB 31.3 MB\/s eta 0:00:01\r     |██████████████████              | 3.4 MB 31.3 MB\/s eta 0:00:01\r     |██████████████████▏             | 3.4 MB 31.3 MB\/s eta 0:00:01\r     |██████████████████▏             | 3.4 MB 31.3 MB\/s eta 0:00:01\r     |██████████████████▎             | 3.4 MB 31.3 MB\/s eta 0:00:01\r     |██████████████████▎             | 3.4 MB 31.3 MB\/s eta 0:00:01\r     |██████████████████▍             | 3.4 MB 31.3 MB\/s eta 0:00:01\r     |██████████████████▍             | 3.4 MB 31.3 MB\/s eta 0:00:01\r     |██████████████████▌             | 3.4 MB 31.3 MB\/s eta 0:00:01\r     |██████████████████▌             | 3.5 MB 31.3 MB\/s eta 0:00:01\r     |██████████████████▋             | 3.5 MB 31.3 MB\/s eta 0:00:01\r     |██████████████████▋             | 3.5 MB 31.3 MB\/s eta 0:00:01\r     |██████████████████▊             | 3.5 MB 31.3 MB\/s eta 0:00:01\r     |██████████████████▊             | 3.5 MB 31.3 MB\/s eta 0:00:01\r     |██████████████████▉             | 3.5 MB 31.3 MB\/s eta 0:00:01\r     |██████████████████▉             | 3.5 MB 31.3 MB\/s eta 0:00:01\r     |███████████████████             | 3.5 MB 31.3 MB\/s eta 0:00:01\r     |███████████████████             | 3.5 MB 31.3 MB\/s eta 0:00:01\r     |███████████████████             | 3.5 MB 31.3 MB\/s eta 0:00:01\r     |███████████████████             | 3.6 MB 31.3 MB\/s eta 0:00:01\r     |███████████████████▏            | 3.6 MB 31.3 MB\/s eta 0:00:01\r     |███████████████████▏            | 3.6 MB 31.3 MB\/s eta 0:00:01\r     |███████████████████▏            | 3.6 MB 31.3 MB\/s eta 0:00:01\r     |███████████████████▎            | 3.6 MB 31.3 MB\/s eta 0:00:01\r     |███████████████████▎            | 3.6 MB 31.3 MB\/s eta 0:00:01\r     |███████████████████▍            | 3.6 MB 31.3 MB\/s eta 0:00:01\r     |███████████████████▍            | 3.6 MB 31.3 MB\/s eta 0:00:01\r     |███████████████████▌            | 3.6 MB 31.3 MB\/s eta 0:00:01\r     |███████████████████▌            | 3.6 MB 31.3 MB\/s eta 0:00:01\r     |███████████████████▋            | 3.7 MB 31.3 MB\/s eta 0:00:01\r     |███████████████████▋            | 3.7 MB 31.3 MB\/s eta 0:00:01\r     |███████████████████▊            | 3.7 MB 31.3 MB\/s eta 0:00:01\r     |███████████████████▊            | 3.7 MB 31.3 MB\/s eta 0:00:01\r     |███████████████████▉            | 3.7 MB 31.3 MB\/s eta 0:00:01\r     |███████████████████▉            | 3.7 MB 31.3 MB\/s eta 0:00:01\r     |████████████████████            | 3.7 MB 31.3 MB\/s eta 0:00:01\r     |████████████████████            | 3.7 MB 31.3 MB\/s eta 0:00:01\r     |████████████████████            | 3.7 MB 31.3 MB\/s eta 0:00:01\r     |████████████████████            | 3.7 MB 31.3 MB\/s eta 0:00:01\r     |████████████████████▏           | 3.8 MB 31.3 MB\/s eta 0:00:01\r     |████████████████████▏           | 3.8 MB 31.3 MB\/s eta 0:00:01\r     |████████████████████▎           | 3.8 MB 31.3 MB\/s eta 0:00:01\r     |████████████████████▎           | 3.8 MB 31.3 MB\/s eta 0:00:01\r     |████████████████████▍           | 3.8 MB 31.3 MB\/s eta 0:00:01\r     |████████████████████▍           | 3.8 MB 31.3 MB\/s eta 0:00:01\r     |████████████████████▌           | 3.8 MB 31.3 MB\/s eta 0:00:01\r     |████████████████████▌           | 3.8 MB 31.3 MB\/s eta 0:00:01\r     |████████████████████▋           | 3.8 MB 31.3 MB\/s eta 0:00:01\r     |████████████████████▋           | 3.9 MB 31.3 MB\/s eta 0:00:01\r     |████████████████████▊           | 3.9 MB 31.3 MB\/s eta 0:00:01\r     |████████████████████▊           | 3.9 MB 31.3 MB\/s eta 0:00:01\r     |████████████████████▉           | 3.9 MB 31.3 MB\/s eta 0:00:01\r     |████████████████████▉           | 3.9 MB 31.3 MB\/s eta 0:00:01\r     |█████████████████████           | 3.9 MB 31.3 MB\/s eta 0:00:01\r     |█████████████████████           | 3.9 MB 31.3 MB\/s eta 0:00:01\r     |█████████████████████           | 3.9 MB 31.3 MB\/s eta 0:00:01\r     |█████████████████████           | 3.9 MB 31.3 MB\/s eta 0:00:01\r     |█████████████████████▏          | 3.9 MB 31.3 MB\/s eta 0:00:01\r     |█████████████████████▏          | 4.0 MB 31.3 MB\/s eta 0:00:01\r     |█████████████████████▎          | 4.0 MB 31.3 MB\/s eta 0:00:01\r     |█████████████████████▎          | 4.0 MB 31.3 MB\/s eta 0:00:01\r     |█████████████████████▍          | 4.0 MB 31.3 MB\/s eta 0:00:01\r     |█████████████████████▍          | 4.0 MB 31.3 MB\/s eta 0:00:01\r     |█████████████████████▌          | 4.0 MB 31.3 MB\/s eta 0:00:01\r     |█████████████████████▌          | 4.0 MB 31.3 MB\/s eta 0:00:01\r     |█████████████████████▋          | 4.0 MB 31.3 MB\/s eta 0:00:01\r     |█████████████████████▋          | 4.0 MB 31.3 MB\/s eta 0:00:01\r     |█████████████████████▊          | 4.0 MB 31.3 MB\/s eta 0:00:01\r     |█████████████████████▊          | 4.1 MB 31.3 MB\/s eta 0:00:01\r     |█████████████████████▉          | 4.1 MB 31.3 MB\/s eta 0:00:01\r     |█████████████████████▉          | 4.1 MB 31.3 MB\/s eta 0:00:01\r     |██████████████████████          | 4.1 MB 31.3 MB\/s eta 0:00:01\r     |██████████████████████          | 4.1 MB 31.3 MB\/s eta 0:00:01\r     |██████████████████████          | 4.1 MB 31.3 MB\/s eta 0:00:01\r     |██████████████████████          | 4.1 MB 31.3 MB\/s eta 0:00:01\r     |██████████████████████▏         | 4.1 MB 31.3 MB\/s eta 0:00:01\r     |██████████████████████▏         | 4.1 MB 31.3 MB\/s eta 0:00:01\r     |██████████████████████▎         | 4.1 MB 31.3 MB\/s eta 0:00:01\r     |██████████████████████▎         | 4.2 MB 31.3 MB\/s eta 0:00:01\r     |██████████████████████▍         | 4.2 MB 31.3 MB\/s eta 0:00:01\r     |██████████████████████▍         | 4.2 MB 31.3 MB\/s eta 0:00:01\r     |██████████████████████▌         | 4.2 MB 31.3 MB\/s eta 0:00:01\r     |██████████████████████▌         | 4.2 MB 31.3 MB\/s eta 0:00:01\r     |██████████████████████▋         | 4.2 MB 31.3 MB\/s eta 0:00:01\r     |██████████████████████▋         | 4.2 MB 31.3 MB\/s eta 0:00:01\r     |██████████████████████▊         | 4.2 MB 31.3 MB\/s eta 0:00:01\r     |██████████████████████▊         | 4.2 MB 31.3 MB\/s eta 0:00:01\r     |██████████████████████▉         | 4.2 MB 31.3 MB\/s eta 0:00:01\r     |██████████████████████▉         | 4.3 MB 31.3 MB\/s eta 0:00:01\r     |███████████████████████         | 4.3 MB 31.3 MB\/s eta 0:00:01\r     |███████████████████████         | 4.3 MB 31.3 MB\/s eta 0:00:01\r     |███████████████████████         | 4.3 MB 31.3 MB\/s eta 0:00:01\r     |███████████████████████         | 4.3 MB 31.3 MB\/s eta 0:00:01\r     |███████████████████████▏        | 4.3 MB 31.3 MB\/s eta 0:00:01\r     |███████████████████████▏        | 4.3 MB 31.3 MB\/s eta 0:00:01\r     |███████████████████████▎        | 4.3 MB 31.3 MB\/s eta 0:00:01\r     |███████████████████████▎        | 4.3 MB 31.3 MB\/s eta 0:00:01\r     |███████████████████████▍        | 4.4 MB 31.3 MB\/s eta 0:00:01\r     |███████████████████████▍        | 4.4 MB 31.3 MB\/s eta 0:00:01\r     |███████████████████████▌        | 4.4 MB 31.3 MB\/s eta 0:00:01\r     |███████████████████████▌        | 4.4 MB 31.3 MB\/s eta 0:00:01\r     |███████████████████████▋        | 4.4 MB 31.3 MB\/s eta 0:00:01\r     |███████████████████████▋        | 4.4 MB 31.3 MB\/s eta 0:00:01\r     |███████████████████████▊        | 4.4 MB 31.3 MB\/s eta 0:00:01\r     |███████████████████████▊        | 4.4 MB 31.3 MB\/s eta 0:00:01\r     |███████████████████████▉        | 4.4 MB 31.3 MB\/s eta 0:00:01\r     |███████████████████████▉        | 4.4 MB 31.3 MB\/s eta 0:00:01\r     |████████████████████████        | 4.5 MB 31.3 MB\/s eta 0:00:01\r     |████████████████████████        | 4.5 MB 31.3 MB\/s eta 0:00:01\r     |████████████████████████        | 4.5 MB 31.3 MB\/s eta 0:00:01\r     |████████████████████████        | 4.5 MB 31.3 MB\/s eta 0:00:01\r     |████████████████████████        | 4.5 MB 31.3 MB\/s eta 0:00:01\r     |████████████████████████▏       | 4.5 MB 31.3 MB\/s eta 0:00:01\r     |████████████████████████▏       | 4.5 MB 31.3 MB\/s eta 0:00:01\r     |████████████████████████▎       | 4.5 MB 31.3 MB\/s eta 0:00:01\r     |████████████████████████▎       | 4.5 MB 31.3 MB\/s eta 0:00:01\r     |████████████████████████▍       | 4.5 MB 31.3 MB\/s eta 0:00:01\r     |████████████████████████▍       | 4.6 MB 31.3 MB\/s eta 0:00:01\r     |████████████████████████▌       | 4.6 MB 31.3 MB\/s eta 0:00:01\r     |████████████████████████▌       | 4.6 MB 31.3 MB\/s eta 0:00:01\r     |████████████████████████▋       | 4.6 MB 31.3 MB\/s eta 0:00:01\r     |████████████████████████▋       | 4.6 MB 31.3 MB\/s eta 0:00:01\r     |████████████████████████▊       | 4.6 MB 31.3 MB\/s eta 0:00:01\r     |████████████████████████▊       | 4.6 MB 31.3 MB\/s eta 0:00:01\r     |████████████████████████▉       | 4.6 MB 31.3 MB\/s eta 0:00:01\r     |████████████████████████▉       | 4.6 MB 31.3 MB\/s eta 0:00:01\r     |█████████████████████████       | 4.6 MB 31.3 MB\/s eta 0:00:01\r     |█████████████████████████       | 4.7 MB 31.3 MB\/s eta 0:00:01\r     |█████████████████████████       | 4.7 MB 31.3 MB\/s eta 0:00:01\r     |█████████████████████████       | 4.7 MB 31.3 MB\/s eta 0:00:01\r     |█████████████████████████▏      | 4.7 MB 31.3 MB\/s eta 0:00:01\r     |█████████████████████████▏      | 4.7 MB 31.3 MB\/s eta 0:00:01\r     |█████████████████████████▎      | 4.7 MB 31.3 MB\/s eta 0:00:01\r     |█████████████████████████▎      | 4.7 MB 31.3 MB\/s eta 0:00:01\r     |█████████████████████████▍      | 4.7 MB 31.3 MB\/s eta 0:00:01\r     |█████████████████████████▍      | 4.7 MB 31.3 MB\/s eta 0:00:01\r     |█████████████████████████▌      | 4.8 MB 31.3 MB\/s eta 0:00:01\r     |█████████████████████████▌      | 4.8 MB 31.3 MB\/s eta 0:00:01\r     |█████████████████████████▋      | 4.8 MB 31.3 MB\/s eta 0:00:01\r     |█████████████████████████▋      | 4.8 MB 31.3 MB\/s eta 0:00:01\r     |█████████████████████████▊      | 4.8 MB 31.3 MB\/s eta 0:00:01\r     |█████████████████████████▊      | 4.8 MB 31.3 MB\/s eta 0:00:01\r     |█████████████████████████▉      | 4.8 MB 31.3 MB\/s eta 0:00:01\r     |█████████████████████████▉      | 4.8 MB 31.3 MB\/s eta 0:00:01\r     |██████████████████████████      | 4.8 MB 31.3 MB\/s eta 0:00:01\r     |██████████████████████████      | 4.8 MB 31.3 MB\/s eta 0:00:01\r     |██████████████████████████      | 4.9 MB 31.3 MB\/s eta 0:00:01\r     |██████████████████████████      | 4.9 MB 31.3 MB\/s eta 0:00:01\r     |██████████████████████████▏     | 4.9 MB 31.3 MB\/s eta 0:00:01\r     |██████████████████████████▏     | 4.9 MB 31.3 MB\/s eta 0:00:01\r     |██████████████████████████▎     | 4.9 MB 31.3 MB\/s eta 0:00:01\r     |██████████████████████████▎     | 4.9 MB 31.3 MB\/s eta 0:00:01\r     |██████████████████████████▍     | 4.9 MB 31.3 MB\/s eta 0:00:01\r     |██████████████████████████▍     | 4.9 MB 31.3 MB\/s eta 0:00:01\r     |██████████████████████████▌     | 4.9 MB 31.3 MB\/s eta 0:00:01\r     |██████████████████████████▌     | 4.9 MB 31.3 MB\/s eta 0:00:01\r     |██████████████████████████▋     | 5.0 MB 31.3 MB\/s eta 0:00:01\r     |██████████████████████████▋     | 5.0 MB 31.3 MB\/s eta 0:00:01\r     |██████████████████████████▊     | 5.0 MB 31.3 MB\/s eta 0:00:01\r     |██████████████████████████▊     | 5.0 MB 31.3 MB\/s eta 0:00:01\r     |██████████████████████████▉     | 5.0 MB 31.3 MB\/s eta 0:00:01\r     |██████████████████████████▉     | 5.0 MB 31.3 MB\/s eta 0:00:01\r     |███████████████████████████     | 5.0 MB 31.3 MB\/s eta 0:00:01\r     |███████████████████████████     | 5.0 MB 31.3 MB\/s eta 0:00:01\r     |███████████████████████████     | 5.0 MB 31.3 MB\/s eta 0:00:01\r     |███████████████████████████     | 5.0 MB 31.3 MB\/s eta 0:00:01\r     |███████████████████████████▏    | 5.1 MB 31.3 MB\/s eta 0:00:01\r     |███████████████████████████▏    | 5.1 MB 31.3 MB\/s eta 0:00:01\r     |███████████████████████████▎    | 5.1 MB 31.3 MB\/s eta 0:00:01\r     |███████████████████████████▎    | 5.1 MB 31.3 MB\/s eta 0:00:01\r     |███████████████████████████▍    | 5.1 MB 31.3 MB\/s eta 0:00:01\r     |███████████████████████████▍    | 5.1 MB 31.3 MB\/s eta 0:00:01\r     |███████████████████████████▌    | 5.1 MB 31.3 MB\/s eta 0:00:01\r     |███████████████████████████▌    | 5.1 MB 31.3 MB\/s eta 0:00:01\r     |███████████████████████████▋    | 5.1 MB 31.3 MB\/s eta 0:00:01\r     |███████████████████████████▋    | 5.2 MB 31.3 MB\/s eta 0:00:01\r     |███████████████████████████▊    | 5.2 MB 31.3 MB\/s eta 0:00:01\r     |███████████████████████████▊    | 5.2 MB 31.3 MB\/s eta 0:00:01\r     |███████████████████████████▉    | 5.2 MB 31.3 MB\/s eta 0:00:01\r     |███████████████████████████▉    | 5.2 MB 31.3 MB\/s eta 0:00:01\r     |████████████████████████████    | 5.2 MB 31.3 MB\/s eta 0:00:01\r     |████████████████████████████    | 5.2 MB 31.3 MB\/s eta 0:00:01\r     |████████████████████████████    | 5.2 MB 31.3 MB\/s eta 0:00:01\r     |████████████████████████████    | 5.2 MB 31.3 MB\/s eta 0:00:01\r     |████████████████████████████▏   | 5.2 MB 31.3 MB\/s eta 0:00:01\r     |████████████████████████████▏   | 5.3 MB 31.3 MB\/s eta 0:00:01\r     |████████████████████████████▎   | 5.3 MB 31.3 MB\/s eta 0:00:01\r     |████████████████████████████▎   | 5.3 MB 31.3 MB\/s eta 0:00:01\r     |████████████████████████████▍   | 5.3 MB 31.3 MB\/s eta 0:00:01\r     |████████████████████████████▍   | 5.3 MB 31.3 MB\/s eta 0:00:01\r     |████████████████████████████▌   | 5.3 MB 31.3 MB\/s eta 0:00:01\r     |████████████████████████████▌   | 5.3 MB 31.3 MB\/s eta 0:00:01\r     |████████████████████████████▋   | 5.3 MB 31.3 MB\/s eta 0:00:01\r     |████████████████████████████▋   | 5.3 MB 31.3 MB\/s eta 0:00:01\r     |████████████████████████████▊   | 5.3 MB 31.3 MB\/s eta 0:00:01\r     |████████████████████████████▊   | 5.4 MB 31.3 MB\/s eta 0:00:01\r     |████████████████████████████▉   | 5.4 MB 31.3 MB\/s eta 0:00:01\r     |████████████████████████████▉   | 5.4 MB 31.3 MB\/s eta 0:00:01\r     |████████████████████████████▉   | 5.4 MB 31.3 MB\/s eta 0:00:01\r     |█████████████████████████████   | 5.4 MB 31.3 MB\/s eta 0:00:01\r     |█████████████████████████████   | 5.4 MB 31.3 MB\/s eta 0:00:01\r     |█████████████████████████████   | 5.4 MB 31.3 MB\/s eta 0:00:01\r     |█████████████████████████████   | 5.4 MB 31.3 MB\/s eta 0:00:01\r     |█████████████████████████████▏  | 5.4 MB 31.3 MB\/s eta 0:00:01\r     |█████████████████████████████▏  | 5.4 MB 31.3 MB\/s eta 0:00:01\r     |█████████████████████████████▎  | 5.5 MB 31.3 MB\/s eta 0:00:01\r     |█████████████████████████████▎  | 5.5 MB 31.3 MB\/s eta 0:00:01\r     |█████████████████████████████▍  | 5.5 MB 31.3 MB\/s eta 0:00:01\r     |█████████████████████████████▍  | 5.5 MB 31.3 MB\/s eta 0:00:01\r     |█████████████████████████████▌  | 5.5 MB 31.3 MB\/s eta 0:00:01\r     |█████████████████████████████▌  | 5.5 MB 31.3 MB\/s eta 0:00:01\r     |█████████████████████████████▋  | 5.5 MB 31.3 MB\/s eta 0:00:01\r     |█████████████████████████████▋  | 5.5 MB 31.3 MB\/s eta 0:00:01\r     |█████████████████████████████▊  | 5.5 MB 31.3 MB\/s eta 0:00:01\r     |█████████████████████████████▊  | 5.6 MB 31.3 MB\/s eta 0:00:01\r     |█████████████████████████████▉  | 5.6 MB 31.3 MB\/s eta 0:00:01\r     |█████████████████████████████▉  | 5.6 MB 31.3 MB\/s eta 0:00:01\r     |██████████████████████████████  | 5.6 MB 31.3 MB\/s eta 0:00:01\r     |██████████████████████████████  | 5.6 MB 31.3 MB\/s eta 0:00:01\r     |██████████████████████████████  | 5.6 MB 31.3 MB\/s eta 0:00:01\r     |██████████████████████████████  | 5.6 MB 31.3 MB\/s eta 0:00:01\r     |██████████████████████████████▏ | 5.6 MB 31.3 MB\/s eta 0:00:01\r     |██████████████████████████████▏ | 5.6 MB 31.3 MB\/s eta 0:00:01\r     |██████████████████████████████▎ | 5.6 MB 31.3 MB\/s eta 0:00:01\r     |██████████████████████████████▎ | 5.7 MB 31.3 MB\/s eta 0:00:01\r     |██████████████████████████████▍ | 5.7 MB 31.3 MB\/s eta 0:00:01\r     |██████████████████████████████▍ | 5.7 MB 31.3 MB\/s eta 0:00:01\r     |██████████████████████████████▌ | 5.7 MB 31.3 MB\/s eta 0:00:01\r     |██████████████████████████████▌ | 5.7 MB 31.3 MB\/s eta 0:00:01\r     |██████████████████████████████▋ | 5.7 MB 31.3 MB\/s eta 0:00:01\r     |██████████████████████████████▋ | 5.7 MB 31.3 MB\/s eta 0:00:01\r     |██████████████████████████████▊ | 5.7 MB 31.3 MB\/s eta 0:00:01\r     |██████████████████████████████▊ | 5.7 MB 31.3 MB\/s eta 0:00:01\r     |██████████████████████████████▉ | 5.7 MB 31.3 MB\/s eta 0:00:01\r     |██████████████████████████████▉ | 5.8 MB 31.3 MB\/s eta 0:00:01\r     |███████████████████████████████ | 5.8 MB 31.3 MB\/s eta 0:00:01\r     |███████████████████████████████ | 5.8 MB 31.3 MB\/s eta 0:00:01\r     |███████████████████████████████ | 5.8 MB 31.3 MB\/s eta 0:00:01\r     |███████████████████████████████ | 5.8 MB 31.3 MB\/s eta 0:00:01\r     |███████████████████████████████▏| 5.8 MB 31.3 MB\/s eta 0:00:01\r     |███████████████████████████████▏| 5.8 MB 31.3 MB\/s eta 0:00:01\r     |███████████████████████████████▎| 5.8 MB 31.3 MB\/s eta 0:00:01\r     |███████████████████████████████▎| 5.8 MB 31.3 MB\/s eta 0:00:01\r     |███████████████████████████████▍| 5.8 MB 31.3 MB\/s eta 0:00:01\r     |███████████████████████████████▍| 5.9 MB 31.3 MB\/s eta 0:00:01\r     |███████████████████████████████▌| 5.9 MB 31.3 MB\/s eta 0:00:01\r     |███████████████████████████████▌| 5.9 MB 31.3 MB\/s eta 0:00:01\r     |███████████████████████████████▋| 5.9 MB 31.3 MB\/s eta 0:00:01\r     |███████████████████████████████▋| 5.9 MB 31.3 MB\/s eta 0:00:01\r     |███████████████████████████████▊| 5.9 MB 31.3 MB\/s eta 0:00:01\r     |███████████████████████████████▊| 5.9 MB 31.3 MB\/s eta 0:00:01\r     |███████████████████████████████▉| 5.9 MB 31.3 MB\/s eta 0:00:01\r     |███████████████████████████████▉| 5.9 MB 31.3 MB\/s eta 0:00:01\r     |████████████████████████████████| 5.9 MB 31.3 MB\/s eta 0:00:01\r     |████████████████████████████████| 6.0 MB 31.3 MB\/s eta 0:00:01\r     |████████████████████████████████| 6.0 MB 31.3 MB\/s            \r\n",
      "\u001b[?25h  Preparing metadata (setup.py) ... \u001b[?25l-\b \b\\\b \bdone\r\n",
      "\u001b[?25hBuilding wheels for collected packages: sqlalchemy\r\n",
      "  Building wheel for sqlalchemy (setup.py) ... \u001b[?25l-\b \b\\\b \b|\b \b\/\b \b-\b \b\\\b \b|\b \b\/\b \b-\b \bdone\r\n",
      "\u001b[?25h  Created wheel for sqlalchemy: filename=SQLAlchemy-1.3.9-cp38-cp38-linux_x86_64.whl size=1194394 sha256=4e9f290db3546de2a450b179943dde674194c2bcc1ab0189639cde4d32f645ce\r\n",
      "  Stored in directory: \/home\/datalore\/.cache\/pip\/wheels\/cb\/43\/46\/fa638f2422554332b7865d600275b24568bf60e76104a94bb4\r\n",
      "Successfully built sqlalchemy\r\n",
      "Installing collected packages: sqlalchemy\r\n",
      "  Attempting uninstall: sqlalchemy\r\n",
      "    Found existing installation: SQLAlchemy 1.4.26\r\n",
      "    Uninstalling SQLAlchemy-1.4.26:\r\n",
      "      Successfully uninstalled SQLAlchemy-1.4.26\r\n",
      "Successfully installed sqlalchemy-1.3.9\r\n",
      "\u001b[33mWARNING: You are using pip version 21.3.1; however, version 22.3 is available.\r\n",
      "You should consider upgrading via the '\/opt\/python\/envs\/default\/bin\/python -m pip install --upgrade pip' command.\u001b[0m\r\n",
      "Collecting ibm_db_sa\r\n",
      "  Downloading ibm_db_sa-0.3.8-py3-none-any.whl (30 kB)\r\n",
      "Requirement already satisfied: sqlalchemy>=0.7.3 in \/opt\/python\/envs\/default\/lib\/python3.8\/site-packages (from ibm_db_sa) (1.3.9)\r\n",
      "Collecting ibm-db>=2.0.0\r\n",
      "  Downloading ibm_db-3.1.3.tar.gz (1.4 MB)\r\n",
      "\u001b[?25l\r\r     |▎                               | 10 kB 23.7 MB\/s eta 0:00:01\r     |▌                               | 20 kB 29.0 MB\/s eta 0:00:01\r     |▊                               | 30 kB 36.6 MB\/s eta 0:00:01\r     |█                               | 40 kB 41.2 MB\/s eta 0:00:01\r     |█▏                              | 51 kB 30.8 MB\/s eta 0:00:01\r     |█▍                              | 61 kB 32.3 MB\/s eta 0:00:01\r     |█▊                              | 71 kB 34.4 MB\/s eta 0:00:01\r     |██                              | 81 kB 36.2 MB\/s eta 0:00:01\r     |██▏                             | 92 kB 38.3 MB\/s eta 0:00:01\r     |██▍                             | 102 kB 40.2 MB\/s eta 0:00:01\r     |██▋                             | 112 kB 40.2 MB\/s eta 0:00:01\r     |██▉                             | 122 kB 40.2 MB\/s eta 0:00:01\r     |███                             | 133 kB 40.2 MB\/s eta 0:00:01\r     |███▍                            | 143 kB 40.2 MB\/s eta 0:00:01\r     |███▋                            | 153 kB 40.2 MB\/s eta 0:00:01\r     |███▉                            | 163 kB 40.2 MB\/s eta 0:00:01\r     |████                            | 174 kB 40.2 MB\/s eta 0:00:01\r     |████▎                           | 184 kB 40.2 MB\/s eta 0:00:01\r     |████▌                           | 194 kB 40.2 MB\/s eta 0:00:01\r     |████▊                           | 204 kB 40.2 MB\/s eta 0:00:01\r     |█████                           | 215 kB 40.2 MB\/s eta 0:00:01\r     |█████▎                          | 225 kB 40.2 MB\/s eta 0:00:01\r     |█████▌                          | 235 kB 40.2 MB\/s eta 0:00:01\r     |█████▊                          | 245 kB 40.2 MB\/s eta 0:00:01\r     |██████                          | 256 kB 40.2 MB\/s eta 0:00:01\r     |██████▏                         | 266 kB 40.2 MB\/s eta 0:00:01\r     |██████▍                         | 276 kB 40.2 MB\/s eta 0:00:01\r     |██████▊                         | 286 kB 40.2 MB\/s eta 0:00:01\r     |███████                         | 296 kB 40.2 MB\/s eta 0:00:01\r     |███████▏                        | 307 kB 40.2 MB\/s eta 0:00:01\r     |███████▍                        | 317 kB 40.2 MB\/s eta 0:00:01\r     |███████▋                        | 327 kB 40.2 MB\/s eta 0:00:01\r     |███████▉                        | 337 kB 40.2 MB\/s eta 0:00:01\r     |████████                        | 348 kB 40.2 MB\/s eta 0:00:01\r     |████████▍                       | 358 kB 40.2 MB\/s eta 0:00:01\r     |████████▋                       | 368 kB 40.2 MB\/s eta 0:00:01\r     |████████▉                       | 378 kB 40.2 MB\/s eta 0:00:01\r     |█████████                       | 389 kB 40.2 MB\/s eta 0:00:01\r     |█████████▎                      | 399 kB 40.2 MB\/s eta 0:00:01\r     |█████████▌                      | 409 kB 40.2 MB\/s eta 0:00:01\r     |█████████▊                      | 419 kB 40.2 MB\/s eta 0:00:01\r     |██████████                      | 430 kB 40.2 MB\/s eta 0:00:01\r     |██████████▎                     | 440 kB 40.2 MB\/s eta 0:00:01\r     |██████████▌                     | 450 kB 40.2 MB\/s eta 0:00:01\r     |██████████▊                     | 460 kB 40.2 MB\/s eta 0:00:01\r     |███████████                     | 471 kB 40.2 MB\/s eta 0:00:01\r     |███████████▏                    | 481 kB 40.2 MB\/s eta 0:00:01\r     |███████████▌                    | 491 kB 40.2 MB\/s eta 0:00:01\r     |███████████▊                    | 501 kB 40.2 MB\/s eta 0:00:01\r     |████████████                    | 512 kB 40.2 MB\/s eta 0:00:01\r     |████████████▏                   | 522 kB 40.2 MB\/s eta 0:00:01\r     |████████████▍                   | 532 kB 40.2 MB\/s eta 0:00:01\r     |████████████▋                   | 542 kB 40.2 MB\/s eta 0:00:01\r     |████████████▉                   | 552 kB 40.2 MB\/s eta 0:00:01\r     |█████████████▏                  | 563 kB 40.2 MB\/s eta 0:00:01\r     |█████████████▍                  | 573 kB 40.2 MB\/s eta 0:00:01\r     |█████████████▋                  | 583 kB 40.2 MB\/s eta 0:00:01\r     |█████████████▉                  | 593 kB 40.2 MB\/s eta 0:00:01\r     |██████████████                  | 604 kB 40.2 MB\/s eta 0:00:01\r     |██████████████▎                 | 614 kB 40.2 MB\/s eta 0:00:01\r     |██████████████▌                 | 624 kB 40.2 MB\/s eta 0:00:01\r     |██████████████▉                 | 634 kB 40.2 MB\/s eta 0:00:01\r     |███████████████                 | 645 kB 40.2 MB\/s eta 0:00:01\r     |███████████████▎                | 655 kB 40.2 MB\/s eta 0:00:01\r     |███████████████▌                | 665 kB 40.2 MB\/s eta 0:00:01\r     |███████████████▊                | 675 kB 40.2 MB\/s eta 0:00:01\r     |████████████████                | 686 kB 40.2 MB\/s eta 0:00:01\r     |████████████████▏               | 696 kB 40.2 MB\/s eta 0:00:01\r     |████████████████▌               | 706 kB 40.2 MB\/s eta 0:00:01\r     |████████████████▊               | 716 kB 40.2 MB\/s eta 0:00:01\r     |█████████████████               | 727 kB 40.2 MB\/s eta 0:00:01\r     |█████████████████▏              | 737 kB 40.2 MB\/s eta 0:00:01\r     |█████████████████▍              | 747 kB 40.2 MB\/s eta 0:00:01\r     |█████████████████▋              | 757 kB 40.2 MB\/s eta 0:00:01\r     |█████████████████▉              | 768 kB 40.2 MB\/s eta 0:00:01\r     |██████████████████▏             | 778 kB 40.2 MB\/s eta 0:00:01\r     |██████████████████▍             | 788 kB 40.2 MB\/s eta 0:00:01\r     |██████████████████▋             | 798 kB 40.2 MB\/s eta 0:00:01\r     |██████████████████▉             | 808 kB 40.2 MB\/s eta 0:00:01\r     |███████████████████             | 819 kB 40.2 MB\/s eta 0:00:01\r     |███████████████████▎            | 829 kB 40.2 MB\/s eta 0:00:01\r     |███████████████████▌            | 839 kB 40.2 MB\/s eta 0:00:01\r     |███████████████████▉            | 849 kB 40.2 MB\/s eta 0:00:01\r     |████████████████████            | 860 kB 40.2 MB\/s eta 0:00:01\r     |████████████████████▎           | 870 kB 40.2 MB\/s eta 0:00:01\r     |████████████████████▌           | 880 kB 40.2 MB\/s eta 0:00:01\r     |████████████████████▊           | 890 kB 40.2 MB\/s eta 0:00:01\r     |█████████████████████           | 901 kB 40.2 MB\/s eta 0:00:01\r     |█████████████████████▎          | 911 kB 40.2 MB\/s eta 0:00:01\r     |█████████████████████▌          | 921 kB 40.2 MB\/s eta 0:00:01\r     |█████████████████████▊          | 931 kB 40.2 MB\/s eta 0:00:01\r     |██████████████████████          | 942 kB 40.2 MB\/s eta 0:00:01\r     |██████████████████████▏         | 952 kB 40.2 MB\/s eta 0:00:01\r     |██████████████████████▍         | 962 kB 40.2 MB\/s eta 0:00:01\r     |██████████████████████▋         | 972 kB 40.2 MB\/s eta 0:00:01\r     |███████████████████████         | 983 kB 40.2 MB\/s eta 0:00:01\r     |███████████████████████▏        | 993 kB 40.2 MB\/s eta 0:00:01\r     |███████████████████████▍        | 1.0 MB 40.2 MB\/s eta 0:00:01\r     |███████████████████████▋        | 1.0 MB 40.2 MB\/s eta 0:00:01\r     |███████████████████████▉        | 1.0 MB 40.2 MB\/s eta 0:00:01\r     |████████████████████████        | 1.0 MB 40.2 MB\/s eta 0:00:01\r     |████████████████████████▎       | 1.0 MB 40.2 MB\/s eta 0:00:01\r     |████████████████████████▋       | 1.1 MB 40.2 MB\/s eta 0:00:01\r     |████████████████████████▉       | 1.1 MB 40.2 MB\/s eta 0:00:01\r     |█████████████████████████       | 1.1 MB 40.2 MB\/s eta 0:00:01\r     |█████████████████████████▎      | 1.1 MB 40.2 MB\/s eta 0:00:01\r     |█████████████████████████▌      | 1.1 MB 40.2 MB\/s eta 0:00:01\r     |█████████████████████████▊      | 1.1 MB 40.2 MB\/s eta 0:00:01\r     |██████████████████████████      | 1.1 MB 40.2 MB\/s eta 0:00:01\r     |██████████████████████████▎     | 1.1 MB 40.2 MB\/s eta 0:00:01\r     |██████████████████████████▌     | 1.1 MB 40.2 MB\/s eta 0:00:01\r     |██████████████████████████▊     | 1.1 MB 40.2 MB\/s eta 0:00:01\r     |███████████████████████████     | 1.2 MB 40.2 MB\/s eta 0:00:01\r     |███████████████████████████▏    | 1.2 MB 40.2 MB\/s eta 0:00:01\r     |███████████████████████████▍    | 1.2 MB 40.2 MB\/s eta 0:00:01\r     |███████████████████████████▋    | 1.2 MB 40.2 MB\/s eta 0:00:01\r     |████████████████████████████    | 1.2 MB 40.2 MB\/s eta 0:00:01\r     |████████████████████████████▏   | 1.2 MB 40.2 MB\/s eta 0:00:01\r     |████████████████████████████▍   | 1.2 MB 40.2 MB\/s eta 0:00:01\r     |████████████████████████████▋   | 1.2 MB 40.2 MB\/s eta 0:00:01\r     |████████████████████████████▉   | 1.2 MB 40.2 MB\/s eta 0:00:01\r     |█████████████████████████████   | 1.2 MB 40.2 MB\/s eta 0:00:01\r     |█████████████████████████████▎  | 1.3 MB 40.2 MB\/s eta 0:00:01\r     |█████████████████████████████▋  | 1.3 MB 40.2 MB\/s eta 0:00:01\r     |█████████████████████████████▉  | 1.3 MB 40.2 MB\/s eta 0:00:01\r     |██████████████████████████████  | 1.3 MB 40.2 MB\/s eta 0:00:01\r     |██████████████████████████████▎ | 1.3 MB 40.2 MB\/s eta 0:00:01\r     |██████████████████████████████▌ | 1.3 MB 40.2 MB\/s eta 0:00:01\r     |██████████████████████████████▊ | 1.3 MB 40.2 MB\/s eta 0:00:01\r     |███████████████████████████████ | 1.3 MB 40.2 MB\/s eta 0:00:01\r     |███████████████████████████████▎| 1.3 MB 40.2 MB\/s eta 0:00:01\r     |███████████████████████████████▌| 1.4 MB 40.2 MB\/s eta 0:00:01\r     |███████████████████████████████▊| 1.4 MB 40.2 MB\/s eta 0:00:01\r     |████████████████████████████████| 1.4 MB 40.2 MB\/s eta 0:00:01\r     |████████████████████████████████| 1.4 MB 40.2 MB\/s            \r\n",
      "\u001b[?25h  Installing build dependencies ... \u001b[?25l-\b \b\\\b \b|\b \bdone\r\n",
      "\u001b[?25h  Getting requirements to build wheel ... \u001b[?25l-\b \b\\\b \bdone\r\n",
      "\u001b[?25h  Installing backend dependencies ... \u001b[?25l-\b \b\\\b \bdone\r\n",
      "\u001b[?25h  Preparing metadata (pyproject.toml) ... \u001b[?25l-\b \bdone\r\n",
      "\u001b[?25hBuilding wheels for collected packages: ibm-db\r\n",
      "  Building wheel for ibm-db (pyproject.toml) ... \u001b[?25l-\b \b\\\b \b|\b \b\/\b \b-\b \b\\\b \b|\b \b\/\b \b-\b \b\\\b \b|\b \b\/\b \b-\b \b\\\b \b|\b \b\/\b \b-\b \b\\\b \b|\b \b\/\b \b-\b \b\\\b \b|\b \b\/\b \b-\b \b\\\b \b|\b \b\/\b \b-\b \b\\\b \b|\b \b\/\b \bdone\r\n",
      "\u001b[?25h  Created wheel for ibm-db: filename=ibm_db-3.1.3-cp38-cp38-linux_x86_64.whl size=41505946 sha256=0126e74f4b3acb0838be9d0771b2dbaa227dd02459b1aae598f5dba14c018f87\r\n",
      "  Stored in directory: \/home\/datalore\/.cache\/pip\/wheels\/43\/a0\/e3\/695f8fabac5b44c3469d01bbad1b0d0279dfc54cdcd4ba6cc9\r\n",
      "Successfully built ibm-db\r\n",
      "Installing collected packages: ibm-db, ibm-db-sa\r\n",
      "Successfully installed ibm-db-3.1.3 ibm-db-sa-0.3.8\r\n",
      "\u001b[33mWARNING: You are using pip version 21.3.1; however, version 22.3 is available.\r\n",
      "You should consider upgrading via the '\/opt\/python\/envs\/default\/bin\/python -m pip install --upgrade pip' command.\u001b[0m\r\n",
      "Collecting ipython-sql\r\n",
      "  Downloading ipython_sql-0.4.1-py3-none-any.whl (21 kB)\r\n",
      "Collecting sqlparse\r\n",
      "  Downloading sqlparse-0.4.3-py3-none-any.whl (42 kB)\r\n",
      "\u001b[?25l\r\r     |███████▋                        | 10 kB 24.4 MB\/s eta 0:00:01\r     |███████████████▎                | 20 kB 31.2 MB\/s eta 0:00:01\r     |███████████████████████         | 30 kB 38.6 MB\/s eta 0:00:01\r     |██████████████████████████████▋ | 40 kB 43.4 MB\/s eta 0:00:01\r     |████████████████████████████████| 42 kB 2.4 MB\/s             \r\n",
      "\u001b[?25hRequirement already satisfied: sqlalchemy>=0.6.7 in \/opt\/python\/envs\/default\/lib\/python3.8\/site-packages (from ipython-sql) (1.3.9)\r\n",
      "Requirement already satisfied: ipython-genutils>=0.1.0 in \/opt\/python\/envs\/default\/lib\/python3.8\/site-packages (from ipython-sql) (0.2.0)\r\n",
      "Requirement already satisfied: ipython>=1.0 in \/opt\/python\/envs\/default\/lib\/python3.8\/site-packages (from ipython-sql) (7.31.1)\r\n",
      "Collecting prettytable<1\r\n",
      "  Downloading prettytable-0.7.2.zip (28 kB)\r\n",
      "  Preparing metadata (setup.py) ... \u001b[?25l-\b \bdone\r\n",
      "\u001b[?25hRequirement already satisfied: six in \/opt\/python\/envs\/default\/lib\/python3.8\/site-packages (from ipython-sql) (1.16.0)\r\n",
      "Requirement already satisfied: traitlets>=4.2 in \/opt\/python\/envs\/default\/lib\/python3.8\/site-packages (from ipython>=1.0->ipython-sql) (5.5.0)\r\n",
      "Requirement already satisfied: pickleshare in \/opt\/python\/envs\/default\/lib\/python3.8\/site-packages (from ipython>=1.0->ipython-sql) (0.7.5)\r\n",
      "Requirement already satisfied: backcall in \/opt\/python\/envs\/default\/lib\/python3.8\/site-packages (from ipython>=1.0->ipython-sql) (0.2.0)\r\n",
      "Requirement already satisfied: setuptools>=18.5 in \/opt\/python\/envs\/default\/lib\/python3.8\/site-packages (from ipython>=1.0->ipython-sql) (65.5.0)\r\n",
      "Requirement already satisfied: pexpect>4.3 in \/opt\/python\/envs\/default\/lib\/python3.8\/site-packages (from ipython>=1.0->ipython-sql) (4.8.0)\r\n",
      "Requirement already satisfied: prompt-toolkit!=3.0.0,!=3.0.1,<3.1.0,>=2.0.0 in \/opt\/python\/envs\/default\/lib\/python3.8\/site-packages (from ipython>=1.0->ipython-sql) (3.0.31)\r\n",
      "Requirement already satisfied: pygments in \/opt\/python\/envs\/default\/lib\/python3.8\/site-packages (from ipython>=1.0->ipython-sql) (2.13.0)\r\n",
      "Requirement already satisfied: decorator in \/opt\/python\/envs\/default\/lib\/python3.8\/site-packages (from ipython>=1.0->ipython-sql) (5.1.1)\r\n",
      "Requirement already satisfied: matplotlib-inline in \/opt\/python\/envs\/default\/lib\/python3.8\/site-packages (from ipython>=1.0->ipython-sql) (0.1.6)\r\n",
      "Requirement already satisfied: jedi>=0.16 in \/opt\/python\/envs\/default\/lib\/python3.8\/site-packages (from ipython>=1.0->ipython-sql) (0.17.2)\r\n",
      "Requirement already satisfied: parso<0.8.0,>=0.7.0 in \/opt\/python\/envs\/default\/lib\/python3.8\/site-packages (from jedi>=0.16->ipython>=1.0->ipython-sql) (0.7.1)\r\n",
      "Requirement already satisfied: ptyprocess>=0.5 in \/opt\/python\/envs\/default\/lib\/python3.8\/site-packages (from pexpect>4.3->ipython>=1.0->ipython-sql) (0.7.0)\r\n",
      "Requirement already satisfied: wcwidth in \/opt\/python\/envs\/default\/lib\/python3.8\/site-packages (from prompt-toolkit!=3.0.0,!=3.0.1,<3.1.0,>=2.0.0->ipython>=1.0->ipython-sql) (0.2.5)\r\n",
      "Building wheels for collected packages: prettytable\r\n",
      "  Building wheel for prettytable (setup.py) ... \u001b[?25l-\b \b\\\b \bdone\r\n",
      "\u001b[?25h  Created wheel for prettytable: filename=prettytable-0.7.2-py3-none-any.whl size=13695 sha256=a864f3e2bb150385064147228180cbf0db46e99f58b2486967bedc2d5f48ebed\r\n",
      "  Stored in directory: \/home\/datalore\/.cache\/pip\/wheels\/48\/6d\/77\/9517cb933af254f51a446f1a5ec9c2be3e45f17384940bce68\r\n",
      "Successfully built prettytable\r\n",
      "Installing collected packages: sqlparse, prettytable, ipython-sql\r\n",
      "Successfully installed ipython-sql-0.4.1 prettytable-0.7.2 sqlparse-0.4.3\r\n",
      "\u001b[33mWARNING: You are using pip version 21.3.1; however, version 22.3 is available.\r\n",
      "You should consider upgrading via the '\/opt\/python\/envs\/default\/bin\/python -m pip install --upgrade pip' command.\u001b[0m\r\n"
     ],
     "output_type":"stream"
    }
   ],
   "metadata":{
    "datalore":{
     "node_id":"TqlNRtUN3StQ6QBFnallpr",
     "type":"CODE",
     "hide_input_from_viewers":false,
     "hide_output_from_viewers":false,
     "report_properties":{
      
     }
    }
   }
  },
  {
   "cell_type":"code",
   "source":[
    "import ibm_db\n",
    "import ibm_db_sa\n",
    "import sqlalchemy"
   ],
   "execution_count":3,
   "outputs":[
    
   ],
   "metadata":{
    "datalore":{
     "node_id":"lzNblvDaaIly45OfW4pC3w",
     "type":"CODE",
     "hide_input_from_viewers":true,
     "hide_output_from_viewers":true
    }
   }
  },
  {
   "cell_type":"markdown",
   "source":[
    "### Connect to the database\n",
    "\n",
    "Let us first load the SQL extension and establish a connection with the database"
   ],
   "attachments":{
    
   },
   "metadata":{
    "datalore":{
     "node_id":"7cOe2Veq5CBxz71Tp58AQd",
     "type":"MD",
     "hide_input_from_viewers":false,
     "hide_output_from_viewers":false,
     "report_properties":{
      
     }
    }
   }
  },
  {
   "cell_type":"markdown",
   "source":[
    "**DB2 magic in case of old UI service credentials.**\n",
    "\n",
    "In the next cell enter your db2 connection string. Recall you created Service Credentials for your Db2 instance before. From the **uri** field of your Db2 service credentials copy everything after db2:\/\/ (except the double quote at the end) and paste it in the cell below after ibm_db_sa:\/\/\n",
    "\n",
    "<img src =\"https:\/\/cf-courses-data.s3.us.cloud-object-storage.appdomain.cloud\/IBMDeveloperSkillsNetwork-DB0201EN-SkillsNetwork\/labs\/FinalModule_edX\/images\/URI.jpg\">\n",
    "\n",
    "in the following format\n",
    "\n",
    "**%sql ibm_db_sa:\/\/my-username:my-password\\@my-hostname:my-port\/my-db-name**\n",
    "\n",
    "**DB2 magic in case of new UI service credentials.**\n",
    "\n",
    "<img src =\"https:\/\/cf-courses-data.s3.us.cloud-object-storage.appdomain.cloud\/IBM-DS0321EN-SkillsNetwork\/labs\/module_2\/images\/servicecredentials.png\" width=600>  \n",
    "\n",
    "*   Use the following format.\n",
    "\n",
    "*   Add security=SSL at the end\n",
    "\n",
    "**%sql ibm_db_sa:\/\/my-username:my-password\\@my-hostname:my-port\/my-db-name?security=SSL**"
   ],
   "attachments":{
    
   },
   "metadata":{
    "datalore":{
     "node_id":"XjVOl8l8fFBIDc0s9kivvT",
     "type":"MD",
     "hide_input_from_viewers":false,
     "hide_output_from_viewers":false,
     "report_properties":{
      
     }
    }
   }
  },
  {
   "cell_type":"code",
   "source":[
    "%load_ext sql"
   ],
   "execution_count":6,
   "outputs":[
    
   ],
   "metadata":{
    "datalore":{
     "node_id":"xUE8J9pf0nfV14tly0s0FB",
     "type":"CODE",
     "hide_input_from_viewers":true,
     "hide_output_from_viewers":true
    }
   }
  },
  {
   "cell_type":"code",
   "source":[
    "%sql ibm_db_sa:\/\/mgc46801:XdBWZ6OysCiP7JIh@98538591-7217-4024-b027-8baa776ffad1.c3n41cmd0nqnrk39u98g.databases.appdomain.cloud:30875\/bludb?security=SSL"
   ],
   "execution_count":7,
   "outputs":[
    {
     "name":"stdout",
     "text":[
      "Connection info needed in SQLAlchemy format, example:\n",
      "               postgresql:\/\/username:password@hostname\/dbname\n",
      "               or an existing connection: dict_keys([])\n",
      "Can't load plugin: sqlalchemy.dialects:ibm_db_sa\n",
      "Connection info needed in SQLAlchemy format, example:\n",
      "               postgresql:\/\/username:password@hostname\/dbname\n",
      "               or an existing connection: dict_keys([])\n"
     ],
     "output_type":"stream"
    }
   ],
   "metadata":{
    "datalore":{
     "node_id":"gECT6gIZoMKY9txOFsYF1V",
     "type":"CODE",
     "hide_input_from_viewers":true,
     "hide_output_from_viewers":true
    }
   }
  },
  {
   "cell_type":"markdown",
   "source":[
    "## Tasks\n",
    "\n",
    "Now write and execute SQL queries to solve the assignment tasks.\n",
    "\n",
    "### Task 1\n",
    "\n",
    "##### Display the names of the unique launch sites  in the space mission"
   ],
   "attachments":{
    
   },
   "metadata":{
    "datalore":{
     "node_id":"b9s0CgAekbEdNwOyEZehbe",
     "type":"MD",
     "hide_input_from_viewers":false,
     "hide_output_from_viewers":false,
     "report_properties":{
      
     }
    }
   }
  },
  {
   "cell_type":"code",
   "source":[
    "%sql SELECT UNIQUE(LAUNCH_SITE) FROM SPACEX;"
   ],
   "execution_count":null,
   "outputs":[
    
   ],
   "metadata":{
    "datalore":{
     "node_id":"PhnWCdFkuTkWbQi8T6X0xA",
     "type":"CODE",
     "hide_input_from_viewers":false,
     "hide_output_from_viewers":false,
     "report_properties":{
      
     }
    }
   }
  },
  {
   "cell_type":"markdown",
   "source":[
    "### Task 2\n",
    "\n",
    "##### Display 5 records where launch sites begin with the string 'CCA'"
   ],
   "attachments":{
    
   },
   "metadata":{
    "datalore":{
     "node_id":"2YiiBVn61XwmyyPvKL7cD6",
     "type":"MD",
     "hide_input_from_viewers":false,
     "hide_output_from_viewers":false,
     "report_properties":{
      
     }
    }
   }
  },
  {
   "cell_type":"code",
   "source":[
    "%sql SELECT * FROM SPACEX WHERE LAUNCH_SITE LIKE '%CCA%' LIMIT 5;"
   ],
   "execution_count":null,
   "outputs":[
    
   ],
   "metadata":{
    "datalore":{
     "node_id":"KNnZtGW2tBMqdDGcBg7nai",
     "type":"CODE",
     "hide_input_from_viewers":false,
     "hide_output_from_viewers":false,
     "report_properties":{
      
     }
    }
   }
  },
  {
   "cell_type":"markdown",
   "source":[
    "### Task 3\n",
    "\n",
    "##### Display the total payload mass carried by boosters launched by NASA (CRS)"
   ],
   "attachments":{
    
   },
   "metadata":{
    "datalore":{
     "node_id":"gGMLfdi0b6cO3ylqcreNkv",
     "type":"MD",
     "hide_input_from_viewers":false,
     "hide_output_from_viewers":false,
     "report_properties":{
      
     }
    }
   }
  },
  {
   "cell_type":"code",
   "source":[
    "%sql SELECT SUM(PAYLOAD_MASS__KG_)as SUMPAYLOAD_MASS FROM SPACEX WHERE CUSTOMER = 'NASA (CRS)';"
   ],
   "execution_count":null,
   "outputs":[
    
   ],
   "metadata":{
    "datalore":{
     "node_id":"GqW1DWQ4im495TDlC5AIEU",
     "type":"CODE",
     "hide_input_from_viewers":false,
     "hide_output_from_viewers":false,
     "report_properties":{
      
     }
    }
   }
  },
  {
   "cell_type":"markdown",
   "source":[
    "### Task 4\n",
    "\n",
    "##### Display average payload mass carried by booster version F9 v1.1"
   ],
   "attachments":{
    
   },
   "metadata":{
    "datalore":{
     "node_id":"7aE0e8vrNWDdQcTeLGo6Jt",
     "type":"MD",
     "hide_input_from_viewers":false,
     "hide_output_from_viewers":false,
     "report_properties":{
      
     }
    }
   }
  },
  {
   "cell_type":"code",
   "source":[
    "%sql SELECT AVG(PAYLOAD_MASS__KG_)as AVGPAYLOAD_MASS FROM SPACEX WHERE BOOSTER_VERSION = 'F9 v1.1';"
   ],
   "execution_count":null,
   "outputs":[
    
   ],
   "metadata":{
    "datalore":{
     "node_id":"Rf0c0ExRlCvzuZByh0MbH5",
     "type":"CODE",
     "hide_input_from_viewers":false,
     "hide_output_from_viewers":false,
     "report_properties":{
      
     }
    }
   }
  },
  {
   "cell_type":"markdown",
   "source":[
    "### Task 5\n",
    "\n",
    "##### List the date when the first successful landing outcome in ground pad was acheived.\n",
    "\n",
    "*Hint:Use min function*"
   ],
   "attachments":{
    
   },
   "metadata":{
    "datalore":{
     "node_id":"ZkeBmiGQtLoRSExmIOWPom",
     "type":"MD",
     "hide_input_from_viewers":false,
     "hide_output_from_viewers":false,
     "report_properties":{
      
     }
    }
   }
  },
  {
   "cell_type":"code",
   "source":[
    "%sql SELECT MIN(DATE)AS DATE_MIN FROM SPACEX WHERE MISSION_OUTCOME = 'Success';"
   ],
   "execution_count":null,
   "outputs":[
    
   ],
   "metadata":{
    "datalore":{
     "node_id":"jViHxwx4V5s88qTSTzsG6x",
     "type":"CODE",
     "hide_input_from_viewers":false,
     "hide_output_from_viewers":false,
     "report_properties":{
      
     }
    }
   }
  },
  {
   "cell_type":"markdown",
   "source":[
    "### Task 6\n",
    "\n",
    "##### List the names of the boosters which have success in drone ship and have payload mass greater than 4000 but less than 6000"
   ],
   "attachments":{
    
   },
   "metadata":{
    "datalore":{
     "node_id":"Io3S1xvZCqSIgMznb5YYYr",
     "type":"MD",
     "hide_input_from_viewers":false,
     "hide_output_from_viewers":false,
     "report_properties":{
      
     }
    }
   }
  },
  {
   "cell_type":"code",
   "source":[
    "%sql SELECT BOOSTER_VERSION FROM SPACEX WHERE PAYLOAD_MASS__KG_ BETWEEN 4000 AND 6000; "
   ],
   "execution_count":null,
   "outputs":[
    
   ],
   "metadata":{
    "datalore":{
     "node_id":"FKZUDzgm7Pp67xbHTMjwn2",
     "type":"CODE",
     "hide_input_from_viewers":false,
     "hide_output_from_viewers":false,
     "report_properties":{
      
     }
    }
   }
  },
  {
   "cell_type":"markdown",
   "source":[
    "### Task 7\n",
    "\n",
    "##### List the total number of successful and failure mission outcomes"
   ],
   "attachments":{
    
   },
   "metadata":{
    "datalore":{
     "node_id":"0FLXIYWsdfFJJVj3Zy6hYg",
     "type":"MD",
     "hide_input_from_viewers":false,
     "hide_output_from_viewers":false,
     "report_properties":{
      
     }
    }
   }
  },
  {
   "cell_type":"code",
   "source":[
    "%sql SELECT COUNT(MISSION_OUTCOME)AS MISSION_OUTCOME_NUM,MISSION_OUTCOME FROM SPACEX GROUP BY MISSION_OUTCOME; "
   ],
   "execution_count":null,
   "outputs":[
    
   ],
   "metadata":{
    "datalore":{
     "node_id":"gn5Y9IsAFh6E7Wj6Aqt9uq",
     "type":"CODE",
     "hide_input_from_viewers":false,
     "hide_output_from_viewers":false,
     "report_properties":{
      
     }
    }
   }
  },
  {
   "cell_type":"markdown",
   "source":[
    "### Task 8\n",
    "\n",
    "##### List the   names of the booster_versions which have carried the maximum payload mass. Use a subquery"
   ],
   "attachments":{
    
   },
   "metadata":{
    "datalore":{
     "node_id":"r7Nix23VKD73zguXfqRl6N",
     "type":"MD",
     "hide_input_from_viewers":false,
     "hide_output_from_viewers":false,
     "report_properties":{
      
     }
    }
   }
  },
  {
   "cell_type":"code",
   "source":[
    "%sql SELECT BOOSTER_VERSION,PAYLOAD_MASS__KG_ FROM SPACEX WHERE PAYLOAD_MASS__KG_ IN (SELECT MAX(PAYLOAD_MASS__KG_) FROM SPACEX);"
   ],
   "execution_count":null,
   "outputs":[
    
   ],
   "metadata":{
    "datalore":{
     "node_id":"9lHUcMjRB0NIfANns4WZgd",
     "type":"CODE",
     "hide_input_from_viewers":false,
     "hide_output_from_viewers":false,
     "report_properties":{
      
     }
    }
   }
  },
  {
   "cell_type":"markdown",
   "source":[
    "### Task 9\n",
    "\n",
    "##### List the failed landing_outcomes in drone ship, their booster versions, and launch site names for in year 2015"
   ],
   "attachments":{
    
   },
   "metadata":{
    "datalore":{
     "node_id":"1VoOeDzmbSCRAVxnhtZarI",
     "type":"MD",
     "hide_input_from_viewers":false,
     "hide_output_from_viewers":false,
     "report_properties":{
      
     }
    }
   }
  },
  {
   "cell_type":"code",
   "source":[
    "%sql SELECT LANDING__OUTCOME,BOOSTER_VERSION,LAUNCH_SITE FROM SPACEX WHERE LANDING__OUTCOME LIKE '%Failure%' AND DATE LIKE '%2015%';"
   ],
   "execution_count":null,
   "outputs":[
    
   ],
   "metadata":{
    "datalore":{
     "node_id":"oI8SJPcjZkkRvLEqQI5KMj",
     "type":"CODE",
     "hide_input_from_viewers":false,
     "hide_output_from_viewers":false,
     "report_properties":{
      
     }
    }
   }
  },
  {
   "cell_type":"markdown",
   "source":[
    "### Task 10\n",
    "\n",
    "##### Rank the count of landing outcomes (such as Failure (drone ship) or Success (ground pad)) between the date 2010-06-04 and 2017-03-20, in descending order"
   ],
   "attachments":{
    
   },
   "metadata":{
    "datalore":{
     "node_id":"AT2UcN5a7gE4FhHup3RoR8",
     "type":"MD",
     "hide_input_from_viewers":false,
     "hide_output_from_viewers":false,
     "report_properties":{
      
     }
    }
   }
  },
  {
   "cell_type":"code",
   "source":[
    "%sql SELECT LANDING__OUTCOME FROM SPACEX WHERE DATE BETWEEN '2010-06-04' AND '2017-03-20' ORDER BY DATE DESC;"
   ],
   "execution_count":null,
   "outputs":[
    
   ],
   "metadata":{
    "datalore":{
     "node_id":"anoNAsplDN6lITWPVpJJBx",
     "type":"CODE",
     "hide_input_from_viewers":false,
     "hide_output_from_viewers":false,
     "report_properties":{
      
     }
    }
   }
  },
  {
   "cell_type":"markdown",
   "source":[
    "### Reference Links\n",
    "\n",
    "*   <a href =\"https:\/\/cf-courses-data.s3.us.cloud-object-storage.appdomain.cloud\/IBMDeveloperSkillsNetwork-DB0201EN-SkillsNetwork\/labs\/Labs_Coursera_V5\/labs\/Lab%20-%20String%20Patterns%20-%20Sorting%20-%20Grouping\/instructional-labs.md.html?utm_medium=Exinfluencer&utm_source=Exinfluencer&utm_content=000026UJ&utm_term=10006555&utm_id=NA-SkillsNetwork-Channel-SkillsNetworkCoursesIBMDS0321ENSkillsNetwork26802033-2022-01-01&origin=www.coursera.org\">Hands-on Lab : String Patterns, Sorting and Grouping<\/a>\n",
    "\n",
    "*   <a  href=\"https:\/\/cf-courses-data.s3.us.cloud-object-storage.appdomain.cloud\/IBMDeveloperSkillsNetwork-DB0201EN-SkillsNetwork\/labs\/Labs_Coursera_V5\/labs\/Lab%20-%20Built-in%20functions%20\/Hands-on_Lab__Built-in_Functions.md.html?utm_medium=Exinfluencer&utm_source=Exinfluencer&utm_content=000026UJ&utm_term=10006555&utm_id=NA-SkillsNetwork-Channel-SkillsNetworkCoursesIBMDS0321ENSkillsNetwork26802033-2022-01-01&origin=www.coursera.org\">Hands-on Lab: Built-in functions<\/a>\n",
    "\n",
    "*   <a  href=\"https:\/\/cf-courses-data.s3.us.cloud-object-storage.appdomain.cloud\/IBMDeveloperSkillsNetwork-DB0201EN-SkillsNetwork\/labs\/Labs_Coursera_V5\/labs\/Lab%20-%20Sub-queries%20and%20Nested%20SELECTs%20\/instructional-labs.md.html?utm_medium=Exinfluencer&utm_source=Exinfluencer&utm_content=000026UJ&utm_term=10006555&utm_id=NA-SkillsNetwork-Channel-SkillsNetworkCoursesIBMDS0321ENSkillsNetwork26802033-2022-01-01&origin=www.coursera.org\">Hands-on Lab : Sub-queries and Nested SELECT Statements<\/a>\n",
    "\n",
    "*   <a href=\"https:\/\/cf-courses-data.s3.us.cloud-object-storage.appdomain.cloud\/IBMDeveloperSkillsNetwork-DB0201EN-SkillsNetwork\/labs\/Module%205\/DB0201EN-Week3-1-3-SQLmagic.ipynb?utm_medium=Exinfluencer&utm_source=Exinfluencer&utm_content=000026UJ&utm_term=10006555&utm_id=NA-SkillsNetwork-Channel-SkillsNetworkCoursesIBMDS0321ENSkillsNetwork26802033-2022-01-01\">Hands-on Tutorial: Accessing Databases with SQL magic<\/a>\n",
    "\n",
    "*   <a href= \"https:\/\/cf-courses-data.s3.us.cloud-object-storage.appdomain.cloud\/IBMDeveloperSkillsNetwork-DB0201EN-SkillsNetwork\/labs\/Module%205\/DB0201EN-Week3-1-4-Analyzing.ipynb?utm_medium=Exinfluencer&utm_source=Exinfluencer&utm_content=000026UJ&utm_term=10006555&utm_id=NA-SkillsNetwork-Channel-SkillsNetworkCoursesIBMDS0321ENSkillsNetwork26802033-2022-01-01\">Hands-on Lab: Analyzing a real World Data Set<\/a>"
   ],
   "attachments":{
    
   },
   "metadata":{
    "datalore":{
     "node_id":"QVabB97U3VkLoViJT0ndJB",
     "type":"MD",
     "hide_input_from_viewers":false,
     "hide_output_from_viewers":false,
     "report_properties":{
      
     }
    }
   }
  },
  {
   "cell_type":"markdown",
   "source":[
    "## Author(s)\n",
    "\n",
    "<h4> Lakshmi Holla <\/h4>"
   ],
   "attachments":{
    
   },
   "metadata":{
    "datalore":{
     "node_id":"WcrXyHNoSkRcEdtBboMEku",
     "type":"MD",
     "hide_input_from_viewers":false,
     "hide_output_from_viewers":false,
     "report_properties":{
      
     }
    }
   }
  },
  {
   "cell_type":"markdown",
   "source":[
    "## Other Contributors\n",
    "\n",
    "<h4> Rav Ahuja <\/h4>"
   ],
   "attachments":{
    
   },
   "metadata":{
    "datalore":{
     "node_id":"SbYXCvm3z4uhddb3HtuBLP",
     "type":"MD",
     "hide_input_from_viewers":false,
     "hide_output_from_viewers":false,
     "report_properties":{
      
     }
    }
   }
  },
  {
   "cell_type":"markdown",
   "source":[
    "## Change log\n",
    "\n",
    "| Date       | Version | Changed by    | Change Description        |\n",
    "| ---------- | ------- | ------------- | ------------------------- |\n",
    "| 2021-10-12 | 0.4     | Lakshmi Holla | Changed markdown          |\n",
    "| 2021-08-24 | 0.3     | Lakshmi Holla | Added library update      |\n",
    "| 2021-07-09 | 0.2     | Lakshmi Holla | Changes made in magic sql |\n",
    "| 2021-05-20 | 0.1     | Lakshmi Holla | Created Initial Version   |"
   ],
   "attachments":{
    
   },
   "metadata":{
    "datalore":{
     "node_id":"6Jd4wwoevTtjK5LNPCvpzd",
     "type":"MD",
     "hide_input_from_viewers":false,
     "hide_output_from_viewers":false,
     "report_properties":{
      
     }
    }
   }
  },
  {
   "cell_type":"markdown",
   "source":[
    "## <h3 align=\"center\"> © IBM Corporation 2021. All rights reserved. <h3\/>"
   ],
   "attachments":{
    
   },
   "metadata":{
    "datalore":{
     "node_id":"0mLMlwtybowD6IOS8kOBRf",
     "type":"MD",
     "hide_input_from_viewers":false,
     "hide_output_from_viewers":false,
     "report_properties":{
      
     }
    }
   }
  }
 ],
 "metadata":{
  "kernelspec":{
   "display_name":"Python",
   "language":"python",
   "name":"python"
  },
  "datalore":{
   "version":1,
   "computation_mode":"JUPYTER",
   "package_manager":"pip",
   "base_environment":"default",
   "packages":[
    
   ]
  }
 },
 "nbformat":4,
 "nbformat_minor":4
}